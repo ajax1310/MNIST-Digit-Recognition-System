{
  "nbformat": 4,
  "nbformat_minor": 0,
  "metadata": {
    "colab": {
      "provenance": []
    },
    "kernelspec": {
      "name": "python3",
      "display_name": "Python 3"
    },
    "language_info": {
      "name": "python"
    }
  },
  "cells": [
    {
      "cell_type": "code",
      "execution_count": 1,
      "metadata": {
        "colab": {
          "base_uri": "https://localhost:8080/"
        },
        "id": "ExnyGYn8mJx1",
        "outputId": "0aecc347-0105-47ae-85e6-1995f89fa053"
      },
      "outputs": [
        {
          "output_type": "stream",
          "name": "stdout",
          "text": [
            "Mounted at /content/drive\n"
          ]
        }
      ],
      "source": [
        "from google.colab import drive\n",
        "drive.mount('/content/drive')"
      ]
    },
    {
      "cell_type": "code",
      "source": [
        "import pandas as pd\n",
        "\n",
        "path_train = '/content/drive/MyDrive/Datasets/train.csv'\n",
        "path_test='/content/drive/MyDrive/Datasets/test.csv'\n",
        "\n",
        "df_train = pd.read_csv(path_train)\n",
        "df_test=pd.read_csv(path_test)\n"
      ],
      "metadata": {
        "id": "C9IhAZqlROgP"
      },
      "execution_count": 2,
      "outputs": []
    },
    {
      "cell_type": "code",
      "source": [
        "import numpy as np\n",
        "import matplotlib.pyplot as plt\n",
        "\n",
        "import tensorflow as tf\n",
        "from tensorflow import keras\n",
        "from tensorflow.keras import layers, models"
      ],
      "metadata": {
        "id": "jQ0Xgd6BSVbk"
      },
      "execution_count": 3,
      "outputs": []
    },
    {
      "cell_type": "code",
      "source": [
        "X = df_train.drop(columns=['label'])\n",
        "y = df_train['label']\n",
        "\n",
        "print(X.shape)\n",
        "print(y.shape)"
      ],
      "metadata": {
        "colab": {
          "base_uri": "https://localhost:8080/"
        },
        "id": "K1QkQLp_SjdM",
        "outputId": "a7aeb637-f9c8-4c29-c8eb-8eac11dc9524"
      },
      "execution_count": 4,
      "outputs": [
        {
          "output_type": "stream",
          "name": "stdout",
          "text": [
            "(42000, 784)\n",
            "(42000,)\n"
          ]
        }
      ]
    },
    {
      "cell_type": "code",
      "source": [
        "from sklearn.model_selection import train_test_split\n",
        "X_train, X_test, y_train, y_test = train_test_split(X,y,test_size=0.2, random_state=42)"
      ],
      "metadata": {
        "id": "vDWuumnySjgo"
      },
      "execution_count": 5,
      "outputs": []
    },
    {
      "cell_type": "code",
      "source": [
        "print(X_train.shape, X_test.shape, y_train.shape, y_test.shape)\n"
      ],
      "metadata": {
        "colab": {
          "base_uri": "https://localhost:8080/"
        },
        "id": "OAnvkcoUTXcX",
        "outputId": "2dd2ebda-c1fe-4afb-9022-8cdd86bc4427"
      },
      "execution_count": 6,
      "outputs": [
        {
          "output_type": "stream",
          "name": "stdout",
          "text": [
            "(33600, 784) (8400, 784) (33600,) (8400,)\n"
          ]
        }
      ]
    },
    {
      "cell_type": "code",
      "source": [
        "#Converted it into numpy.ndarray \"X_train=X_train.values\"\n",
        "\n",
        "X_train=X_train.values\n",
        "X_test=X_test.values\n",
        "\n",
        "y_train= y_train.values\n",
        "y_test=y_test.values\n",
        "\n",
        "\n",
        "\n",
        "print(type(X_train),type(X_test),type(y_train),type(y_test))\n",
        "\n",
        "print((X_train.shape),(X_test.shape),(y_train.shape),(y_test.shape))"
      ],
      "metadata": {
        "colab": {
          "base_uri": "https://localhost:8080/"
        },
        "id": "yO-DD3veTXfh",
        "outputId": "4fb8d6a9-11c9-41a8-f342-e2b0a84b9e65"
      },
      "execution_count": 7,
      "outputs": [
        {
          "output_type": "stream",
          "name": "stdout",
          "text": [
            "<class 'numpy.ndarray'> <class 'numpy.ndarray'> <class 'numpy.ndarray'> <class 'numpy.ndarray'>\n",
            "(33600, 784) (8400, 784) (33600,) (8400,)\n"
          ]
        }
      ]
    },
    {
      "cell_type": "code",
      "source": [
        "#Scaling\n",
        "X_train= X_train/255.0\n",
        "X_test= X_test/255.0"
      ],
      "metadata": {
        "id": "HENXJSpcVaOi"
      },
      "execution_count": 8,
      "outputs": []
    },
    {
      "cell_type": "code",
      "source": [
        "print(X_train[10])"
      ],
      "metadata": {
        "colab": {
          "base_uri": "https://localhost:8080/"
        },
        "id": "eXZroZOVVmDc",
        "outputId": "efa5ef20-c632-4651-98ac-04d5726d9c6e"
      },
      "execution_count": 9,
      "outputs": [
        {
          "output_type": "stream",
          "name": "stdout",
          "text": [
            "[0.         0.         0.         0.         0.         0.\n",
            " 0.         0.         0.         0.         0.         0.\n",
            " 0.         0.         0.         0.         0.         0.\n",
            " 0.         0.         0.         0.         0.         0.\n",
            " 0.         0.         0.         0.         0.         0.\n",
            " 0.         0.         0.         0.         0.         0.\n",
            " 0.         0.         0.         0.         0.         0.\n",
            " 0.         0.         0.         0.         0.         0.\n",
            " 0.         0.         0.         0.         0.         0.\n",
            " 0.         0.         0.         0.         0.         0.\n",
            " 0.         0.         0.         0.         0.         0.\n",
            " 0.         0.         0.         0.         0.         0.\n",
            " 0.         0.         0.         0.         0.         0.\n",
            " 0.         0.         0.         0.         0.         0.\n",
            " 0.         0.         0.         0.         0.         0.\n",
            " 0.         0.         0.         0.         0.         0.\n",
            " 0.         0.         0.         0.         0.         0.\n",
            " 0.         0.         0.         0.         0.         0.\n",
            " 0.         0.         0.         0.         0.         0.\n",
            " 0.         0.         0.         0.         0.         0.\n",
            " 0.         0.         0.         0.         0.         0.\n",
            " 0.         0.         0.         0.         0.         0.\n",
            " 0.         0.         0.         0.         0.         0.\n",
            " 0.         0.         0.         0.         0.         0.\n",
            " 0.         0.         0.         0.         0.         0.\n",
            " 0.         0.         0.         0.         0.         0.\n",
            " 0.         0.         0.         0.         0.         0.\n",
            " 0.         0.         0.         0.         0.         0.\n",
            " 0.         0.         0.         0.         0.         0.\n",
            " 0.         0.         0.         0.         0.14509804 0.58823529\n",
            " 0.99607843 1.         0.99607843 0.81568627 0.47058824 0.\n",
            " 0.         0.         0.         0.         0.         0.\n",
            " 0.         0.         0.         0.         0.         0.\n",
            " 0.         0.         0.         0.         0.         0.\n",
            " 0.         0.48235294 0.95686275 0.99215686 0.99215686 0.99607843\n",
            " 0.99215686 0.99215686 0.98431373 0.79607843 0.07843137 0.\n",
            " 0.         0.         0.         0.         0.         0.\n",
            " 0.         0.         0.         0.         0.         0.\n",
            " 0.         0.         0.         0.         0.6        0.98039216\n",
            " 0.99215686 0.7254902  0.24313725 0.14117647 0.14117647 0.31764706\n",
            " 0.70588235 0.99215686 0.80392157 0.08627451 0.         0.\n",
            " 0.         0.         0.         0.         0.         0.\n",
            " 0.         0.         0.         0.         0.         0.\n",
            " 0.00784314 0.45490196 0.99607843 0.99215686 0.70196078 0.04705882\n",
            " 0.         0.         0.         0.         0.09411765 0.59215686\n",
            " 0.96862745 0.70196078 0.         0.         0.         0.\n",
            " 0.         0.         0.         0.         0.         0.\n",
            " 0.         0.         0.         0.         0.0745098  0.99215686\n",
            " 0.99607843 0.70980392 0.04313725 0.         0.         0.\n",
            " 0.         0.         0.         0.         0.50980392 0.92941176\n",
            " 0.10196078 0.         0.         0.         0.         0.\n",
            " 0.         0.         0.         0.         0.         0.\n",
            " 0.         0.04313725 0.71764706 0.99607843 1.         0.07058824\n",
            " 0.         0.         0.         0.         0.         0.\n",
            " 0.         0.         0.10588235 0.94901961 0.14117647 0.\n",
            " 0.         0.         0.         0.         0.         0.\n",
            " 0.         0.         0.         0.         0.         0.14509804\n",
            " 0.99215686 0.99215686 0.65098039 0.00784314 0.         0.\n",
            " 0.         0.         0.         0.         0.24705882 0.56862745\n",
            " 0.67058824 0.8627451  0.0627451  0.         0.         0.\n",
            " 0.         0.         0.         0.         0.         0.\n",
            " 0.         0.         0.         0.32156863 0.99215686 0.99215686\n",
            " 0.18039216 0.         0.         0.         0.         0.\n",
            " 0.03137255 0.14509804 0.63529412 0.99215686 0.99607843 0.29803922\n",
            " 0.         0.         0.         0.         0.         0.\n",
            " 0.         0.         0.         0.         0.         0.\n",
            " 0.         0.34901961 0.99215686 0.99215686 0.         0.\n",
            " 0.         0.         0.         0.         0.49803922 0.99215686\n",
            " 0.99215686 0.99215686 0.76862745 0.01568627 0.         0.\n",
            " 0.         0.         0.         0.         0.         0.\n",
            " 0.         0.         0.         0.         0.         0.14509804\n",
            " 0.99215686 0.99215686 0.38431373 0.         0.         0.\n",
            " 0.         0.         0.69411765 0.99215686 0.99215686 0.99215686\n",
            " 0.81176471 0.02745098 0.         0.         0.         0.\n",
            " 0.         0.         0.         0.         0.         0.\n",
            " 0.         0.         0.         0.05490196 0.63137255 0.99607843\n",
            " 1.         0.58823529 0.28627451 0.31372549 0.63921569 0.87058824\n",
            " 0.99607843 0.99607843 0.89411765 0.99607843 1.         0.29803922\n",
            " 0.         0.         0.         0.         0.         0.\n",
            " 0.         0.         0.         0.         0.         0.\n",
            " 0.         0.         0.05490196 0.54901961 0.99607843 0.99215686\n",
            " 0.99215686 0.99215686 0.99215686 0.99607843 0.71372549 0.24705882\n",
            " 0.44313725 0.99215686 0.99607843 0.50196078 0.         0.\n",
            " 0.         0.         0.         0.         0.         0.\n",
            " 0.         0.         0.         0.         0.         0.\n",
            " 0.         0.         0.49803922 0.56862745 0.84705882 0.84705882\n",
            " 0.59215686 0.27058824 0.01176471 0.         0.42745098 0.99215686\n",
            " 0.99607843 0.77647059 0.         0.         0.         0.\n",
            " 0.         0.         0.         0.         0.         0.\n",
            " 0.         0.         0.         0.         0.         0.\n",
            " 0.         0.         0.         0.         0.         0.\n",
            " 0.         0.         0.40392157 0.99215686 0.99607843 0.77647059\n",
            " 0.         0.         0.         0.         0.         0.\n",
            " 0.         0.         0.         0.         0.         0.\n",
            " 0.         0.         0.         0.         0.         0.\n",
            " 0.         0.         0.         0.         0.         0.\n",
            " 0.0745098  0.99215686 0.99607843 0.77647059 0.         0.\n",
            " 0.         0.         0.         0.         0.         0.\n",
            " 0.         0.         0.         0.         0.         0.\n",
            " 0.         0.         0.         0.         0.         0.\n",
            " 0.         0.         0.         0.         0.0745098  0.99607843\n",
            " 1.         0.78039216 0.         0.         0.         0.\n",
            " 0.         0.         0.         0.         0.         0.\n",
            " 0.         0.         0.         0.         0.         0.\n",
            " 0.         0.         0.         0.         0.         0.\n",
            " 0.         0.         0.0745098  0.99215686 0.99607843 0.77647059\n",
            " 0.         0.         0.         0.         0.         0.\n",
            " 0.         0.         0.         0.         0.         0.\n",
            " 0.         0.         0.         0.         0.         0.\n",
            " 0.         0.         0.         0.         0.         0.\n",
            " 0.01176471 0.56862745 0.99607843 0.77647059 0.         0.\n",
            " 0.         0.         0.         0.         0.         0.\n",
            " 0.         0.         0.         0.         0.         0.\n",
            " 0.         0.         0.         0.         0.         0.\n",
            " 0.         0.         0.         0.         0.         0.33333333\n",
            " 0.99607843 0.77647059 0.         0.         0.         0.\n",
            " 0.         0.         0.         0.         0.         0.\n",
            " 0.         0.         0.         0.         0.         0.\n",
            " 0.         0.         0.         0.         0.         0.\n",
            " 0.         0.         0.         0.         0.86666667 0.65098039\n",
            " 0.         0.         0.         0.         0.         0.\n",
            " 0.         0.         0.         0.         0.         0.\n",
            " 0.         0.         0.         0.         0.         0.\n",
            " 0.         0.         0.         0.         0.         0.\n",
            " 0.         0.         0.         0.         0.         0.\n",
            " 0.         0.         0.         0.         0.         0.\n",
            " 0.         0.         0.         0.         0.         0.\n",
            " 0.         0.         0.         0.         0.         0.\n",
            " 0.         0.         0.         0.         0.         0.\n",
            " 0.         0.         0.         0.         0.         0.\n",
            " 0.         0.         0.         0.        ]\n"
          ]
        }
      ]
    },
    {
      "cell_type": "markdown",
      "source": [
        "Reshaping it for plotting"
      ],
      "metadata": {
        "id": "9W-dfx8rZ5-6"
      }
    },
    {
      "cell_type": "code",
      "source": [
        "X_train = X_train.reshape(33600, 28, 28, 1)\n",
        "X_test = X_test.reshape(8400, 28, 28, 1)"
      ],
      "metadata": {
        "id": "6pGgqMcEYjV1"
      },
      "execution_count": 10,
      "outputs": []
    },
    {
      "cell_type": "code",
      "source": [
        "plt.imshow(X_train[10])\n",
        "plt.show\n",
        "\n",
        "print(y_train[10])"
      ],
      "metadata": {
        "colab": {
          "base_uri": "https://localhost:8080/",
          "height": 447
        },
        "id": "rNNRJSL2YMBz",
        "outputId": "ef7f5ffd-5a79-4dd5-937d-d7d42b4fbf34"
      },
      "execution_count": 11,
      "outputs": [
        {
          "output_type": "stream",
          "name": "stdout",
          "text": [
            "9\n"
          ]
        },
        {
          "output_type": "display_data",
          "data": {
            "text/plain": [
              "<Figure size 640x480 with 1 Axes>"
            ],
            "image/png": "[encoded data removed]"
          },
          "metadata": {}
        }
      ]
    },
    {
      "cell_type": "code",
      "source": [
        "plt.figure(figsize=(10,10))\n",
        "for i in range(25):\n",
        "    plt.subplot(5,5,i+1)\n",
        "    plt.xticks([])\n",
        "    plt.yticks([])\n",
        "    plt.grid(False)\n",
        "    plt.imshow(X_train[i], cmap=plt.cm.binary)\n",
        "    plt.xlabel(y_train[i])\n",
        "plt.show()"
      ],
      "metadata": {
        "colab": {
          "base_uri": "https://localhost:8080/",
          "height": 826
        },
        "id": "PNqkNzr8ZCdQ",
        "outputId": "85b493ec-db1d-424b-d04d-c922567d6845"
      },
      "execution_count": 12,
      "outputs": [
        {
          "output_type": "display_data",
          "data": {
            "text/plain": [
              "<Figure size 1000x1000 with 25 Axes>"
            ],
            "image/png": "[encoded data removed]"
          },
          "metadata": {}
        }
      ]
    },
    {
      "cell_type": "markdown",
      "source": [
        "### Building the Neural Network"
      ],
      "metadata": {
        "id": "xJ0h7nWqandq"
      }
    },
    {
      "cell_type": "code",
      "source": [
        "from tensorflow.keras import Sequential\n",
        "from tensorflow.keras.layers import Dense, Flatten\n",
        "model=Sequential([\n",
        "    Flatten(input_shape=(28,28)),\n",
        "    Dense(128, activation='relu'),\n",
        "    Dense(64, activation='relu'),\n",
        "    Dense(10, activation = 'softmax')\n",
        "])"
      ],
      "metadata": {
        "id": "YrNQF2WrVhDs"
      },
      "execution_count": 13,
      "outputs": []
    },
    {
      "cell_type": "code",
      "source": [
        "#Compiling\n",
        "\n",
        "model.compile(optimizer='Adam', loss= 'SparseCategoricalCrossentropy', metrics=['accuracy'])"
      ],
      "metadata": {
        "id": "y_ho4h51al_U"
      },
      "execution_count": 14,
      "outputs": []
    },
    {
      "cell_type": "code",
      "source": [
        "#Fitting the model\n",
        "\n",
        "model.fit(X_train, y_train, epochs=10)"
      ],
      "metadata": {
        "colab": {
          "base_uri": "https://localhost:8080/"
        },
        "id": "PupZFHgjbe2W",
        "outputId": "e8a44cc4-4279-4ee4-ee4f-880a4a7106a4"
      },
      "execution_count": 15,
      "outputs": [
        {
          "output_type": "stream",
          "name": "stdout",
          "text": [
            "Epoch 1/10\n",
            "1050/1050 [==============================] - 6s 4ms/step - loss: 0.3099 - accuracy: 0.9090\n",
            "Epoch 2/10\n",
            "1050/1050 [==============================] - 4s 4ms/step - loss: 0.1298 - accuracy: 0.9605\n",
            "Epoch 3/10\n",
            "1050/1050 [==============================] - 5s 5ms/step - loss: 0.0898 - accuracy: 0.9727\n",
            "Epoch 4/10\n",
            "1050/1050 [==============================] - 5s 5ms/step - loss: 0.0648 - accuracy: 0.9804\n",
            "Epoch 5/10\n",
            "1050/1050 [==============================] - 4s 4ms/step - loss: 0.0527 - accuracy: 0.9830\n",
            "Epoch 6/10\n",
            "1050/1050 [==============================] - 4s 4ms/step - loss: 0.0401 - accuracy: 0.9868\n",
            "Epoch 7/10\n",
            "1050/1050 [==============================] - 6s 6ms/step - loss: 0.0327 - accuracy: 0.9887\n",
            "Epoch 8/10\n",
            "1050/1050 [==============================] - 4s 4ms/step - loss: 0.0278 - accuracy: 0.9911\n",
            "Epoch 9/10\n",
            "1050/1050 [==============================] - 4s 4ms/step - loss: 0.0234 - accuracy: 0.9923\n",
            "Epoch 10/10\n",
            "1050/1050 [==============================] - 7s 7ms/step - loss: 0.0187 - accuracy: 0.9936\n"
          ]
        },
        {
          "output_type": "execute_result",
          "data": {
            "text/plain": [
              "<keras.src.callbacks.History at 0x78bf26f0b8b0>"
            ]
          },
          "metadata": {},
          "execution_count": 15
        }
      ]
    },
    {
      "cell_type": "markdown",
      "source": [
        "Training Data Accuracy= 97.39"
      ],
      "metadata": {
        "id": "SnC0rFbIcnHZ"
      }
    },
    {
      "cell_type": "code",
      "source": [
        "#Accuracy on test data\n",
        "\n",
        "loss, accuracy= model.evaluate(X_test, y_test)"
      ],
      "metadata": {
        "colab": {
          "base_uri": "https://localhost:8080/"
        },
        "id": "kYa5T-XEbe8G",
        "outputId": "4bcb7d6e-e7e2-4148-fb24-273fc745933f"
      },
      "execution_count": 16,
      "outputs": [
        {
          "output_type": "stream",
          "name": "stdout",
          "text": [
            "263/263 [==============================] - 1s 3ms/step - loss: 0.1190 - accuracy: 0.9725\n"
          ]
        }
      ]
    },
    {
      "cell_type": "markdown",
      "source": [
        "Test data accuracy= 95.69\n"
      ],
      "metadata": {
        "id": "0aHuIMLtdBTt"
      }
    },
    {
      "cell_type": "code",
      "source": [
        "plt.imshow(X_test[10])\n",
        "plt.show\n",
        "\n",
        "print(y_test[10])"
      ],
      "metadata": {
        "colab": {
          "base_uri": "https://localhost:8080/",
          "height": 447
        },
        "id": "-r__kBxudGqN",
        "outputId": "db2b7598-c54c-49ec-8389-27d3bd0657e2"
      },
      "execution_count": 17,
      "outputs": [
        {
          "output_type": "stream",
          "name": "stdout",
          "text": [
            "6\n"
          ]
        },
        {
          "output_type": "display_data",
          "data": {
            "text/plain": [
              "<Figure size 640x480 with 1 Axes>"
            ],
            "image/png": "[encoded data removed]"
          },
          "metadata": {}
        }
      ]
    },
    {
      "cell_type": "code",
      "source": [
        "y_pred=model.predict(X_test)\n",
        "\n",
        "print(y_pred[0])"
      ],
      "metadata": {
        "colab": {
          "base_uri": "https://localhost:8080/"
        },
        "id": "mCpBlDIqdXvd",
        "outputId": "2053e688-e4a3-48ab-9687-496aae515de7"
      },
      "execution_count": 18,
      "outputs": [
        {
          "output_type": "stream",
          "name": "stdout",
          "text": [
            "263/263 [==============================] - 1s 3ms/step\n",
            "[4.4494840e-08 3.0600024e-08 1.1477340e-06 5.3913391e-07 4.5508687e-11\n",
            " 1.3479270e-13 8.5685675e-10 3.1986307e-09 9.9999815e-01 5.4406182e-09]\n"
          ]
        }
      ]
    },
    {
      "cell_type": "markdown",
      "source": [
        "Model gives probability of each class for that data point\n"
      ],
      "metadata": {
        "id": "q3F7YXC1fjSM"
      }
    },
    {
      "cell_type": "code",
      "source": [
        "y_pred_labels= [np.argmax(i) for i in y_pred]\n",
        "print(y_pred_labels)\n",
        "\n",
        "print(y_test)"
      ],
      "metadata": {
        "colab": {
          "base_uri": "https://localhost:8080/"
        },
        "id": "X6ODeO_1frPX",
        "outputId": "51eadce7-f951-4ffc-c4da-c4edcdc56008"
      },
      "execution_count": 19,
      "outputs": [
        {
          "output_type": "stream",
          "name": "stdout",
          "text": [
            "[8, 1, 9, 9, 8, 6, 2, 2, 7, 1, 6, 3, 1, 2, 7, 4, 3, 3, 6, 4, 9, 5, 2, 6, 0, 0, 0, 8, 6, 3, 6, 6, 1, 9, 8, 6, 7, 3, 6, 1, 9, 7, 9, 6, 8, 3, 4, 2, 7, 8, 4, 3, 3, 7, 1, 2, 6, 2, 9, 6, 4, 0, 4, 8, 5, 5, 4, 3, 9, 3, 9, 4, 2, 8, 1, 6, 3, 7, 0, 3, 1, 7, 6, 7, 6, 1, 9, 5, 3, 6, 9, 3, 7, 6, 6, 5, 2, 9, 5, 5, 4, 6, 0, 4, 1, 1, 1, 6, 8, 9, 1, 1, 4, 7, 1, 0, 3, 6, 9, 8, 1, 3, 7, 3, 9, 6, 5, 7, 1, 0, 6, 5, 6, 4, 2, 0, 9, 9, 9, 4, 2, 3, 6, 4, 0, 9, 9, 1, 7, 7, 1, 6, 8, 1, 7, 6, 6, 5, 7, 9, 9, 0, 7, 9, 9, 1, 3, 6, 5, 8, 7, 1, 6, 7, 0, 9, 3, 0, 8, 6, 0, 1, 9, 9, 2, 3, 7, 2, 6, 6, 6, 8, 9, 6, 0, 7, 4, 5, 5, 6, 3, 1, 5, 3, 7, 9, 9, 0, 7, 4, 7, 5, 1, 1, 0, 2, 5, 3, 8, 1, 3, 9, 3, 6, 7, 3, 1, 3, 4, 4, 0, 2, 7, 1, 4, 2, 1, 0, 5, 3, 9, 8, 7, 6, 5, 1, 0, 5, 7, 9, 7, 1, 7, 7, 4, 2, 2, 3, 4, 5, 2, 6, 4, 1, 8, 8, 5, 5, 5, 4, 9, 6, 6, 6, 1, 0, 6, 3, 1, 9, 9, 0, 8, 3, 9, 7, 7, 2, 3, 1, 8, 2, 6, 1, 5, 1, 0, 0, 5, 3, 5, 6, 9, 6, 7, 1, 1, 3, 7, 3, 2, 5, 1, 8, 3, 1, 0, 1, 2, 9, 7, 2, 7, 8, 2, 7, 0, 3, 9, 4, 0, 1, 6, 9, 2, 6, 2, 3, 3, 0, 3, 3, 0, 1, 0, 0, 6, 8, 2, 4, 7, 1, 8, 7, 0, 5, 6, 1, 5, 7, 3, 9, 9, 3, 5, 3, 8, 9, 2, 1, 0, 7, 7, 4, 0, 2, 0, 7, 0, 8, 7, 0, 0, 4, 8, 8, 7, 2, 1, 7, 0, 7, 6, 1, 4, 7, 6, 2, 1, 2, 4, 6, 1, 1, 6, 6, 0, 2, 2, 9, 3, 1, 2, 4, 1, 2, 3, 9, 7, 4, 1, 6, 0, 9, 0, 3, 2, 3, 0, 7, 9, 8, 6, 8, 4, 1, 4, 5, 8, 4, 0, 9, 6, 6, 3, 3, 3, 7, 4, 5, 5, 3, 1, 8, 7, 7, 4, 8, 4, 8, 6, 3, 6, 0, 6, 8, 8, 8, 4, 0, 0, 7, 8, 9, 6, 7, 3, 1, 5, 8, 1, 3, 0, 1, 3, 1, 1, 6, 6, 2, 1, 7, 2, 8, 2, 6, 0, 2, 0, 2, 6, 1, 2, 2, 7, 6, 7, 0, 6, 8, 2, 4, 7, 6, 3, 0, 3, 0, 3, 3, 5, 5, 2, 4, 7, 7, 3, 8, 3, 5, 1, 5, 2, 9, 7, 8, 6, 3, 0, 4, 8, 2, 1, 9, 0, 1, 4, 1, 8, 9, 2, 7, 9, 0, 2, 4, 1, 2, 9, 5, 1, 3, 7, 3, 8, 2, 2, 1, 6, 6, 4, 4, 0, 9, 1, 2, 5, 9, 2, 3, 3, 0, 3, 2, 8, 4, 3, 2, 3, 6, 1, 0, 0, 5, 8, 1, 1, 0, 4, 5, 8, 3, 6, 7, 2, 7, 0, 6, 2, 2, 9, 0, 4, 4, 1, 9, 9, 7, 5, 1, 2, 6, 3, 4, 2, 0, 1, 5, 3, 1, 6, 5, 6, 5, 4, 1, 1, 2, 4, 1, 9, 2, 5, 3, 9, 1, 4, 7, 1, 0, 1, 4, 3, 3, 9, 6, 6, 7, 5, 4, 6, 1, 8, 3, 5, 2, 9, 3, 2, 6, 3, 7, 6, 6, 6, 2, 1, 6, 4, 2, 6, 7, 3, 9, 0, 2, 7, 6, 0, 4, 3, 9, 6, 6, 0, 2, 5, 6, 5, 7, 2, 4, 8, 5, 1, 7, 8, 3, 7, 1, 4, 6, 5, 8, 9, 3, 8, 1, 0, 4, 1, 7, 7, 9, 1, 6, 6, 3, 2, 9, 2, 9, 9, 9, 2, 4, 3, 1, 9, 5, 1, 0, 7, 8, 9, 0, 6, 6, 8, 6, 7, 5, 4, 2, 9, 7, 8, 7, 1, 2, 3, 5, 7, 3, 6, 8, 0, 0, 6, 8, 5, 0, 9, 9, 5, 7, 2, 0, 9, 8, 0, 7, 2, 3, 3, 6, 6, 7, 9, 7, 3, 4, 2, 8, 0, 1, 3, 3, 9, 0, 6, 9, 5, 8, 2, 6, 5, 7, 3, 4, 6, 5, 8, 1, 7, 8, 3, 6, 3, 8, 1, 7, 3, 7, 4, 1, 1, 7, 3, 7, 5, 0, 1, 0, 9, 3, 7, 6, 2, 4, 9, 6, 5, 9, 2, 6, 9, 3, 0, 8, 6, 8, 9, 7, 9, 8, 3, 4, 4, 0, 2, 8, 3, 6, 3, 4, 1, 0, 4, 2, 7, 6, 8, 2, 8, 4, 5, 1, 1, 1, 5, 6, 9, 3, 1, 3, 2, 9, 8, 8, 2, 9, 0, 3, 0, 8, 5, 4, 2, 0, 3, 3, 4, 7, 9, 2, 1, 1, 4, 2, 8, 5, 0, 3, 9, 3, 3, 2, 7, 8, 2, 7, 4, 7, 3, 0, 1, 4, 6, 7, 9, 6, 6, 3, 1, 9, 6, 6, 3, 7, 0, 9, 2, 9, 5, 3, 2, 1, 1, 4, 1, 5, 0, 6, 3, 1, 0, 7, 0, 3, 1, 2, 0, 2, 7, 3, 9, 0, 1, 8, 0, 1, 3, 3, 8, 4, 9, 4, 3, 3, 0, 2, 3, 0, 6, 4, 3, 5, 5, 4, 3, 3, 6, 1, 8, 3, 7, 1, 2, 6, 2, 6, 4, 8, 4, 7, 9, 9, 5, 7, 4, 2, 5, 9, 0, 2, 9, 7, 4, 5, 8, 7, 0, 3, 8, 4, 0, 9, 6, 2, 4, 8, 0, 8, 0, 0, 6, 1, 1, 8, 3, 9, 1, 3, 0, 7, 4, 8, 8, 7, 3, 1, 6, 5, 2, 9, 0, 3, 9, 8, 1, 2, 2, 9, 1, 5, 6, 4, 4, 1, 6, 1, 0, 8, 1, 7, 7, 1, 4, 9, 2, 7, 4, 0, 6, 4, 3, 2, 6, 2, 6, 0, 9, 1, 6, 4, 1, 9, 2, 0, 2, 2, 2, 8, 8, 5, 6, 2, 4, 9, 0, 8, 4, 9, 0, 4, 1, 0, 3, 2, 7, 4, 6, 3, 3, 0, 0, 9, 3, 3, 7, 0, 8, 2, 7, 1, 3, 7, 4, 3, 5, 6, 0, 4, 6, 9, 3, 7, 9, 6, 3, 8, 8, 4, 7, 2, 4, 7, 0, 1, 6, 3, 0, 3, 3, 0, 2, 3, 7, 1, 8, 6, 4, 0, 0, 4, 1, 6, 3, 3, 3, 1, 0, 8, 2, 2, 2, 8, 7, 2, 3, 0, 9, 7, 6, 7, 6, 5, 8, 9, 7, 2, 0, 1, 4, 6, 3, 5, 1, 0, 5, 2, 5, 9, 9, 0, 3, 3, 3, 7, 2, 7, 2, 2, 5, 1, 9, 7, 1, 9, 7, 7, 3, 5, 9, 7, 0, 8, 8, 3, 0, 4, 5, 8, 6, 1, 3, 6, 3, 9, 6, 8, 4, 3, 7, 1, 5, 0, 9, 5, 6, 9, 8, 2, 2, 3, 1, 4, 6, 0, 7, 3, 7, 3, 8, 2, 8, 7, 8, 5, 9, 2, 5, 4, 3, 3, 0, 7, 2, 9, 4, 0, 4, 5, 2, 4, 1, 8, 8, 5, 8, 4, 2, 8, 5, 0, 3, 6, 4, 2, 3, 4, 2, 8, 6, 2, 0, 1, 0, 8, 1, 1, 3, 9, 9, 6, 5, 1, 8, 7, 3, 2, 5, 1, 8, 1, 5, 3, 1, 0, 8, 2, 2, 1, 0, 0, 0, 0, 1, 9, 7, 0, 4, 3, 8, 8, 0, 2, 0, 8, 8, 4, 9, 6, 9, 4, 8, 5, 2, 9, 1, 4, 3, 3, 8, 5, 8, 3, 0, 0, 7, 9, 8, 7, 7, 5, 7, 7, 9, 9, 3, 3, 0, 3, 8, 0, 2, 9, 3, 5, 0, 6, 3, 3, 1, 5, 9, 1, 4, 3, 5, 3, 9, 9, 8, 2, 0, 6, 0, 1, 2, 0, 0, 5, 2, 3, 3, 0, 1, 4, 1, 9, 7, 7, 7, 9, 2, 6, 7, 7, 7, 4, 2, 9, 8, 1, 9, 6, 7, 1, 5, 4, 1, 7, 6, 5, 6, 7, 6, 1, 2, 8, 2, 7, 7, 0, 7, 7, 6, 4, 5, 0, 5, 8, 3, 9, 1, 5, 8, 1, 1, 9, 2, 3, 2, 7, 7, 5, 8, 6, 3, 8, 3, 3, 8, 4, 1, 2, 1, 2, 8, 8, 2, 7, 0, 9, 2, 2, 8, 4, 0, 7, 7, 3, 1, 2, 3, 3, 7, 2, 0, 7, 5, 8, 4, 7, 9, 0, 4, 6, 9, 3, 9, 0, 6, 0, 7, 3, 8, 2, 2, 2, 3, 8, 7, 8, 3, 6, 5, 8, 8, 7, 6, 7, 8, 0, 2, 4, 6, 4, 9, 0, 1, 3, 0, 7, 9, 3, 1, 8, 1, 5, 5, 7, 4, 5, 1, 6, 5, 1, 5, 7, 6, 9, 8, 8, 7, 3, 4, 2, 7, 8, 0, 7, 7, 0, 6, 4, 9, 0, 5, 7, 0, 2, 2, 4, 2, 0, 6, 3, 1, 3, 4, 5, 6, 3, 8, 8, 5, 5, 1, 3, 6, 5, 4, 7, 1, 1, 2, 4, 3, 9, 2, 2, 6, 8, 4, 1, 4, 9, 9, 0, 4, 4, 1, 3, 5, 2, 9, 1, 0, 4, 0, 2, 8, 2, 3, 8, 3, 0, 1, 8, 0, 0, 3, 4, 8, 1, 7, 1, 4, 1, 0, 2, 7, 7, 2, 1, 3, 4, 1, 0, 4, 7, 0, 8, 7, 2, 3, 2, 8, 6, 5, 3, 8, 9, 5, 5, 9, 6, 3, 2, 7, 2, 3, 4, 1, 6, 4, 9, 9, 9, 8, 1, 5, 0, 4, 9, 2, 2, 9, 0, 4, 7, 4, 4, 1, 3, 6, 5, 6, 9, 2, 9, 7, 3, 0, 6, 7, 7, 5, 6, 1, 9, 7, 5, 6, 1, 4, 0, 7, 2, 3, 1, 4, 9, 4, 1, 1, 2, 5, 4, 5, 9, 1, 6, 4, 4, 1, 1, 8, 2, 6, 3, 4, 2, 4, 3, 5, 5, 0, 6, 8, 9, 1, 7, 2, 2, 4, 3, 4, 8, 3, 9, 0, 6, 4, 3, 5, 0, 5, 2, 4, 7, 0, 3, 5, 6, 3, 4, 9, 0, 5, 2, 4, 6, 9, 6, 9, 0, 5, 0, 5, 2, 3, 5, 6, 1, 5, 1, 3, 2, 0, 8, 6, 5, 5, 1, 7, 2, 3, 2, 3, 1, 2, 1, 8, 9, 6, 0, 1, 5, 0, 8, 2, 4, 8, 4, 9, 8, 5, 7, 8, 2, 9, 6, 8, 3, 0, 4, 5, 0, 1, 4, 1, 3, 7, 7, 9, 4, 3, 4, 4, 2, 9, 3, 3, 2, 5, 7, 0, 1, 1, 5, 3, 5, 2, 1, 3, 7, 8, 0, 1, 1, 7, 5, 4, 4, 8, 9, 3, 7, 4, 8, 3, 4, 3, 8, 7, 1, 3, 1, 6, 2, 8, 9, 5, 2, 7, 4, 6, 1, 4, 3, 0, 7, 0, 6, 0, 8, 1, 1, 9, 7, 9, 5, 8, 3, 4, 3, 0, 6, 0, 9, 8, 4, 8, 8, 3, 4, 0, 7, 0, 9, 2, 5, 2, 4, 4, 0, 0, 5, 7, 0, 2, 1, 0, 9, 9, 9, 8, 5, 5, 2, 2, 8, 0, 8, 6, 0, 8, 9, 6, 3, 4, 5, 2, 1, 1, 1, 7, 9, 9, 3, 4, 7, 3, 1, 0, 2, 7, 3, 2, 7, 0, 8, 1, 1, 1, 2, 0, 1, 2, 3, 9, 7, 3, 0, 1, 4, 7, 4, 8, 7, 2, 6, 4, 3, 0, 9, 0, 7, 3, 2, 4, 7, 7, 6, 3, 5, 3, 4, 8, 1, 0, 1, 6, 8, 9, 3, 7, 9, 4, 9, 9, 3, 2, 3, 7, 2, 3, 3, 6, 8, 1, 1, 3, 4, 0, 7, 7, 4, 1, 6, 5, 7, 8, 4, 4, 5, 4, 7, 4, 7, 8, 7, 1, 9, 5, 4, 3, 3, 9, 3, 8, 7, 8, 8, 1, 2, 9, 6, 7, 8, 8, 7, 0, 7, 3, 1, 4, 9, 1, 1, 8, 2, 4, 1, 3, 3, 9, 3, 5, 7, 5, 1, 7, 9, 8, 0, 6, 1, 4, 4, 6, 3, 7, 6, 2, 4, 8, 0, 4, 2, 6, 8, 2, 1, 7, 7, 4, 4, 6, 2, 4, 6, 1, 2, 3, 9, 0, 3, 6, 5, 5, 6, 2, 9, 3, 5, 7, 8, 9, 9, 5, 5, 6, 3, 1, 0, 9, 3, 0, 4, 6, 1, 3, 9, 1, 3, 0, 8, 6, 3, 2, 3, 6, 2, 0, 0, 4, 6, 3, 1, 7, 4, 7, 6, 6, 9, 3, 8, 5, 8, 3, 4, 1, 8, 8, 3, 4, 8, 3, 3, 9, 9, 2, 9, 6, 8, 6, 7, 1, 4, 9, 6, 6, 6, 9, 6, 5, 7, 6, 8, 3, 2, 4, 2, 0, 1, 9, 4, 6, 3, 1, 2, 2, 0, 0, 5, 4, 3, 2, 7, 9, 8, 0, 9, 3, 7, 4, 4, 6, 1, 7, 9, 2, 2, 6, 5, 8, 9, 7, 6, 1, 4, 9, 7, 2, 0, 8, 7, 5, 9, 5, 1, 3, 0, 8, 0, 3, 7, 4, 5, 6, 1, 5, 1, 8, 1, 4, 5, 1, 9, 7, 5, 9, 9, 6, 1, 6, 8, 6, 9, 0, 8, 4, 1, 1, 5, 9, 1, 6, 0, 3, 6, 3, 6, 8, 2, 2, 2, 7, 9, 3, 4, 4, 8, 6, 8, 5, 0, 7, 1, 8, 4, 2, 1, 6, 1, 7, 6, 7, 2, 9, 9, 8, 5, 1, 2, 4, 3, 0, 4, 4, 3, 5, 4, 7, 9, 0, 9, 2, 8, 8, 2, 0, 8, 1, 8, 4, 9, 7, 5, 7, 3, 6, 0, 6, 0, 7, 9, 9, 5, 4, 4, 3, 6, 9, 6, 0, 4, 3, 8, 0, 3, 0, 1, 5, 1, 3, 9, 1, 7, 2, 6, 7, 2, 0, 6, 8, 5, 6, 1, 3, 8, 4, 1, 3, 6, 9, 3, 4, 8, 6, 9, 3, 0, 5, 2, 2, 2, 3, 9, 7, 9, 9, 0, 0, 0, 0, 1, 1, 5, 1, 3, 0, 6, 4, 2, 3, 4, 0, 5, 4, 6, 7, 0, 1, 6, 4, 9, 7, 5, 5, 7, 3, 8, 1, 6, 4, 6, 1, 2, 5, 0, 6, 3, 8, 3, 8, 2, 9, 2, 7, 9, 0, 2, 7, 1, 2, 9, 9, 5, 4, 5, 9, 5, 0, 8, 0, 9, 3, 6, 2, 0, 6, 3, 6, 3, 9, 1, 3, 0, 5, 1, 9, 5, 4, 6, 3, 8, 5, 6, 2, 8, 5, 0, 2, 0, 8, 4, 4, 0, 7, 5, 5, 5, 6, 4, 9, 2, 5, 5, 3, 0, 0, 7, 0, 5, 1, 7, 9, 6, 6, 3, 4, 8, 7, 2, 4, 1, 2, 4, 6, 7, 7, 8, 0, 8, 3, 3, 3, 2, 9, 1, 4, 9, 6, 1, 7, 9, 9, 5, 2, 9, 6, 3, 1, 3, 5, 6, 6, 0, 9, 7, 4, 0, 4, 4, 1, 9, 8, 3, 4, 6, 1, 4, 6, 6, 6, 3, 4, 9, 0, 4, 1, 8, 1, 1, 8, 2, 4, 7, 3, 8, 0, 4, 1, 4, 0, 6, 9, 3, 1, 5, 5, 7, 3, 6, 9, 0, 1, 3, 4, 1, 1, 2, 3, 1, 7, 5, 2, 6, 3, 1, 2, 7, 3, 6, 7, 9, 5, 3, 6, 6, 9, 6, 0, 7, 2, 3, 3, 5, 0, 5, 9, 8, 5, 5, 4, 8, 4, 3, 1, 7, 9, 8, 3, 3, 0, 5, 8, 2, 2, 2, 9, 1, 7, 0, 2, 5, 9, 1, 4, 2, 6, 9, 8, 5, 4, 2, 8, 6, 8, 6, 2, 2, 7, 6, 6, 2, 2, 2, 3, 0, 8, 8, 6, 3, 5, 5, 9, 5, 2, 9, 2, 0, 2, 3, 8, 0, 1, 1, 9, 8, 9, 7, 3, 6, 0, 2, 8, 0, 7, 9, 2, 9, 9, 4, 7, 0, 5, 1, 3, 2, 3, 3, 7, 5, 3, 7, 9, 7, 7, 2, 3, 1, 3, 3, 4, 0, 3, 0, 5, 9, 2, 0, 3, 0, 1, 1, 7, 7, 8, 1, 0, 1, 3, 9, 5, 7, 2, 7, 2, 1, 3, 1, 3, 0, 7, 3, 8, 8, 7, 4, 9, 2, 4, 0, 3, 7, 3, 0, 0, 7, 7, 9, 1, 0, 0, 9, 0, 1, 1, 1, 8, 2, 1, 1, 3, 4, 7, 9, 4, 3, 1, 3, 7, 9, 1, 6, 3, 6, 0, 2, 3, 5, 2, 6, 1, 1, 5, 5, 1, 2, 5, 6, 3, 7, 5, 4, 4, 0, 3, 9, 9, 0, 7, 9, 8, 2, 0, 8, 6, 2, 8, 3, 8, 5, 1, 1, 9, 4, 7, 5, 7, 3, 1, 2, 8, 2, 5, 1, 6, 5, 9, 7, 1, 1, 2, 8, 1, 8, 4, 8, 3, 5, 1, 7, 3, 1, 0, 0, 2, 5, 6, 9, 3, 5, 2, 9, 3, 3, 9, 0, 3, 1, 2, 4, 8, 1, 7, 9, 6, 5, 4, 2, 6, 3, 0, 2, 2, 4, 1, 4, 3, 7, 2, 7, 4, 3, 8, 1, 5, 2, 5, 3, 7, 7, 1, 9, 1, 4, 7, 1, 1, 3, 3, 0, 7, 2, 3, 3, 5, 7, 3, 5, 3, 1, 5, 8, 7, 3, 5, 4, 8, 9, 4, 3, 1, 0, 6, 8, 1, 0, 6, 7, 5, 8, 8, 1, 8, 8, 9, 3, 4, 1, 2, 9, 1, 7, 5, 7, 3, 9, 4, 4, 2, 8, 1, 3, 0, 3, 2, 5, 1, 3, 9, 5, 7, 9, 4, 4, 1, 4, 7, 6, 4, 5, 9, 1, 9, 4, 3, 8, 8, 5, 9, 0, 5, 0, 8, 1, 0, 2, 8, 0, 7, 4, 8, 3, 8, 3, 2, 3, 0, 5, 5, 2, 2, 3, 4, 8, 7, 6, 8, 5, 8, 7, 6, 9, 0, 3, 7, 8, 1, 8, 2, 9, 3, 2, 6, 6, 4, 9, 8, 3, 2, 9, 8, 3, 7, 3, 1, 2, 0, 2, 9, 6, 2, 0, 0, 9, 1, 8, 9, 1, 5, 6, 4, 3, 2, 0, 7, 6, 9, 3, 3, 6, 0, 5, 5, 6, 9, 1, 3, 0, 3, 9, 1, 0, 8, 2, 4, 0, 1, 3, 7, 4, 7, 4, 6, 5, 0, 9, 4, 1, 5, 9, 0, 9, 3, 4, 0, 6, 7, 9, 5, 7, 8, 1, 3, 8, 9, 5, 2, 4, 2, 3, 1, 0, 4, 7, 4, 2, 3, 9, 8, 8, 2, 9, 1, 4, 0, 6, 4, 3, 2, 8, 4, 1, 9, 6, 2, 8, 9, 8, 8, 9, 3, 0, 1, 3, 3, 8, 1, 2, 4, 6, 2, 6, 6, 1, 3, 1, 9, 5, 1, 5, 0, 4, 2, 1, 1, 3, 0, 1, 0, 3, 1, 3, 9, 1, 9, 9, 3, 1, 3, 0, 2, 6, 8, 3, 5, 9, 2, 7, 0, 0, 1, 8, 1, 0, 4, 8, 1, 0, 2, 9, 5, 7, 2, 2, 8, 8, 7, 0, 2, 0, 3, 1, 6, 5, 3, 4, 3, 7, 9, 3, 0, 7, 5, 5, 0, 7, 5, 7, 8, 7, 2, 0, 2, 9, 5, 2, 0, 1, 7, 6, 2, 7, 3, 8, 4, 4, 3, 5, 9, 6, 8, 2, 1, 1, 3, 6, 6, 0, 6, 5, 1, 9, 3, 5, 5, 8, 7, 3, 0, 1, 8, 8, 9, 5, 5, 4, 0, 7, 8, 7, 3, 8, 5, 6, 7, 6, 4, 8, 0, 1, 3, 9, 4, 2, 2, 1, 9, 6, 2, 5, 8, 8, 7, 1, 9, 6, 4, 9, 1, 9, 0, 4, 7, 9, 8, 7, 9, 1, 3, 5, 0, 3, 0, 6, 6, 7, 5, 8, 2, 9, 4, 7, 6, 1, 9, 0, 5, 4, 6, 6, 1, 4, 6, 8, 0, 4, 5, 2, 0, 6, 5, 2, 3, 0, 7, 8, 7, 9, 0, 0, 2, 3, 0, 6, 7, 9, 7, 3, 6, 1, 8, 2, 5, 8, 0, 1, 3, 9, 1, 7, 3, 0, 5, 1, 5, 7, 0, 7, 1, 0, 4, 9, 9, 4, 8, 6, 0, 0, 1, 6, 7, 0, 8, 6, 5, 4, 2, 8, 9, 2, 7, 8, 9, 0, 8, 2, 1, 0, 4, 5, 1, 2, 8, 8, 4, 6, 9, 6, 8, 4, 9, 2, 2, 5, 3, 1, 4, 3, 9, 7, 2, 2, 4, 6, 6, 2, 4, 4, 9, 7, 4, 1, 4, 5, 4, 8, 2, 2, 4, 9, 7, 3, 8, 3, 6, 6, 9, 9, 9, 4, 6, 7, 0, 3, 9, 9, 4, 1, 6, 2, 9, 9, 8, 1, 7, 1, 0, 4, 0, 2, 6, 1, 7, 4, 7, 0, 6, 6, 1, 5, 9, 4, 9, 9, 3, 2, 5, 6, 9, 2, 9, 9, 4, 9, 7, 8, 2, 3, 0, 4, 9, 6, 9, 6, 8, 5, 6, 0, 0, 9, 1, 8, 3, 3, 0, 7, 7, 6, 8, 8, 9, 5, 9, 9, 8, 3, 2, 7, 5, 4, 1, 9, 6, 4, 4, 4, 7, 6, 9, 1, 4, 4, 2, 7, 2, 6, 4, 4, 1, 8, 7, 7, 4, 8, 4, 6, 4, 6, 0, 6, 6, 1, 2, 0, 4, 9, 4, 7, 7, 8, 6, 7, 7, 5, 7, 4, 8, 0, 6, 6, 6, 6, 6, 8, 8, 4, 2, 2, 3, 8, 6, 4, 2, 8, 9, 8, 5, 8, 2, 8, 6, 8, 1, 8, 3, 1, 2, 3, 7, 2, 9, 5, 6, 7, 4, 9, 9, 7, 1, 2, 3, 4, 6, 1, 9, 7, 4, 5, 1, 9, 6, 3, 4, 1, 9, 7, 1, 0, 7, 3, 3, 3, 7, 3, 3, 8, 4, 3, 8, 8, 8, 7, 3, 9, 6, 2, 3, 3, 3, 6, 5, 1, 1, 1, 3, 1, 4, 1, 9, 1, 8, 9, 9, 9, 9, 8, 3, 2, 2, 9, 2, 2, 5, 3, 7, 4, 6, 2, 7, 7, 2, 6, 6, 3, 5, 3, 6, 1, 7, 0, 3, 8, 7, 3, 2, 3, 6, 3, 4, 3, 6, 3, 7, 3, 3, 2, 5, 2, 3, 1, 7, 1, 2, 0, 5, 3, 0, 4, 0, 0, 0, 2, 1, 9, 0, 8, 7, 9, 3, 8, 9, 7, 0, 2, 2, 1, 1, 9, 2, 3, 5, 1, 4, 6, 1, 8, 4, 7, 1, 2, 5, 7, 4, 7, 7, 7, 8, 4, 8, 1, 3, 5, 1, 1, 6, 2, 4, 9, 0, 7, 3, 8, 0, 0, 3, 1, 3, 3, 6, 5, 3, 9, 2, 5, 2, 9, 7, 1, 9, 3, 2, 5, 2, 0, 4, 5, 4, 6, 8, 8, 6, 1, 0, 6, 5, 6, 9, 2, 1, 8, 7, 8, 1, 6, 9, 5, 1, 3, 7, 6, 7, 7, 9, 3, 3, 1, 2, 0, 3, 7, 5, 9, 1, 8, 9, 6, 4, 9, 8, 6, 1, 7, 0, 3, 0, 4, 2, 2, 8, 2, 7, 6, 5, 7, 4, 4, 9, 7, 0, 2, 7, 2, 1, 8, 5, 1, 8, 5, 8, 4, 2, 1, 1, 4, 1, 7, 8, 7, 5, 1, 9, 9, 9, 1, 9, 4, 9, 9, 7, 7, 6, 2, 0, 5, 8, 5, 8, 6, 0, 2, 3, 1, 0, 5, 1, 7, 0, 7, 9, 7, 1, 9, 4, 5, 7, 6, 5, 1, 9, 5, 1, 8, 2, 1, 3, 1, 7, 9, 3, 9, 2, 3, 5, 3, 0, 5, 9, 9, 0, 8, 6, 8, 4, 0, 0, 7, 3, 8, 8, 6, 9, 3, 5, 3, 8, 6, 1, 1, 3, 1, 8, 3, 0, 1, 7, 2, 6, 9, 1, 6, 6, 5, 9, 9, 6, 2, 1, 0, 0, 6, 2, 4, 8, 4, 9, 0, 4, 3, 6, 8, 4, 2, 2, 8, 7, 6, 0, 9, 1, 9, 9, 8, 4, 1, 9, 6, 7, 1, 9, 8, 1, 8, 5, 3, 3, 4, 4, 8, 7, 3, 3, 9, 0, 0, 0, 8, 6, 1, 7, 1, 5, 0, 1, 7, 1, 4, 7, 5, 3, 7, 4, 3, 6, 5, 0, 6, 6, 7, 8, 9, 8, 2, 1, 3, 5, 4, 2, 7, 7, 5, 8, 5, 6, 2, 2, 7, 6, 1, 4, 7, 6, 2, 0, 2, 3, 8, 5, 2, 7, 4, 7, 2, 3, 6, 1, 6, 3, 4, 3, 6, 6, 4, 0, 8, 1, 0, 0, 5, 2, 4, 5, 1, 5, 2, 7, 9, 6, 8, 4, 3, 8, 4, 3, 2, 7, 8, 6, 2, 3, 1, 7, 5, 1, 2, 4, 0, 1, 8, 8, 9, 2, 3, 3, 0, 8, 0, 6, 0, 2, 6, 0, 8, 4, 3, 2, 7, 7, 3, 7, 9, 9, 2, 0, 0, 6, 4, 2, 2, 6, 8, 0, 5, 1, 9, 4, 0, 7, 8, 4, 2, 4, 6, 3, 9, 7, 2, 5, 2, 9, 4, 5, 7, 7, 7, 4, 5, 5, 3, 9, 3, 9, 9, 7, 5, 8, 8, 9, 5, 5, 4, 3, 0, 7, 7, 6, 6, 3, 8, 5, 5, 5, 4, 6, 9, 1, 7, 2, 7, 3, 7, 3, 5, 6, 7, 8, 2, 8, 9, 0, 6, 2, 3, 6, 4, 8, 4, 2, 6, 4, 1, 4, 1, 2, 8, 4, 6, 5, 6, 1, 6, 1, 4, 3, 3, 8, 2, 5, 9, 0, 9, 1, 5, 9, 7, 1, 1, 0, 9, 3, 1, 7, 7, 6, 6, 8, 2, 7, 9, 7, 2, 5, 3, 5, 5, 8, 8, 9, 0, 9, 9, 6, 2, 7, 0, 2, 4, 3, 7, 5, 2, 7, 1, 9, 8, 8, 3, 2, 4, 9, 4, 1, 9, 4, 7, 7, 9, 4, 8, 0, 4, 3, 0, 7, 9, 2, 6, 4, 3, 1, 7, 8, 9, 5, 4, 2, 4, 2, 6, 0, 0, 7, 0, 2, 1, 8, 1, 3, 9, 8, 9, 2, 4, 3, 0, 9, 1, 7, 9, 7, 2, 8, 4, 4, 0, 5, 6, 6, 3, 6, 3, 1, 6, 0, 1, 6, 1, 8, 7, 0, 3, 7, 5, 2, 2, 6, 5, 1, 6, 3, 2, 2, 7, 4, 6, 7, 6, 9, 6, 1, 7, 7, 4, 0, 8, 2, 8, 2, 7, 9, 6, 2, 1, 4, 6, 1, 3, 1, 4, 9, 9, 0, 5, 3, 4, 4, 7, 3, 8, 5, 5, 4, 8, 0, 9, 6, 4, 7, 1, 4, 2, 4, 4, 4, 9, 8, 8, 0, 7, 3, 7, 3, 2, 8, 7, 7, 6, 9, 4, 5, 3, 2, 0, 4, 0, 6, 1, 6, 9, 7, 0, 3, 8, 4, 1, 3, 7, 9, 5, 8, 3, 8, 9, 9, 2, 9, 0, 0, 8, 9, 4, 6, 3, 8, 5, 3, 3, 2, 7, 0, 1, 8, 1, 0, 2, 8, 9, 7, 8, 3, 1, 1, 4, 7, 8, 2, 4, 1, 3, 9, 2, 7, 6, 6, 7, 7, 6, 5, 5, 2, 7, 3, 8, 6, 2, 7, 2, 8, 6, 6, 9, 6, 9, 8, 4, 6, 1, 3, 7, 8, 1, 4, 6, 3, 2, 1, 1, 0, 7, 9, 0, 9, 3, 3, 7, 3, 3, 0, 0, 8, 2, 9, 7, 4, 2, 6, 6, 4, 3, 9, 5, 6, 7, 8, 0, 8, 1, 5, 4, 9, 1, 3, 8, 9, 9, 6, 1, 1, 2, 1, 5, 6, 8, 1, 6, 0, 3, 2, 5, 9, 0, 4, 0, 9, 7, 7, 2, 9, 8, 3, 8, 9, 0, 5, 1, 6, 1, 1, 2, 7, 1, 2, 1, 9, 4, 6, 9, 3, 5, 4, 5, 5, 7, 7, 1, 3, 5, 9, 1, 3, 8, 0, 2, 9, 4, 6, 7, 2, 1, 9, 7, 9, 7, 6, 5, 7, 5, 2, 7, 2, 6, 0, 0, 3, 9, 3, 8, 5, 5, 4, 3, 9, 5, 1, 1, 4, 1, 4, 1, 7, 9, 2, 0, 7, 5, 8, 2, 3, 9, 3, 4, 8, 2, 6, 4, 2, 8, 7, 2, 0, 5, 7, 5, 4, 8, 8, 8, 9, 1, 9, 6, 4, 1, 0, 7, 7, 5, 6, 5, 8, 3, 8, 1, 8, 9, 4, 2, 8, 0, 7, 3, 5, 4, 2, 2, 8, 5, 4, 0, 7, 3, 8, 0, 0, 8, 4, 9, 3, 8, 6, 3, 9, 5, 8, 8, 5, 4, 7, 3, 8, 1, 9, 1, 0, 7, 4, 5, 4, 5, 3, 9, 2, 6, 4, 9, 6, 0, 9, 8, 8, 6, 8, 7, 0, 4, 4, 7, 5, 2, 2, 6, 2, 4, 2, 3, 7, 6, 6, 0, 2, 2, 4, 7, 8, 3, 6, 9, 8, 2, 1, 7, 1, 9, 5, 7, 6, 7, 7, 2, 6, 9, 4, 8, 8, 7, 1, 5, 6, 4, 3, 8, 2, 7, 9, 9, 7, 8, 1, 1, 7, 1, 0, 1, 7, 1, 7, 4, 1, 9, 3, 4, 9, 1, 5, 9, 4, 6, 0, 4, 4, 2, 9, 6, 5, 0, 3, 0, 5, 2, 5, 2, 6, 8, 7, 2, 8, 7, 5, 5, 5, 5, 1, 0, 4, 6, 9, 3, 4, 3, 1, 4, 3, 7, 5, 5, 9, 1, 1, 4, 7, 0, 0, 0, 6, 7, 2, 7, 7, 8, 4, 3, 1, 9, 7, 0, 9, 2, 5, 6, 3, 5, 5, 2, 6, 9, 8, 3, 5, 9, 7, 6, 7, 0, 7, 4, 5, 6, 6, 9, 5, 0, 8, 3, 3, 7, 0, 1, 7, 2, 4, 9, 4, 6, 1, 6, 9, 6, 5, 1, 7, 3, 3, 1, 0, 6, 7, 7, 5, 4, 6, 5, 5, 5, 3, 5, 1, 5, 1, 1, 1, 9, 4, 7, 6, 1, 8, 9, 1, 9, 0, 9, 4, 2, 3, 2, 6, 2, 2, 5, 4, 2, 4, 1, 9, 0, 4, 4, 5, 7, 4, 3, 8, 8, 4, 4, 6, 4, 1, 4, 4, 7, 4, 7, 8, 3, 6, 8, 2, 3, 3, 3, 6, 1, 0, 1, 0, 6, 2, 7, 3, 7, 9, 3, 5, 8, 1, 9, 8, 0, 7, 1, 0, 4, 3, 8, 5, 0, 8, 8, 8, 2, 1, 1, 8, 5, 7, 9, 4, 3, 7, 1, 6, 5, 1, 3, 6, 9, 7, 6, 0, 1, 9, 6, 2, 8, 0, 2, 8, 3, 5, 0, 1, 5, 7, 7, 4, 6, 0, 1, 8, 1, 8, 4, 4, 1, 7, 9, 9, 9, 3, 8, 6, 1, 3, 8, 2, 2, 5, 1, 5, 4, 5, 6, 8, 4, 9, 9, 3, 1, 5, 5, 5, 9, 9, 3, 4, 5, 4, 7, 6, 8, 0, 9, 1, 2, 7, 2, 0, 3, 5, 1, 8, 6, 0, 3, 7, 9, 6, 8, 8, 6, 4, 1, 6, 4, 0, 4, 2, 3, 6, 8, 4, 5, 1, 1, 3, 3, 1, 5, 0, 4, 2, 8, 6, 8, 3, 1, 8, 1, 0, 9, 4, 0, 9, 8, 0, 0, 2, 9, 1, 1, 9, 8, 2, 2, 6, 0, 8, 0, 4, 8, 8, 1, 2, 2, 5, 5, 2, 0, 5, 8, 0, 7, 7, 4, 5, 9, 2, 7, 9, 3, 3, 5, 7, 0, 6, 0, 9, 4, 9, 9, 4, 2, 6, 0, 2, 4, 9, 4, 0, 0, 8, 0, 8, 9, 1, 9, 7, 0, 4, 8, 1, 2, 6, 1, 9, 5, 5, 0, 3, 5, 0, 7, 0, 4, 2, 4, 6, 9, 0, 4, 0, 7, 3, 4, 9, 8, 3, 7, 4, 6, 5, 7, 6, 1, 0, 1, 4, 7, 7, 1, 4, 6, 8, 8, 4, 1, 1, 7, 0, 1, 2, 0, 0, 3, 5, 6, 1, 7, 0, 3, 0, 8, 8, 4, 8, 8, 8, 4, 4, 9, 8, 5, 4, 8, 3, 7, 5, 3, 9, 2, 9, 7, 9, 3, 2, 1, 0, 6, 4, 4, 6, 9, 5, 5, 9, 3, 0, 2, 5, 7, 6, 3, 5, 4, 5, 6, 5, 9, 9, 1, 0, 9, 7, 0, 2, 5, 3, 3, 6, 7, 4, 4, 2, 7, 5, 8, 4, 6, 0, 3, 3, 6, 9, 8, 2, 6, 7, 4, 2, 3, 6, 2, 8, 0, 6, 1, 3, 5, 4, 2, 4, 0, 3, 7, 2, 0, 8, 2, 8, 1, 1, 2, 4, 7, 0, 0, 5, 4, 5, 8, 5, 9, 4, 9, 4, 6, 1, 0, 3, 3, 9, 7, 8, 5, 9, 3, 4, 8, 0, 8, 5, 0, 1, 9, 2, 6, 6, 2, 1, 9, 4, 6, 8, 2, 4, 2, 2, 1, 1, 6, 8, 9, 8, 1, 8, 6, 2, 0, 9, 8, 7, 6, 7, 7, 7, 7, 7, 1, 4, 5, 4, 0, 4, 2, 3, 7, 1, 8, 8, 0, 9, 7, 4, 8, 5, 9, 0, 3, 3, 8, 7, 0, 8, 8, 3, 3, 1, 6, 5, 3, 1, 5, 0, 4, 1, 5, 2, 8, 1, 8, 2, 9, 9, 9, 3, 4, 3, 2, 3, 0, 3, 0, 5, 6, 7, 1, 9, 3, 7, 8, 1, 3, 2, 2, 2, 1, 4, 8, 4, 5, 7, 4, 2, 9, 1, 4, 6, 1, 0, 0, 5, 3, 6, 7, 4, 8, 2, 5, 2, 8, 8, 2, 7, 4, 1, 5, 7, 6, 9, 1, 1, 4, 0, 1, 8, 6, 1, 1, 9, 7, 3, 0, 0, 3, 6, 2, 8, 8, 4, 8, 6, 1, 3, 5, 9, 5, 1, 2, 3, 2, 1, 1, 3, 5, 6, 4, 0, 2, 0, 2, 2, 6, 6, 2, 7, 2, 2, 8, 3, 7, 4, 6, 6, 2, 6, 4, 3, 2, 9, 3, 4, 9, 6, 9, 3, 1, 7, 4, 2, 3, 4, 5, 2, 2, 3, 7, 3, 0, 9, 5, 7, 0, 7, 3, 6, 7, 0, 4, 9, 4, 9, 8, 7, 2, 0, 6, 1, 8, 1, 8, 7, 2, 1, 8, 2, 2, 7, 0, 8, 5, 6, 9, 2, 1, 2, 5, 9, 6, 2, 4, 6, 7, 1, 8, 8, 2, 4, 0, 9, 3, 0, 5, 1, 7, 8, 0, 0, 1, 2, 2, 9, 0, 7, 8, 6, 2, 9, 0, 6, 5, 0, 8, 2, 9, 9, 3, 5, 3, 5, 7, 9, 6, 6, 4, 1, 5, 1, 0, 7, 8, 5, 0, 7, 7, 8, 4, 4, 5, 9, 9, 0, 6, 6, 8, 7, 3, 0, 5, 9, 0, 8, 6, 0, 3, 6, 7, 7, 9, 6, 0, 1, 2, 0, 3, 7, 0, 2, 3, 8, 9, 7, 4, 3, 2, 1, 3, 9, 3, 6, 1, 2, 3, 0, 7, 9, 9, 3, 9, 1, 9, 1, 9, 7, 4, 9, 3, 8, 8, 7, 4, 6, 3, 9, 6, 2, 8, 1, 8, 7, 6, 9, 2, 3, 3, 3, 9, 9, 4, 9, 3, 3, 7, 1, 4, 1, 0, 9, 2, 1, 2, 8, 7, 1, 7, 0, 4, 4, 0, 2, 4, 6, 7, 3, 2, 2, 8, 4, 0, 7, 3, 9, 4, 7, 0, 8, 4, 3, 1, 7, 0, 3, 2, 4, 8, 8, 1, 1, 3, 3, 3, 8, 1, 9, 1, 7, 2, 8, 8, 6, 2, 9, 1, 2, 7, 4, 7, 5, 3, 6, 3, 0, 7, 3, 9, 0, 7, 4, 2, 5, 4, 2, 0, 0, 2, 2, 1, 9, 2, 3, 2, 8, 5, 8, 3, 2, 6, 1, 3, 7, 0, 4, 1, 3, 2, 7, 8, 3, 8, 4, 5, 6, 1, 8, 2, 9, 2, 2, 4, 6, 8, 9, 0, 2, 7, 7, 3, 8, 4, 6, 6, 6, 7, 9, 3, 2, 9, 8, 7, 9, 3, 2, 1, 8, 2, 1, 9, 6, 6, 5, 2, 5, 6, 8, 1, 2, 9, 4, 0, 4, 0, 2, 0, 7, 4, 1, 0, 4, 0, 4, 2, 8, 6, 1, 4, 8, 4, 5, 6, 3, 9, 7, 9, 3, 6, 7, 9, 4, 1, 9, 7, 8, 2, 4, 9, 1, 5, 3, 1, 5, 0, 9, 4, 1, 4, 2, 6, 3, 4, 9, 3, 4, 8, 1, 7, 1, 2, 4, 0, 0, 3, 8, 2, 9, 9, 6, 8, 6, 2, 8, 7, 5, 0, 5, 5, 9, 4, 3, 0, 7, 5, 1, 6, 1, 4, 1, 1, 9, 9, 1, 1, 2, 3, 5, 9, 4, 5, 4, 7, 2, 2, 2, 4, 0, 6, 2, 6, 4, 3, 4, 8, 6, 4, 9, 1, 6, 5, 6, 9, 6, 3, 0, 2, 7, 1, 1, 2, 2, 7, 9, 3, 2, 5, 3, 3, 5, 4, 1, 6, 5, 0, 3, 6, 2, 3, 8, 1, 6, 7, 0, 2, 4, 2, 7, 5, 3, 6, 0, 9, 4, 9, 2, 6, 0, 6, 8, 5, 8, 9, 2, 5, 7, 9, 7, 7, 7, 0, 3, 0, 1, 7, 4, 0, 7, 7, 1, 1, 8, 4, 6, 5, 1, 4, 9, 0, 1, 1, 3, 8, 3, 4, 6, 4, 7, 2, 7, 4, 7, 1, 0, 3, 9, 0, 0, 6, 2, 1, 3, 6, 2, 9, 7, 0, 4, 6, 1, 0, 7, 7, 5, 5, 9, 9, 3, 4, 3, 3, 8, 5, 6, 6, 8, 5, 5, 2, 5, 7, 7, 9, 5, 6, 9, 3, 5, 3, 3, 4, 9, 1, 0, 5, 4, 4, 6, 5, 2, 7, 2, 1, 8, 7, 8, 2, 9, 9, 9, 2, 1, 7, 2, 9, 8, 0, 4, 5, 9, 7, 7, 2, 3, 3, 1, 7, 1, 3, 2, 3, 5, 3, 9, 0, 8, 9, 5, 7, 7, 2, 7, 4, 7, 1, 3, 0, 7, 8, 1, 8, 5, 4, 0, 7, 7, 9, 8, 2, 9, 1, 8, 8, 5, 7, 1, 3, 4, 1, 2, 4, 8, 6, 3, 3, 8, 4, 5, 7, 5, 1, 8, 3, 2, 6, 4, 0, 6, 4, 2, 4, 6, 0, 0, 0, 7, 8, 7, 3, 1, 5, 0, 9, 2, 0, 0, 9, 0, 4, 9, 3, 7, 0, 6, 1, 1, 5, 9, 2, 4, 6, 5, 1, 6, 8, 4, 0, 4, 6, 3, 1, 4, 0, 3, 7, 2, 5, 9, 1, 4, 1, 8, 1, 9, 4, 7, 2, 7, 6, 9, 4, 7, 5, 7, 6, 5, 9, 9, 2, 2, 4, 0, 1, 9, 4, 5, 4, 4, 8, 1, 3, 0, 5, 9, 2, 2, 2, 7, 9, 3, 1, 6, 8, 9, 9, 8, 5, 6, 2, 0, 4, 9, 9, 0, 0, 6, 1, 4, 0, 7, 4, 0, 3, 4, 3, 1, 0, 4, 8, 7, 9, 4, 3, 4, 1, 5, 3, 2, 0, 7, 1, 4, 8, 6, 9, 7, 0, 1, 9, 8, 3, 3, 1, 9, 8, 0, 6, 4, 9, 7, 6, 2, 5, 2, 9, 8, 6, 4, 8, 0, 6, 2, 3, 8, 5, 4, 5, 0, 9, 8, 2, 3, 1, 7, 9, 8, 8, 9, 2, 8, 1, 7, 2, 3, 1, 0, 4, 5, 9, 1, 2, 1, 6, 8, 8, 1, 1, 3, 4, 0, 4, 7, 1, 4, 3, 8, 5, 0, 1, 8, 1, 0, 1, 6, 2, 5, 5, 0, 6, 9, 1, 8, 8, 2, 9, 8, 3, 3, 7, 3, 0, 9, 7, 2, 9, 3, 5, 6, 3, 9, 8, 4, 1, 1, 2, 7, 2, 2, 0, 7, 1, 7, 0, 0, 2, 7, 2, 2, 7, 7, 2, 8, 0, 1, 2, 9, 8, 2, 0, 3, 4, 3, 4, 1, 6, 3, 7, 6, 5, 1, 6, 2, 7, 5, 8, 8, 3, 1, 6, 3, 1, 1, 8, 5, 4, 7, 3, 8, 6, 0, 1, 4, 4, 5, 0, 8, 3, 1, 8, 7, 8, 4, 8, 1, 9, 0, 6, 0, 1, 5, 4, 3, 5, 8, 1, 0, 1, 7, 4, 6, 1, 0, 5, 0, 1, 3, 6, 2, 7, 2, 2, 9, 8, 5, 3, 0, 7, 3, 1, 3, 7, 9, 6, 8, 7, 9, 1, 1, 6, 5, 6, 9, 6, 7, 3, 0, 6, 1, 2, 0, 9, 9, 2, 2, 9, 7, 0, 7, 6, 0, 0, 9, 3, 4, 5, 9, 9, 6, 4, 3, 5, 3, 7, 1, 8, 4, 0, 4, 5, 6, 4, 0, 1, 1, 1, 1, 7, 0, 2, 4, 5, 7, 7, 8, 5, 8, 5, 4, 0, 2, 3, 7, 7, 1, 5, 4, 5, 4, 6, 9, 2, 6, 6, 8, 1, 5, 6, 3, 2, 4, 6, 4, 1, 0, 0, 9, 7, 6, 0, 9, 5, 0, 5, 8, 7, 8, 9, 0, 1, 5, 1, 5, 0, 6, 9, 8, 1, 9, 4, 7, 4, 4, 8, 4, 1, 4, 1, 4, 0, 8, 9, 4, 5, 1, 6, 3, 1, 0, 8, 0, 9, 0, 7, 3, 2, 4, 5, 7, 6, 7, 8, 6, 7, 1, 2, 9, 1, 3, 2, 8, 3, 8, 1, 6, 7, 0, 3, 8, 4, 8, 8, 4, 2, 6, 8, 1, 2, 0, 4, 7, 6, 0, 4, 7, 8, 1, 2, 5, 2, 4, 4, 1, 3, 2, 3, 7, 8, 8, 5, 3, 3, 9, 8, 0, 8, 7, 2, 3, 2, 0, 0, 4, 6, 2, 2, 6, 5, 1, 1, 4, 5, 5, 7, 4, 1, 8, 3, 8, 7, 7, 0, 0, 9, 8, 5, 9, 4, 5, 4, 2, 9, 3, 9, 7, 1, 7, 4, 7, 3, 9, 7, 6, 1, 3, 8, 5, 2, 1, 2, 4, 9, 2, 3, 0, 8, 9, 0, 6, 9, 6, 2, 1, 3, 0, 0, 8, 5, 5, 3, 0, 8, 8, 2, 6, 2, 0, 0, 2, 3, 3, 1, 1, 1, 8, 6, 4, 5, 1, 8, 1, 8, 9, 1, 4, 1, 3, 3, 5, 4, 6, 1, 7, 4, 2, 4, 9, 7, 1, 2, 8, 7, 8, 5, 8, 5, 5, 7, 0, 2, 6, 3, 9, 6, 3, 6, 5, 8, 0, 8, 2, 3, 1, 2, 4, 1, 9, 3, 8, 8, 7, 3, 9, 7, 1, 7, 9, 8, 9, 6, 3, 1, 4, 9, 6, 1, 9, 8, 3, 4, 4, 3, 8, 2, 8, 9, 7, 2, 8, 8, 9, 8, 3, 2, 5, 0, 5, 2, 9, 0, 0, 8, 5, 2, 8, 3, 6, 1, 7, 4, 9, 4, 8, 0, 6, 5, 6, 0, 7, 0, 6, 9, 8, 3, 9, 2, 7, 1, 5, 9, 6, 8, 3, 7, 6, 9, 5, 2, 6, 7, 8, 8, 0, 3, 4, 1, 8, 3, 3, 1, 8, 8, 0, 1, 8, 9, 6, 6, 3, 9, 7, 9, 1, 3, 7, 7, 4, 5, 9, 7, 4, 7, 5, 6, 6, 0, 8, 9, 3, 1, 5, 1, 7, 3, 1, 8, 2, 0, 9, 6, 4, 8, 7, 7, 4, 5, 7, 6, 0, 6, 7, 7, 9, 3, 8, 0, 5, 9, 1, 5, 6, 4, 5, 7, 5, 9, 3, 0, 2, 7, 9, 2, 0, 4, 0, 1, 3, 1, 2, 8, 6, 5, 1, 1, 8, 1, 3, 1, 2, 8, 8, 1, 2, 6, 9, 2, 9, 4, 2, 5, 5, 9, 0, 3, 9, 4, 6, 9, 3, 5, 6, 0, 0, 4, 6, 8, 0, 5, 2, 8, 1, 5, 0, 7, 2, 3, 9, 2, 1, 1, 8, 3, 8, 6, 8, 7, 6, 4, 6, 1, 5, 6, 3, 0, 9, 3, 4, 1, 0, 6, 8, 2, 4, 5, 4, 1, 1, 0, 9, 8, 6, 3, 7, 3, 0, 7, 8, 0, 5, 4, 7, 0, 3, 4, 8, 6, 3, 2, 2, 4, 6, 9, 6, 3, 4, 4, 3, 5, 9, 3, 2, 6, 9, 4, 9, 7, 5, 0, 8, 0, 9, 5, 2, 3, 1, 7, 2, 6, 6, 9, 3, 0, 0, 9, 2, 2, 0, 9, 8, 5, 7, 1, 3, 9, 1, 7, 7, 1, 7, 5, 6, 8, 2, 6, 7, 9, 6, 3, 2, 0, 6, 1, 0, 3, 0, 9, 8, 7, 5, 0, 0, 6, 1, 8, 7, 7, 8, 4, 7, 4, 5, 8, 3, 4, 8, 2, 1, 4, 1, 1, 5, 6, 1, 5, 5, 6, 0, 5, 0, 8, 4, 8, 3, 5, 7, 3, 5, 1, 7, 6, 0, 9, 8, 9, 2, 1, 1, 9, 6, 4, 9, 9, 6, 3, 3, 1, 1, 8, 8, 2, 6, 2, 6, 9, 1, 0, 1, 9, 0, 2, 8, 0, 4, 4, 2, 1, 6, 7, 8, 7, 1, 9, 4, 4, 4, 2, 9, 3, 6, 6, 1, 3, 7, 8, 2, 4, 8, 1, 0, 3, 7, 5, 2, 3, 9, 1, 9, 1, 8, 4, 4, 4, 1, 8, 3, 7, 2, 0, 7, 4, 1, 0, 9, 6, 3, 2, 7, 9, 6, 9, 2, 3, 7, 9, 5, 0, 2, 0, 3, 3, 9, 1, 7, 3, 5, 5, 5, 9, 7, 1, 2, 7, 2, 7, 8, 7, 2, 5, 2, 0, 6, 3, 9, 8, 7, 0, 0, 6, 6, 0, 3, 2, 6, 3, 0, 3, 4, 7, 2, 0, 7, 4, 9, 3, 5, 0, 0, 2, 4, 3, 3, 1, 4, 4, 6, 5, 8, 7, 6, 1, 8, 3, 5, 8, 9, 9, 3, 5, 5, 9, 4, 0, 3, 9, 9, 7, 6, 7, 3, 0, 6, 5, 3, 5, 3, 1, 2, 1, 6, 1, 9, 3, 6, 4, 8, 1, 3, 7, 9, 2, 7, 7, 0, 4, 5, 4, 6, 7, 8, 6, 6, 6, 9, 0, 5, 6, 2, 6, 0, 8, 8, 0, 3, 1, 3, 0, 3, 1, 4, 2, 4, 3, 3, 2, 3, 3, 3, 4, 4, 6, 0, 5, 9, 9, 1, 3, 9, 8, 5, 7, 0, 1, 2, 6, 3, 4, 4, 0, 3, 2, 0, 3, 4, 2, 6, 1, 5, 6, 3, 9, 7, 4, 6, 1, 6, 1, 7, 8, 5, 9, 2, 4, 1, 1, 6, 7, 9, 4, 2, 3, 5, 7, 1, 7, 5, 5, 4, 4, 5, 8, 6, 8, 5, 9, 4, 8, 4, 7, 0, 0, 3, 0, 0, 8, 4, 4, 5, 5, 9, 9, 9, 1, 6, 9, 7, 6, 9, 5, 2, 7, 4, 9, 7, 1, 1, 3, 0, 0, 8, 1, 6, 7, 5, 4, 2, 8, 6, 2, 6, 7, 2, 4, 1, 5, 3, 1, 0, 0, 5, 2, 9, 4, 8, 9, 0, 8, 4, 9, 4, 8, 2, 1, 9, 9, 8, 8, 8, 9, 8, 6, 0, 2, 4, 2, 9, 6, 8, 5, 8, 3, 3, 0, 0, 4, 7, 4, 3, 0, 5, 1, 6, 4, 1, 1, 0, 7, 0, 2, 2, 9, 2, 9, 5, 8, 2, 7, 4, 3, 6, 9, 8, 8, 3, 2, 4, 3, 0, 9, 9, 4, 1, 2, 5, 3, 3, 2, 8, 8, 5, 7, 6, 8, 5, 4, 8, 1, 0, 7, 5, 4, 6, 9, 4, 5, 6, 5, 6, 6, 3, 8, 7, 3, 4, 1, 1, 4, 9, 1, 3, 7, 7, 2, 6, 4, 7, 0, 1, 2, 9, 6, 9, 3, 6, 5, 8, 7, 2, 4, 7, 7, 6, 8, 0, 4, 9, 3, 1, 3, 9, 6, 3, 5, 0, 7, 2, 4, 6, 0, 2, 7, 5, 7, 0, 9, 7, 9, 2, 6, 4, 3, 6, 8, 0, 7, 8, 8, 0, 5, 4, 6, 2, 7, 7, 6, 6, 3, 4, 7, 2, 0, 4, 1, 4, 0, 4, 9, 8, 6, 0, 2, 9, 3, 9, 2, 9, 9, 3, 8, 5, 9, 5, 7, 7, 1, 9, 1, 3, 1, 5, 4, 3, 5, 1, 6, 2, 2, 8, 7, 8, 0, 8, 8, 8, 0, 4, 3, 6, 9, 3, 8, 4, 1, 8, 2, 4, 1, 2, 9, 3, 6, 3, 9, 5, 3, 6, 0, 5, 5, 1, 4, 8, 5, 6, 2, 1, 7, 1, 0, 4, 3, 0, 4, 1, 4, 9, 4, 5, 5, 1, 0, 2, 7, 9, 5, 7, 8, 3, 1, 6, 3, 3, 5, 2, 4, 7, 4, 3, 0, 0, 1, 9, 8, 4, 5, 7, 2, 1, 0, 6, 7, 6, 0, 1, 4, 7, 7, 7, 7, 6, 1, 0, 2, 9, 2, 5, 1, 5, 7, 4, 1, 0, 8, 7, 1, 2, 1, 9, 2, 6, 9, 7, 0, 8, 1, 7, 3, 1, 6, 9, 6, 1, 8, 3, 7, 0, 2, 4, 9, 5, 1, 0, 1, 9, 2, 4, 4, 2, 0, 1, 0, 3, 7, 2, 8, 2, 7, 2, 8, 0, 7, 6, 8, 5, 5, 5, 2, 5, 0, 5, 1, 1, 8, 0, 8, 3, 3, 5, 8, 6, 2, 5, 7, 1, 7, 0, 6, 1, 0, 9, 3, 6, 1, 3, 7, 9, 2, 7, 0, 2, 2, 6, 3, 0, 0, 6, 3, 1, 1, 8, 9, 2, 9, 7, 4, 8, 7, 8, 7, 3, 9, 4, 9, 0, 7, 4, 3, 3, 3, 7, 1, 8, 4, 9, 3, 0, 9]\n",
            "[8 1 9 ... 3 0 9]\n"
          ]
        }
      ]
    },
    {
      "cell_type": "code",
      "source": [
        "df_test=df_test/255.0\n",
        "\n",
        "df_test=df_test.values\n",
        "\n",
        "print(type(df_test))\n",
        "df_test.shape\n"
      ],
      "metadata": {
        "colab": {
          "base_uri": "https://localhost:8080/"
        },
        "id": "J8kdcBvBgtAT",
        "outputId": "c16f3010-9551-4b8f-d62c-07603c83978c"
      },
      "execution_count": 20,
      "outputs": [
        {
          "output_type": "stream",
          "name": "stdout",
          "text": [
            "<class 'numpy.ndarray'>\n"
          ]
        },
        {
          "output_type": "execute_result",
          "data": {
            "text/plain": [
              "(28000, 784)"
            ]
          },
          "metadata": {},
          "execution_count": 20
        }
      ]
    },
    {
      "cell_type": "code",
      "source": [
        "df_test=df_test.reshape(28000, 28, 28, 1)\n",
        "print(df_test)\n"
      ],
      "metadata": {
        "colab": {
          "base_uri": "https://localhost:8080/"
        },
        "id": "Vh5z5a-bhuxY",
        "outputId": "81593c0f-298c-45b8-82eb-1ce31e0b3de5"
      },
      "execution_count": 21,
      "outputs": [
        {
          "output_type": "stream",
          "name": "stdout",
          "text": [
            "[[[[0.]\n",
            "   [0.]\n",
            "   [0.]\n",
            "   ...\n",
            "   [0.]\n",
            "   [0.]\n",
            "   [0.]]\n",
            "\n",
            "  [[0.]\n",
            "   [0.]\n",
            "   [0.]\n",
            "   ...\n",
            "   [0.]\n",
            "   [0.]\n",
            "   [0.]]\n",
            "\n",
            "  [[0.]\n",
            "   [0.]\n",
            "   [0.]\n",
            "   ...\n",
            "   [0.]\n",
            "   [0.]\n",
            "   [0.]]\n",
            "\n",
            "  ...\n",
            "\n",
            "  [[0.]\n",
            "   [0.]\n",
            "   [0.]\n",
            "   ...\n",
            "   [0.]\n",
            "   [0.]\n",
            "   [0.]]\n",
            "\n",
            "  [[0.]\n",
            "   [0.]\n",
            "   [0.]\n",
            "   ...\n",
            "   [0.]\n",
            "   [0.]\n",
            "   [0.]]\n",
            "\n",
            "  [[0.]\n",
            "   [0.]\n",
            "   [0.]\n",
            "   ...\n",
            "   [0.]\n",
            "   [0.]\n",
            "   [0.]]]\n",
            "\n",
            "\n",
            " [[[0.]\n",
            "   [0.]\n",
            "   [0.]\n",
            "   ...\n",
            "   [0.]\n",
            "   [0.]\n",
            "   [0.]]\n",
            "\n",
            "  [[0.]\n",
            "   [0.]\n",
            "   [0.]\n",
            "   ...\n",
            "   [0.]\n",
            "   [0.]\n",
            "   [0.]]\n",
            "\n",
            "  [[0.]\n",
            "   [0.]\n",
            "   [0.]\n",
            "   ...\n",
            "   [0.]\n",
            "   [0.]\n",
            "   [0.]]\n",
            "\n",
            "  ...\n",
            "\n",
            "  [[0.]\n",
            "   [0.]\n",
            "   [0.]\n",
            "   ...\n",
            "   [0.]\n",
            "   [0.]\n",
            "   [0.]]\n",
            "\n",
            "  [[0.]\n",
            "   [0.]\n",
            "   [0.]\n",
            "   ...\n",
            "   [0.]\n",
            "   [0.]\n",
            "   [0.]]\n",
            "\n",
            "  [[0.]\n",
            "   [0.]\n",
            "   [0.]\n",
            "   ...\n",
            "   [0.]\n",
            "   [0.]\n",
            "   [0.]]]\n",
            "\n",
            "\n",
            " [[[0.]\n",
            "   [0.]\n",
            "   [0.]\n",
            "   ...\n",
            "   [0.]\n",
            "   [0.]\n",
            "   [0.]]\n",
            "\n",
            "  [[0.]\n",
            "   [0.]\n",
            "   [0.]\n",
            "   ...\n",
            "   [0.]\n",
            "   [0.]\n",
            "   [0.]]\n",
            "\n",
            "  [[0.]\n",
            "   [0.]\n",
            "   [0.]\n",
            "   ...\n",
            "   [0.]\n",
            "   [0.]\n",
            "   [0.]]\n",
            "\n",
            "  ...\n",
            "\n",
            "  [[0.]\n",
            "   [0.]\n",
            "   [0.]\n",
            "   ...\n",
            "   [0.]\n",
            "   [0.]\n",
            "   [0.]]\n",
            "\n",
            "  [[0.]\n",
            "   [0.]\n",
            "   [0.]\n",
            "   ...\n",
            "   [0.]\n",
            "   [0.]\n",
            "   [0.]]\n",
            "\n",
            "  [[0.]\n",
            "   [0.]\n",
            "   [0.]\n",
            "   ...\n",
            "   [0.]\n",
            "   [0.]\n",
            "   [0.]]]\n",
            "\n",
            "\n",
            " ...\n",
            "\n",
            "\n",
            " [[[0.]\n",
            "   [0.]\n",
            "   [0.]\n",
            "   ...\n",
            "   [0.]\n",
            "   [0.]\n",
            "   [0.]]\n",
            "\n",
            "  [[0.]\n",
            "   [0.]\n",
            "   [0.]\n",
            "   ...\n",
            "   [0.]\n",
            "   [0.]\n",
            "   [0.]]\n",
            "\n",
            "  [[0.]\n",
            "   [0.]\n",
            "   [0.]\n",
            "   ...\n",
            "   [0.]\n",
            "   [0.]\n",
            "   [0.]]\n",
            "\n",
            "  ...\n",
            "\n",
            "  [[0.]\n",
            "   [0.]\n",
            "   [0.]\n",
            "   ...\n",
            "   [0.]\n",
            "   [0.]\n",
            "   [0.]]\n",
            "\n",
            "  [[0.]\n",
            "   [0.]\n",
            "   [0.]\n",
            "   ...\n",
            "   [0.]\n",
            "   [0.]\n",
            "   [0.]]\n",
            "\n",
            "  [[0.]\n",
            "   [0.]\n",
            "   [0.]\n",
            "   ...\n",
            "   [0.]\n",
            "   [0.]\n",
            "   [0.]]]\n",
            "\n",
            "\n",
            " [[[0.]\n",
            "   [0.]\n",
            "   [0.]\n",
            "   ...\n",
            "   [0.]\n",
            "   [0.]\n",
            "   [0.]]\n",
            "\n",
            "  [[0.]\n",
            "   [0.]\n",
            "   [0.]\n",
            "   ...\n",
            "   [0.]\n",
            "   [0.]\n",
            "   [0.]]\n",
            "\n",
            "  [[0.]\n",
            "   [0.]\n",
            "   [0.]\n",
            "   ...\n",
            "   [0.]\n",
            "   [0.]\n",
            "   [0.]]\n",
            "\n",
            "  ...\n",
            "\n",
            "  [[0.]\n",
            "   [0.]\n",
            "   [0.]\n",
            "   ...\n",
            "   [0.]\n",
            "   [0.]\n",
            "   [0.]]\n",
            "\n",
            "  [[0.]\n",
            "   [0.]\n",
            "   [0.]\n",
            "   ...\n",
            "   [0.]\n",
            "   [0.]\n",
            "   [0.]]\n",
            "\n",
            "  [[0.]\n",
            "   [0.]\n",
            "   [0.]\n",
            "   ...\n",
            "   [0.]\n",
            "   [0.]\n",
            "   [0.]]]\n",
            "\n",
            "\n",
            " [[[0.]\n",
            "   [0.]\n",
            "   [0.]\n",
            "   ...\n",
            "   [0.]\n",
            "   [0.]\n",
            "   [0.]]\n",
            "\n",
            "  [[0.]\n",
            "   [0.]\n",
            "   [0.]\n",
            "   ...\n",
            "   [0.]\n",
            "   [0.]\n",
            "   [0.]]\n",
            "\n",
            "  [[0.]\n",
            "   [0.]\n",
            "   [0.]\n",
            "   ...\n",
            "   [0.]\n",
            "   [0.]\n",
            "   [0.]]\n",
            "\n",
            "  ...\n",
            "\n",
            "  [[0.]\n",
            "   [0.]\n",
            "   [0.]\n",
            "   ...\n",
            "   [0.]\n",
            "   [0.]\n",
            "   [0.]]\n",
            "\n",
            "  [[0.]\n",
            "   [0.]\n",
            "   [0.]\n",
            "   ...\n",
            "   [0.]\n",
            "   [0.]\n",
            "   [0.]]\n",
            "\n",
            "  [[0.]\n",
            "   [0.]\n",
            "   [0.]\n",
            "   ...\n",
            "   [0.]\n",
            "   [0.]\n",
            "   [0.]]]]\n"
          ]
        }
      ]
    },
    {
      "cell_type": "code",
      "source": [
        "\n",
        "df_test_pred=model.predict(df_test)\n",
        "print(df_test_pred[0])"
      ],
      "metadata": {
        "colab": {
          "base_uri": "https://localhost:8080/"
        },
        "id": "t4XhlZWFiZEs",
        "outputId": "64ae1832-8565-4c89-c87e-abbba1590a71"
      },
      "execution_count": 22,
      "outputs": [
        {
          "output_type": "stream",
          "name": "stdout",
          "text": [
            "875/875 [==============================] - 2s 2ms/step\n",
            "[1.9155988e-11 1.7143530e-15 9.9999994e-01 4.9640166e-14 1.0394799e-12\n",
            " 1.7634868e-19 7.4825388e-17 5.1422235e-11 8.8071076e-13 6.7031676e-15]\n"
          ]
        }
      ]
    },
    {
      "cell_type": "code",
      "source": [
        "df_test_pred_labels= [np.argmax(i) for i in df_test_pred]\n",
        "print(df_test_pred_labels)"
      ],
      "metadata": {
        "id": "64_ABHUEiqt_",
        "colab": {
          "base_uri": "https://localhost:8080/"
        },
        "outputId": "331bb17b-f834-47f4-cedd-744fdb008d4b"
      },
      "execution_count": 23,
      "outputs": [
        {
          "output_type": "stream",
          "name": "stdout",
          "text": [
            "[2, 0, 9, 9, 3, 7, 0, 3, 0, 3, 5, 7, 4, 0, 4, 3, 3, 1, 9, 0, 9, 1, 1, 5, 7, 4, 2, 7, 4, 7, 7, 5, 4, 2, 6, 2, 5, 5, 1, 6, 7, 7, 4, 9, 8, 7, 8, 2, 6, 7, 6, 8, 8, 3, 8, 2, 1, 2, 2, 0, 4, 1, 7, 0, 0, 0, 1, 9, 0, 1, 6, 5, 8, 8, 2, 8, 8, 9, 2, 3, 5, 9, 1, 0, 9, 2, 4, 3, 6, 7, 2, 0, 6, 6, 1, 4, 3, 9, 7, 4, 0, 9, 2, 0, 7, 3, 0, 5, 0, 8, 0, 0, 4, 7, 1, 7, 1, 1, 5, 3, 3, 7, 2, 8, 6, 3, 8, 7, 8, 4, 3, 5, 6, 0, 0, 0, 3, 1, 3, 6, 4, 3, 4, 5, 5, 8, 7, 7, 2, 8, 4, 3, 5, 6, 5, 3, 7, 3, 7, 8, 3, 0, 4, 5, 1, 2, 7, 6, 3, 0, 2, 7, 8, 6, 1, 3, 7, 4, 1, 2, 4, 8, 5, 2, 4, 9, 2, 1, 6, 0, 6, 1, 4, 9, 6, 0, 9, 7, 6, 9, 1, 9, 0, 9, 9, 0, 8, 4, 6, 2, 0, 9, 3, 6, 3, 2, 1, 6, 3, 4, 2, 3, 1, 2, 2, 0, 4, 6, 1, 0, 0, 4, 9, 1, 7, 3, 2, 3, 8, 6, 8, 6, 2, 8, 5, 5, 4, 8, 3, 6, 9, 7, 1, 3, 8, 4, 5, 1, 4, 5, 6, 3, 3, 5, 7, 0, 6, 8, 3, 1, 6, 0, 6, 3, 9, 5, 1, 5, 8, 4, 0, 9, 2, 0, 5, 3, 7, 8, 9, 9, 5, 7, 7, 9, 9, 6, 3, 0, 3, 3, 6, 9, 8, 2, 6, 3, 7, 1, 4, 5, 8, 5, 9, 0, 0, 3, 8, 4, 1, 8, 4, 1, 1, 9, 8, 4, 5, 1, 5, 3, 6, 3, 1, 3, 0, 9, 0, 0, 6, 0, 6, 3, 1, 8, 6, 0, 6, 5, 2, 2, 6, 7, 7, 2, 5, 8, 3, 9, 2, 7, 8, 6, 3, 8, 4, 2, 3, 8, 1, 6, 4, 8, 7, 9, 7, 6, 9, 5, 3, 7, 6, 5, 5, 4, 2, 6, 2, 1, 3, 7, 1, 7, 9, 9, 6, 1, 1, 1, 7, 3, 9, 7, 6, 1, 1, 1, 9, 3, 8, 5, 5, 0, 4, 1, 2, 3, 1, 1, 3, 5, 9, 6, 6, 5, 3, 1, 4, 7, 7, 7, 4, 8, 5, 2, 6, 1, 3, 9, 5, 0, 8, 4, 7, 4, 4, 4, 1, 5, 3, 9, 5, 7, 6, 9, 5, 9, 2, 3, 3, 6, 6, 7, 5, 0, 5, 1, 7, 4, 4, 1, 1, 4, 9, 5, 6, 0, 1, 3, 1, 0, 4, 8, 1, 2, 7, 9, 4, 8, 3, 7, 7, 4, 2, 4, 6, 7, 6, 3, 2, 0, 6, 5, 9, 4, 1, 8, 3, 3, 0, 6, 7, 8, 8, 7, 5, 3, 5, 7, 4, 3, 6, 9, 0, 7, 7, 1, 0, 1, 1, 7, 0, 5, 3, 8, 3, 5, 6, 5, 4, 3, 0, 2, 8, 2, 0, 3, 0, 9, 2, 1, 1, 3, 0, 5, 0, 0, 7, 5, 6, 2, 0, 3, 8, 1, 6, 5, 4, 1, 1, 4, 6, 5, 3, 6, 0, 4, 8, 2, 4, 2, 5, 1, 7, 6, 9, 1, 7, 3, 8, 0, 8, 8, 4, 5, 3, 6, 6, 6, 0, 3, 5, 1, 7, 1, 6, 2, 8, 5, 6, 4, 7, 4, 3, 3, 2, 4, 7, 0, 0, 9, 8, 5, 9, 4, 0, 8, 1, 3, 6, 2, 6, 1, 8, 6, 1, 4, 7, 7, 8, 3, 0, 9, 9, 6, 7, 7, 4, 4, 1, 8, 4, 8, 0, 2, 8, 2, 4, 3, 3, 7, 2, 3, 4, 0, 4, 8, 1, 3, 3, 6, 3, 9, 4, 3, 8, 7, 7, 2, 6, 0, 6, 9, 8, 8, 1, 3, 4, 6, 9, 9, 2, 6, 0, 1, 8, 4, 3, 9, 8, 8, 4, 0, 5, 0, 6, 0, 4, 4, 6, 5, 1, 8, 1, 5, 3, 6, 2, 3, 7, 8, 9, 3, 1, 0, 1, 0, 6, 4, 7, 5, 7, 1, 3, 2, 7, 7, 1, 5, 1, 5, 4, 4, 3, 4, 3, 9, 0, 7, 8, 6, 4, 9, 4, 4, 4, 4, 7, 1, 1, 8, 7, 0, 4, 0, 4, 0, 0, 5, 1, 8, 6, 5, 0, 1, 5, 3, 4, 6, 3, 1, 1, 6, 9, 8, 3, 5, 5, 4, 8, 6, 5, 0, 4, 0, 4, 3, 1, 6, 9, 9, 1, 1, 3, 3, 1, 4, 9, 6, 9, 1, 5, 4, 2, 3, 2, 4, 0, 9, 7, 4, 3, 0, 5, 0, 1, 9, 0, 4, 5, 2, 8, 8, 5, 9, 3, 9, 6, 1, 5, 5, 1, 9, 0, 8, 4, 6, 7, 2, 8, 5, 8, 9, 7, 7, 2, 8, 1, 3, 4, 5, 0, 4, 1, 4, 2, 3, 6, 9, 2, 3, 4, 5, 4, 2, 3, 3, 1, 1, 0, 1, 4, 9, 1, 1, 2, 7, 1, 5, 4, 9, 1, 7, 6, 0, 4, 2, 9, 4, 1, 1, 5, 3, 5, 7, 9, 7, 8, 3, 2, 7, 2, 0, 4, 7, 1, 6, 4, 6, 1, 5, 7, 3, 5, 9, 4, 7, 9, 6, 6, 3, 3, 2, 1, 4, 5, 3, 7, 7, 9, 5, 6, 0, 6, 1, 0, 9, 3, 2, 9, 2, 6, 7, 5, 2, 3, 2, 8, 3, 0, 2, 7, 9, 4, 0, 9, 5, 1, 8, 8, 5, 3, 2, 9, 6, 7, 0, 8, 0, 7, 4, 5, 8, 7, 9, 7, 7, 0, 5, 3, 2, 1, 9, 0, 6, 8, 3, 6, 2, 2, 9, 0, 7, 0, 7, 1, 3, 4, 6, 3, 9, 2, 6, 3, 7, 3, 7, 2, 3, 4, 9, 5, 9, 9, 6, 2, 6, 1, 5, 5, 1, 9, 1, 8, 9, 4, 5, 9, 5, 2, 0, 1, 6, 1, 9, 2, 2, 7, 7, 6, 6, 2, 6, 3, 5, 9, 1, 1, 3, 6, 3, 0, 0, 6, 0, 9, 4, 7, 0, 5, 9, 8, 8, 7, 6, 9, 2, 6, 1, 2, 9, 3, 0, 2, 3, 7, 7, 6, 6, 3, 1, 3, 1, 0, 1, 7, 6, 3, 3, 3, 3, 4, 2, 9, 1, 8, 2, 0, 6, 4, 6, 7, 2, 0, 1, 0, 5, 2, 6, 4, 9, 8, 5, 4, 1, 6, 3, 9, 6, 1, 2, 0, 8, 8, 0, 3, 6, 8, 7, 7, 7, 6, 0, 2, 1, 2, 8, 4, 5, 5, 3, 8, 7, 8, 4, 7, 4, 4, 1, 8, 0, 9, 1, 9, 0, 6, 4, 1, 2, 4, 5, 8, 2, 9, 1, 8, 2, 2, 7, 2, 5, 3, 8, 9, 9, 0, 7, 0, 3, 5, 9, 7, 3, 3, 8, 8, 9, 3, 2, 5, 4, 4, 8, 3, 0, 1, 7, 9, 6, 4, 0, 6, 7, 8, 4, 5, 9, 6, 7, 8, 2, 0, 0, 5, 0, 5, 9, 9, 9, 9, 5, 4, 3, 7, 5, 4, 1, 9, 5, 4, 9, 9, 5, 7, 8, 2, 4, 7, 4, 3, 8, 6, 6, 0, 4, 5, 5, 7, 6, 5, 5, 1, 9, 4, 2, 2, 2, 9, 9, 8, 1, 1, 3, 1, 0, 0, 4, 0, 2, 7, 6, 1, 4, 7, 0, 7, 1, 0, 3, 3, 1, 9, 8, 4, 6, 5, 9, 8, 6, 3, 6, 6, 6, 1, 1, 4, 0, 7, 8, 0, 4, 6, 7, 9, 5, 9, 6, 2, 4, 7, 5, 9, 8, 5, 1, 8, 0, 3, 6, 8, 1, 3, 0, 3, 1, 9, 1, 4, 5, 8, 2, 2, 9, 1, 3, 3, 0, 5, 6, 1, 8, 3, 6, 7, 2, 3, 2, 9, 2, 1, 5, 9, 8, 7, 3, 8, 4, 6, 8, 2, 1, 6, 7, 6, 1, 1, 0, 5, 0, 9, 1, 7, 4, 0, 8, 7, 5, 9, 8, 8, 2, 5, 4, 3, 7, 9, 4, 7, 2, 7, 4, 1, 5, 8, 2, 3, 5, 9, 8, 4, 5, 9, 1, 5, 1, 1, 3, 7, 5, 1, 7, 9, 2, 3, 6, 8, 8, 5, 0, 8, 8, 4, 7, 1, 9, 6, 8, 9, 4, 9, 9, 6, 3, 2, 7, 4, 8, 0, 4, 9, 0, 8, 8, 7, 0, 9, 0, 8, 7, 0, 8, 5, 3, 3, 6, 2, 5, 3, 1, 7, 3, 1, 0, 6, 5, 9, 3, 2, 9, 4, 8, 8, 7, 6, 4, 4, 0, 7, 8, 9, 6, 7, 3, 8, 9, 5, 0, 8, 6, 0, 3, 0, 1, 8, 3, 8, 6, 0, 1, 2, 0, 7, 3, 6, 9, 2, 3, 1, 7, 7, 9, 5, 9, 9, 1, 1, 5, 8, 3, 2, 5, 4, 1, 8, 4, 0, 7, 0, 1, 0, 0, 7, 1, 3, 5, 5, 8, 9, 7, 9, 4, 6, 0, 1, 9, 2, 7, 4, 8, 5, 0, 5, 9, 8, 7, 5, 0, 8, 9, 9, 6, 3, 0, 8, 7, 5, 2, 6, 1, 7, 2, 3, 8, 8, 1, 4, 6, 2, 4, 0, 2, 3, 6, 3, 9, 2, 9, 1, 3, 2, 5, 8, 7, 7, 6, 2, 0, 3, 2, 8, 1, 5, 4, 3, 3, 1, 9, 3, 2, 1, 1, 3, 6, 1, 3, 4, 4, 9, 6, 6, 7, 5, 9, 6, 6, 1, 0, 7, 8, 8, 8, 3, 7, 7, 7, 1, 4, 6, 1, 0, 0, 1, 7, 7, 8, 8, 9, 8, 2, 4, 8, 1, 3, 6, 1, 3, 3, 6, 6, 5, 8, 8, 5, 4, 5, 9, 8, 2, 0, 1, 3, 3, 5, 6, 3, 3, 6, 9, 3, 3, 7, 7, 5, 6, 5, 1, 7, 4, 5, 9, 0, 2, 0, 0, 9, 5, 3, 0, 8, 0, 7, 7, 1, 5, 4, 4, 9, 7, 0, 3, 1, 3, 3, 6, 2, 4, 2, 1, 6, 5, 9, 3, 4, 1, 9, 4, 0, 3, 5, 1, 0, 0, 5, 3, 9, 4, 9, 1, 0, 0, 5, 7, 1, 6, 8, 3, 7, 0, 3, 8, 2, 8, 6, 7, 9, 1, 8, 4, 5, 3, 1, 5, 2, 2, 5, 3, 8, 8, 2, 7, 4, 8, 5, 7, 0, 6, 6, 2, 3, 2, 2, 9, 1, 9, 6, 9, 2, 2, 6, 0, 4, 0, 0, 0, 0, 3, 0, 4, 3, 6, 7, 8, 6, 0, 5, 1, 8, 5, 6, 0, 2, 7, 6, 1, 3, 9, 9, 3, 0, 3, 5, 9, 6, 8, 3, 1, 0, 0, 9, 0, 6, 6, 2, 4, 3, 0, 2, 7, 1, 5, 8, 5, 8, 8, 4, 7, 4, 3, 6, 5, 7, 3, 1, 6, 7, 1, 3, 1, 8, 8, 1, 5, 2, 2, 6, 9, 0, 2, 7, 2, 7, 4, 4, 8, 3, 0, 4, 5, 1, 9, 6, 9, 7, 6, 5, 0, 6, 1, 3, 8, 4, 6, 0, 0, 3, 7, 9, 8, 5, 9, 9, 1, 5, 0, 9, 1, 7, 9, 0, 8, 9, 0, 6, 9, 2, 4, 2, 1, 9, 4, 4, 8, 8, 6, 5, 6, 1, 3, 5, 9, 3, 9, 7, 0, 7, 6, 5, 8, 6, 6, 0, 7, 4, 5, 8, 7, 7, 8, 5, 8, 5, 5, 3, 6, 8, 3, 6, 1, 9, 8, 0, 9, 4, 4, 5, 8, 4, 0, 9, 3, 0, 9, 4, 6, 4, 0, 2, 0, 1, 7, 5, 9, 8, 7, 8, 6, 2, 0, 0, 3, 7, 8, 6, 1, 6, 7, 2, 5, 9, 7, 1, 1, 4, 1, 6, 6, 7, 0, 8, 4, 7, 0, 9, 4, 6, 2, 6, 7, 3, 2, 9, 6, 5, 2, 5, 8, 5, 6, 3, 2, 2, 7, 7, 3, 4, 9, 2, 8, 0, 2, 4, 0, 9, 4, 5, 8, 8, 9, 3, 3, 5, 9, 0, 7, 0, 5, 5, 2, 9, 1, 9, 9, 4, 6, 4, 6, 8, 9, 0, 0, 8, 2, 1, 6, 8, 2, 3, 0, 3, 5, 5, 7, 3, 3, 5, 9, 6, 2, 3, 4, 3, 7, 7, 9, 2, 6, 6, 9, 5, 8, 0, 6, 7, 4, 2, 2, 4, 0, 6, 2, 1, 4, 2, 6, 7, 5, 6, 2, 0, 6, 8, 2, 4, 4, 5, 7, 6, 8, 1, 4, 6, 6, 1, 5, 2, 5, 3, 0, 1, 1, 4, 7, 0, 3, 6, 5, 0, 5, 2, 0, 8, 9, 1, 5, 7, 3, 3, 6, 1, 6, 5, 9, 5, 2, 0, 7, 4, 0, 2, 7, 4, 4, 6, 0, 4, 6, 8, 9, 1, 7, 4, 7, 9, 4, 7, 4, 8, 5, 9, 5, 5, 1, 9, 3, 6, 4, 0, 2, 6, 6, 8, 0, 4, 3, 1, 2, 6, 7, 3, 7, 9, 1, 5, 5, 4, 0, 1, 4, 2, 1, 1, 4, 2, 2, 1, 1, 7, 9, 4, 8, 0, 8, 9, 3, 8, 9, 4, 6, 3, 3, 3, 9, 4, 3, 6, 9, 1, 4, 6, 0, 6, 0, 5, 9, 0, 1, 8, 0, 4, 2, 0, 1, 5, 3, 4, 5, 7, 6, 0, 8, 7, 9, 0, 3, 2, 6, 0, 5, 5, 9, 6, 5, 4, 2, 1, 4, 3, 6, 4, 8, 7, 2, 8, 0, 3, 4, 5, 3, 3, 1, 6, 4, 5, 9, 7, 0, 1, 2, 5, 3, 2, 6, 4, 2, 5, 9, 3, 4, 6, 3, 5, 8, 2, 8, 9, 8, 7, 5, 3, 9, 9, 4, 6, 7, 3, 6, 9, 9, 6, 6, 0, 9, 4, 9, 7, 4, 1, 7, 2, 8, 8, 0, 5, 6, 7, 1, 8, 0, 8, 0, 9, 4, 2, 4, 2, 1, 1, 6, 7, 6, 7, 5, 3, 6, 6, 3, 4, 3, 7, 8, 8, 7, 0, 0, 7, 7, 1, 6, 0, 3, 9, 9, 8, 5, 1, 7, 0, 1, 9, 5, 9, 9, 0, 1, 9, 0, 9, 4, 4, 2, 2, 5, 5, 0, 0, 5, 9, 4, 3, 4, 2, 5, 0, 0, 3, 2, 3, 5, 9, 0, 1, 4, 5, 9, 2, 2, 3, 3, 4, 4, 1, 0, 8, 3, 5, 5, 6, 9, 1, 9, 8, 7, 0, 3, 3, 8, 7, 0, 3, 3, 9, 7, 3, 1, 9, 6, 3, 3, 4, 0, 2, 1, 3, 9, 5, 1, 7, 9, 7, 9, 6, 1, 5, 6, 6, 9, 0, 4, 2, 2, 4, 3, 7, 6, 4, 1, 4, 2, 4, 1, 0, 2, 2, 1, 0, 2, 7, 2, 6, 9, 2, 0, 2, 0, 0, 5, 0, 3, 9, 0, 6, 6, 4, 1, 5, 9, 2, 4, 2, 9, 1, 1, 3, 0, 1, 1, 5, 0, 2, 9, 7, 3, 6, 8, 7, 8, 5, 7, 2, 6, 9, 4, 5, 7, 1, 3, 6, 0, 9, 9, 4, 6, 8, 6, 4, 1, 0, 3, 3, 0, 7, 8, 9, 1, 5, 7, 7, 3, 4, 6, 2, 9, 3, 0, 7, 4, 8, 8, 2, 4, 0, 0, 9, 8, 3, 9, 9, 0, 1, 6, 7, 7, 8, 4, 6, 8, 7, 6, 6, 3, 3, 5, 2, 1, 6, 4, 1, 9, 9, 6, 4, 6, 4, 5, 9, 4, 9, 9, 3, 2, 5, 1, 6, 2, 2, 7, 2, 3, 4, 7, 4, 1, 0, 1, 9, 0, 7, 4, 9, 0, 9, 4, 4, 0, 9, 6, 7, 4, 9, 7, 0, 2, 8, 5, 2, 4, 2, 4, 5, 2, 6, 6, 8, 8, 6, 7, 4, 1, 4, 8, 3, 2, 5, 4, 0, 9, 0, 1, 4, 9, 7, 7, 3, 9, 5, 3, 1, 9, 2, 6, 7, 7, 1, 0, 5, 1, 6, 8, 8, 6, 7, 3, 7, 2, 8, 5, 5, 0, 8, 1, 5, 6, 2, 9, 9, 1, 6, 9, 8, 5, 3, 7, 7, 8, 7, 4, 7, 0, 4, 0, 5, 4, 3, 1, 9, 6, 3, 0, 0, 2, 8, 9, 9, 1, 1, 8, 1, 3, 2, 3, 1, 0, 3, 8, 5, 0, 7, 2, 0, 6, 1, 8, 1, 1, 8, 2, 2, 6, 1, 7, 9, 7, 6, 7, 5, 1, 9, 6, 3, 7, 6, 4, 4, 4, 0, 8, 2, 0, 8, 6, 4, 8, 1, 9, 2, 9, 5, 1, 5, 1, 1, 4, 7, 0, 1, 2, 4, 6, 1, 9, 2, 9, 2, 9, 2, 6, 6, 5, 5, 5, 8, 9, 6, 1, 1, 6, 1, 2, 1, 9, 4, 7, 4, 7, 1, 0, 6, 4, 6, 5, 3, 3, 4, 0, 1, 1, 6, 0, 5, 1, 2, 7, 6, 4, 3, 9, 0, 4, 0, 3, 1, 4, 9, 2, 1, 7, 0, 9, 6, 8, 5, 8, 6, 0, 8, 7, 9, 9, 3, 1, 3, 2, 3, 1, 1, 2, 0, 0, 7, 2, 8, 1, 6, 0, 6, 7, 4, 3, 6, 7, 1, 2, 8, 9, 9, 4, 2, 7, 7, 3, 5, 1, 7, 7, 3, 7, 8, 4, 2, 5, 6, 1, 9, 7, 7, 7, 8, 9, 9, 7, 8, 9, 5, 2, 9, 5, 0, 7, 6, 1, 6, 5, 2, 7, 2, 5, 6, 9, 5, 8, 2, 2, 2, 9, 7, 9, 5, 1, 1, 1, 4, 5, 6, 1, 7, 0, 7, 9, 2, 7, 3, 3, 1, 5, 7, 1, 5, 1, 6, 0, 2, 6, 9, 9, 7, 9, 8, 7, 7, 7, 5, 6, 2, 9, 8, 8, 9, 7, 3, 1, 3, 4, 8, 2, 0, 2, 6, 3, 1, 0, 9, 9, 1, 6, 8, 8, 6, 6, 2, 3, 6, 1, 6, 6, 2, 0, 6, 0, 8, 2, 2, 8, 6, 4, 9, 5, 0, 4, 0, 0, 9, 7, 9, 2, 9, 2, 8, 5, 3, 5, 8, 7, 9, 5, 7, 3, 0, 2, 8, 0, 6, 0, 5, 9, 9, 3, 9, 2, 2, 3, 3, 7, 4, 5, 8, 5, 8, 6, 3, 3, 1, 2, 6, 8, 5, 5, 2, 7, 4, 1, 9, 3, 6, 8, 8, 2, 5, 8, 3, 9, 1, 6, 9, 6, 7, 5, 8, 3, 8, 8, 6, 7, 5, 1, 2, 8, 9, 3, 8, 8, 3, 9, 4, 8, 7, 6, 9, 5, 3, 0, 9, 9, 6, 8, 7, 9, 1, 2, 3, 2, 1, 5, 2, 9, 4, 4, 4, 3, 0, 0, 3, 1, 3, 1, 1, 0, 5, 6, 2, 7, 6, 0, 4, 4, 7, 0, 7, 0, 8, 7, 1, 3, 7, 8, 9, 0, 9, 0, 0, 1, 8, 8, 7, 4, 8, 3, 5, 9, 0, 3, 6, 3, 6, 5, 0, 4, 2, 6, 9, 3, 0, 9, 4, 5, 7, 7, 4, 2, 3, 9, 2, 8, 8, 0, 1, 9, 4, 2, 2, 1, 8, 2, 7, 3, 5, 1, 3, 0, 2, 2, 1, 7, 9, 1, 8, 8, 7, 6, 9, 7, 1, 8, 9, 9, 2, 0, 6, 1, 5, 2, 0, 9, 2, 5, 5, 3, 4, 0, 4, 0, 4, 4, 0, 4, 3, 7, 8, 0, 4, 0, 2, 6, 8, 2, 1, 5, 2, 5, 8, 5, 6, 1, 4, 8, 6, 2, 1, 3, 9, 8, 3, 7, 8, 7, 8, 2, 1, 5, 6, 4, 7, 5, 5, 4, 0, 8, 1, 6, 0, 3, 3, 7, 8, 8, 4, 3, 4, 3, 2, 1, 7, 0, 9, 4, 2, 8, 6, 8, 5, 2, 8, 4, 8, 1, 4, 3, 4, 1, 2, 1, 5, 3, 5, 7, 2, 4, 7, 6, 3, 1, 2, 8, 6, 8, 7, 6, 2, 0, 1, 1, 0, 6, 3, 9, 7, 3, 1, 9, 4, 6, 9, 7, 1, 7, 8, 1, 3, 5, 1, 2, 7, 6, 6, 5, 0, 4, 5, 9, 6, 3, 9, 1, 2, 4, 1, 3, 4, 0, 1, 8, 0, 2, 9, 2, 7, 7, 9, 1, 4, 7, 3, 3, 9, 9, 1, 3, 7, 8, 4, 9, 7, 9, 7, 1, 5, 4, 0, 0, 0, 5, 5, 8, 3, 0, 4, 1, 2, 8, 1, 0, 8, 8, 3, 4, 6, 9, 3, 2, 7, 2, 6, 8, 1, 0, 1, 8, 1, 3, 7, 4, 9, 9, 3, 5, 0, 3, 5, 4, 8, 6, 1, 6, 9, 6, 6, 6, 1, 9, 0, 3, 9, 8, 4, 6, 3, 6, 8, 9, 9, 5, 1, 8, 0, 2, 0, 8, 9, 5, 2, 0, 1, 4, 9, 2, 8, 1, 8, 8, 3, 7, 9, 6, 9, 9, 5, 7, 4, 6, 4, 9, 6, 0, 0, 4, 3, 5, 7, 1, 7, 1, 9, 2, 1, 3, 1, 9, 1, 8, 5, 8, 7, 9, 3, 2, 3, 6, 1, 7, 5, 2, 2, 6, 3, 7, 0, 5, 6, 7, 9, 6, 8, 6, 0, 9, 5, 9, 4, 1, 9, 5, 0, 7, 6, 2, 5, 5, 6, 6, 0, 4, 3, 8, 4, 3, 5, 0, 2, 6, 5, 0, 2, 6, 0, 6, 0, 5, 3, 6, 1, 9, 3, 8, 4, 3, 3, 2, 5, 4, 6, 0, 6, 1, 2, 0, 3, 5, 5, 0, 4, 1, 1, 3, 3, 9, 3, 3, 6, 4, 9, 0, 6, 9, 7, 9, 8, 5, 7, 9, 1, 4, 6, 8, 6, 8, 4, 9, 7, 1, 6, 8, 6, 7, 9, 4, 2, 7, 9, 9, 9, 1, 6, 6, 8, 0, 6, 3, 7, 7, 6, 7, 0, 1, 6, 5, 4, 5, 6, 2, 5, 3, 9, 5, 1, 3, 9, 6, 9, 7, 0, 6, 2, 7, 6, 9, 0, 3, 8, 1, 2, 9, 3, 0, 8, 1, 0, 9, 8, 6, 5, 1, 3, 6, 7, 1, 5, 1, 8, 1, 7, 3, 7, 9, 5, 2, 4, 9, 6, 3, 6, 6, 0, 8, 1, 7, 7, 1, 9, 0, 1, 4, 9, 1, 7, 3, 1, 6, 2, 2, 7, 2, 4, 1, 5, 6, 1, 5, 3, 2, 2, 9, 1, 7, 4, 8, 5, 5, 6, 3, 8, 1, 3, 9, 5, 6, 7, 5, 3, 3, 7, 7, 1, 8, 0, 6, 8, 9, 3, 3, 6, 8, 2, 0, 1, 0, 1, 1, 3, 1, 2, 9, 0, 3, 8, 8, 0, 5, 9, 8, 3, 2, 1, 3, 6, 5, 2, 7, 7, 9, 8, 5, 7, 1, 7, 4, 3, 9, 4, 4, 3, 2, 0, 0, 0, 3, 1, 1, 4, 3, 4, 2, 2, 2, 8, 4, 7, 4, 0, 4, 9, 1, 0, 7, 1, 2, 1, 6, 2, 4, 0, 4, 6, 0, 5, 1, 4, 2, 6, 2, 9, 7, 3, 4, 3, 9, 0, 1, 4, 8, 6, 2, 1, 1, 7, 3, 2, 9, 2, 2, 5, 2, 1, 0, 2, 5, 0, 0, 0, 4, 2, 7, 3, 0, 2, 1, 9, 0, 8, 5, 3, 8, 2, 2, 0, 2, 7, 0, 4, 0, 3, 0, 2, 2, 8, 0, 9, 2, 3, 0, 2, 4, 8, 7, 1, 4, 2, 2, 1, 6, 7, 6, 6, 3, 3, 6, 7, 3, 9, 1, 2, 8, 5, 0, 1, 0, 9, 7, 9, 0, 8, 5, 1, 4, 7, 6, 4, 8, 1, 2, 2, 6, 4, 2, 9, 8, 2, 6, 5, 8, 3, 1, 7, 4, 6, 0, 1, 3, 8, 1, 4, 0, 8, 6, 6, 1, 6, 2, 3, 9, 1, 5, 6, 6, 1, 4, 0, 3, 6, 0, 5, 6, 8, 9, 4, 7, 7, 7, 8, 8, 7, 5, 2, 7, 8, 1, 1, 9, 5, 4, 1, 0, 1, 3, 2, 3, 6, 3, 3, 1, 2, 7, 1, 7, 7, 0, 0, 3, 0, 0, 2, 0, 0, 7, 1, 7, 8, 6, 6, 7, 1, 5, 6, 2, 4, 9, 1, 3, 4, 0, 4, 9, 2, 8, 6, 2, 7, 4, 7, 5, 0, 3, 7, 5, 6, 6, 9, 0, 3, 5, 2, 8, 9, 8, 2, 2, 9, 7, 1, 7, 7, 2, 7, 3, 2, 2, 8, 4, 0, 2, 2, 8, 1, 1, 2, 2, 2, 3, 0, 1, 6, 3, 9, 4, 3, 9, 7, 9, 0, 7, 3, 5, 2, 3, 0, 1, 9, 9, 7, 9, 2, 7, 4, 7, 0, 6, 5, 1, 9, 5, 2, 7, 2, 2, 5, 6, 8, 5, 8, 2, 3, 3, 1, 4, 7, 3, 8, 4, 5, 7, 4, 1, 9, 0, 4, 8, 0, 6, 5, 6, 5, 2, 0, 3, 3, 1, 6, 1, 4, 1, 1, 1, 1, 3, 9, 1, 0, 4, 2, 9, 3, 5, 9, 5, 5, 2, 5, 0, 8, 0, 4, 2, 4, 3, 8, 7, 9, 4, 0, 1, 4, 9, 1, 4, 3, 2, 0, 8, 4, 1, 0, 9, 3, 2, 4, 6, 9, 0, 6, 1, 1, 7, 4, 7, 8, 7, 3, 7, 0, 1, 8, 4, 2, 5, 4, 8, 9, 1, 0, 2, 8, 7, 8, 4, 4, 7, 6, 9, 4, 1, 7, 8, 8, 3, 4, 2, 4, 7, 8, 7, 8, 7, 4, 9, 4, 7, 3, 6, 9, 1, 5, 1, 0, 1, 8, 1, 6, 9, 3, 3, 6, 5, 5, 8, 1, 9, 2, 3, 7, 9, 9, 2, 9, 8, 3, 4, 5, 1, 4, 9, 6, 1, 3, 5, 6, 9, 6, 5, 3, 5, 4, 5, 0, 2, 6, 8, 9, 9, 9, 6, 6, 7, 5, 8, 2, 0, 9, 5, 0, 1, 9, 7, 2, 3, 3, 0, 4, 9, 3, 1, 3, 9, 0, 3, 8, 4, 9, 4, 6, 8, 9, 6, 9, 9, 8, 6, 5, 0, 4, 8, 6, 0, 0, 9, 1, 4, 2, 5, 6, 3, 8, 8, 8, 8, 2, 4, 2, 7, 6, 4, 7, 8, 6, 9, 8, 6, 1, 5, 4, 3, 9, 9, 3, 0, 8, 2, 9, 1, 6, 9, 1, 0, 1, 8, 7, 6, 5, 5, 4, 1, 7, 3, 9, 1, 1, 2, 3, 9, 0, 7, 2, 2, 4, 1, 7, 7, 7, 8, 3, 5, 1, 6, 2, 1, 0, 8, 7, 8, 5, 1, 1, 8, 6, 9, 6, 6, 9, 8, 1, 7, 4, 9, 1, 6, 7, 8, 0, 7, 6, 1, 6, 8, 1, 3, 9, 0, 7, 5, 3, 2, 7, 0, 5, 1, 4, 0, 8, 7, 0, 6, 5, 1, 7, 0, 1, 6, 6, 1, 4, 8, 6, 8, 9, 5, 1, 0, 2, 2, 0, 7, 8, 3, 5, 1, 8, 3, 7, 6, 9, 8, 4, 9, 1, 0, 3, 3, 5, 9, 2, 7, 6, 3, 3, 8, 0, 0, 9, 7, 5, 5, 0, 3, 0, 7, 2, 1, 0, 7, 1, 5, 7, 0, 2, 5, 4, 2, 0, 1, 3, 1, 1, 3, 6, 6, 8, 4, 2, 3, 0, 1, 4, 4, 1, 8, 8, 4, 7, 6, 2, 5, 1, 9, 2, 5, 9, 1, 4, 3, 9, 4, 6, 9, 8, 5, 0, 8, 4, 7, 0, 0, 8, 0, 4, 7, 0, 2, 2, 7, 9, 6, 9, 5, 6, 1, 1, 1, 4, 8, 7, 9, 6, 2, 2, 2, 8, 5, 7, 1, 1, 1, 2, 9, 1, 8, 1, 9, 2, 1, 0, 6, 4, 7, 6, 5, 9, 1, 2, 8, 8, 4, 4, 3, 7, 1, 7, 9, 2, 8, 8, 6, 1, 3, 4, 5, 6, 8, 7, 0, 0, 1, 5, 4, 5, 5, 7, 3, 2, 0, 9, 9, 4, 9, 5, 0, 3, 6, 3, 3, 1, 7, 4, 0, 0, 2, 7, 7, 1, 8, 7, 4, 5, 0, 1, 9, 7, 4, 5, 0, 9, 8, 6, 3, 3, 1, 6, 8, 8, 0, 9, 9, 1, 1, 3, 7, 2, 0, 3, 0, 4, 9, 9, 8, 8, 0, 9, 0, 1, 6, 0, 2, 0, 2, 5, 7, 0, 6, 9, 2, 2, 2, 5, 3, 6, 4, 3, 2, 5, 9, 3, 5, 2, 9, 5, 4, 1, 7, 2, 5, 3, 9, 7, 2, 4, 0, 8, 7, 9, 7, 8, 4, 6, 6, 3, 2, 6, 7, 0, 6, 0, 2, 2, 3, 0, 0, 3, 3, 4, 1, 1, 4, 3, 3, 0, 0, 3, 2, 4, 1, 5, 9, 2, 4, 2, 5, 8, 4, 9, 9, 1, 8, 0, 0, 9, 0, 8, 2, 0, 9, 8, 6, 2, 3, 2, 0, 6, 3, 8, 1, 9, 2, 0, 4, 2, 8, 9, 4, 3, 6, 0, 2, 0, 4, 5, 3, 4, 1, 2, 2, 4, 9, 4, 3, 2, 1, 9, 1, 6, 1, 0, 3, 4, 0, 1, 9, 4, 0, 0, 4, 8, 1, 9, 2, 3, 3, 4, 3, 7, 0, 7, 9, 7, 4, 5, 9, 7, 7, 0, 4, 2, 2, 7, 8, 5, 0, 4, 9, 8, 8, 2, 4, 1, 4, 1, 4, 1, 0, 9, 9, 5, 6, 4, 9, 2, 2, 6, 0, 3, 0, 2, 3, 0, 4, 0, 1, 0, 8, 4, 9, 3, 7, 1, 4, 1, 7, 6, 0, 7, 7, 1, 5, 0, 3, 6, 0, 2, 8, 5, 8, 5, 7, 7, 2, 9, 6, 7, 8, 8, 8, 7, 3, 1, 7, 3, 1, 8, 0, 1, 0, 4, 3, 7, 2, 9, 7, 9, 3, 6, 2, 3, 4, 1, 3, 0, 9, 9, 2, 6, 4, 0, 0, 7, 5, 1, 8, 3, 8, 1, 6, 5, 8, 9, 2, 2, 0, 7, 1, 6, 7, 1, 6, 8, 4, 3, 5, 9, 1, 3, 5, 3, 1, 9, 2, 5, 8, 6, 3, 6, 0, 9, 2, 5, 1, 3, 7, 4, 4, 4, 2, 0, 6, 3, 1, 0, 4, 3, 6, 1, 7, 6, 2, 7, 1, 7, 0, 6, 9, 6, 5, 1, 3, 6, 8, 1, 9, 0, 6, 6, 9, 3, 6, 8, 2, 4, 0, 6, 1, 8, 5, 1, 4, 0, 9, 9, 9, 4, 8, 4, 1, 6, 4, 9, 1, 8, 9, 2, 3, 4, 6, 1, 0, 1, 6, 7, 9, 0, 0, 8, 1, 4, 2, 5, 2, 8, 4, 6, 9, 7, 1, 5, 3, 5, 4, 9, 3, 3, 5, 3, 0, 0, 5, 9, 2, 5, 3, 7, 6, 5, 9, 6, 5, 0, 2, 1, 3, 8, 5, 7, 7, 0, 7, 7, 1, 5, 6, 7, 0, 4, 3, 0, 0, 0, 0, 7, 6, 8, 0, 6, 7, 1, 3, 1, 0, 2, 3, 5, 1, 8, 6, 1, 7, 6, 3, 6, 6, 8, 3, 8, 5, 1, 5, 2, 6, 5, 1, 5, 8, 3, 5, 5, 3, 2, 3, 8, 5, 8, 6, 7, 0, 3, 8, 8, 4, 2, 6, 4, 5, 8, 3, 0, 5, 1, 1, 3, 0, 9, 6, 7, 8, 2, 5, 3, 6, 2, 0, 6, 8, 1, 2, 9, 7, 0, 2, 5, 5, 6, 1, 4, 1, 3, 1, 5, 5, 0, 1, 9, 3, 9, 5, 0, 7, 9, 8, 3, 0, 1, 3, 5, 8, 1, 8, 3, 7, 0, 9, 6, 4, 8, 3, 0, 6, 0, 4, 5, 8, 2, 1, 5, 4, 0, 1, 4, 1, 7, 3, 9, 2, 9, 1, 2, 1, 7, 6, 6, 1, 5, 9, 8, 9, 0, 2, 3, 1, 7, 0, 1, 5, 2, 7, 3, 2, 5, 9, 2, 4, 0, 5, 1, 5, 9, 1, 0, 9, 4, 5, 4, 8, 7, 1, 3, 3, 2, 4, 1, 1, 8, 0, 5, 2, 8, 9, 0, 9, 7, 0, 9, 9, 2, 7, 6, 1, 7, 1, 6, 0, 2, 9, 9, 9, 4, 8, 2, 4, 0, 9, 3, 8, 9, 4, 2, 0, 3, 3, 0, 3, 9, 4, 8, 5, 5, 6, 9, 6, 8, 4, 7, 6, 7, 4, 9, 4, 2, 1, 0, 8, 1, 3, 6, 0, 1, 9, 9, 6, 5, 5, 0, 7, 1, 3, 6, 9, 3, 3, 4, 8, 4, 7, 9, 1, 2, 9, 5, 7, 4, 3, 9, 3, 9, 5, 0, 7, 9, 2, 2, 1, 8, 3, 2, 7, 8, 7, 1, 2, 8, 7, 4, 8, 0, 9, 4, 0, 0, 3, 3, 4, 2, 0, 7, 6, 3, 2, 7, 4, 1, 2, 7, 4, 9, 2, 3, 2, 5, 8, 0, 8, 7, 9, 7, 1, 3, 5, 4, 2, 4, 7, 9, 9, 6, 4, 5, 4, 9, 1, 9, 6, 5, 6, 2, 8, 6, 8, 8, 8, 9, 6, 8, 8, 6, 4, 0, 2, 6, 1, 3, 8, 9, 8, 7, 7, 7, 8, 0, 7, 9, 5, 2, 3, 7, 4, 6, 4, 7, 2, 9, 6, 4, 0, 4, 6, 8, 8, 4, 9, 4, 4, 3, 6, 9, 6, 4, 1, 8, 5, 7, 8, 5, 2, 8, 8, 7, 0, 5, 0, 7, 2, 3, 4, 7, 8, 1, 5, 5, 3, 5, 2, 5, 0, 5, 6, 4, 7, 4, 1, 1, 9, 1, 9, 9, 4, 8, 4, 3, 7, 6, 2, 0, 1, 8, 9, 6, 7, 4, 5, 7, 5, 3, 1, 6, 0, 3, 2, 4, 5, 1, 8, 1, 8, 8, 5, 8, 5, 8, 5, 2, 7, 0, 1, 5, 1, 9, 0, 9, 9, 2, 0, 7, 3, 1, 3, 4, 7, 8, 0, 1, 2, 9, 3, 1, 6, 2, 0, 5, 0, 1, 6, 1, 9, 7, 7, 8, 6, 8, 4, 0, 7, 1, 0, 1, 3, 4, 9, 0, 9, 4, 5, 1, 6, 9, 4, 6, 6, 6, 1, 1, 3, 5, 8, 2, 4, 8, 8, 9, 8, 1, 1, 1, 8, 5, 5, 6, 5, 2, 2, 8, 7, 9, 8, 1, 9, 9, 0, 6, 6, 2, 3, 8, 3, 0, 0, 5, 0, 9, 2, 1, 3, 3, 3, 8, 8, 9, 9, 9, 5, 6, 7, 1, 7, 2, 9, 1, 6, 3, 5, 0, 7, 7, 6, 5, 1, 8, 1, 3, 4, 5, 8, 2, 4, 2, 8, 0, 4, 5, 1, 9, 7, 4, 2, 8, 8, 5, 8, 6, 8, 7, 4, 9, 7, 4, 4, 2, 6, 9, 1, 9, 9, 0, 6, 8, 3, 3, 6, 4, 6, 6, 8, 1, 9, 4, 3, 7, 2, 8, 5, 1, 2, 6, 8, 0, 0, 1, 7, 8, 4, 9, 6, 0, 7, 3, 9, 9, 2, 7, 4, 2, 0, 5, 2, 6, 4, 1, 7, 3, 0, 4, 8, 1, 6, 1, 4, 7, 2, 1, 0, 3, 3, 9, 0, 9, 6, 6, 0, 2, 8, 3, 0, 5, 8, 8, 5, 3, 5, 0, 8, 0, 7, 3, 3, 2, 5, 1, 2, 6, 5, 4, 7, 2, 2, 9, 0, 8, 1, 0, 5, 0, 8, 0, 4, 1, 6, 7, 7, 8, 5, 0, 2, 6, 4, 6, 8, 9, 6, 6, 4, 9, 4, 3, 7, 6, 3, 1, 7, 6, 1, 4, 9, 0, 6, 6, 3, 2, 0, 3, 4, 3, 8, 8, 1, 3, 3, 0, 6, 6, 8, 6, 2, 3, 3, 4, 2, 0, 6, 0, 2, 1, 9, 6, 6, 1, 7, 7, 0, 2, 9, 4, 0, 5, 0, 7, 5, 8, 5, 6, 1, 7, 0, 6, 6, 5, 9, 3, 6, 4, 2, 1, 1, 7, 8, 5, 9, 3, 3, 7, 6, 1, 5, 2, 1, 2, 5, 7, 0, 5, 2, 6, 6, 9, 1, 0, 5, 5, 2, 4, 6, 3, 0, 9, 4, 9, 4, 7, 0, 0, 4, 0, 9, 2, 7, 1, 1, 2, 1, 1, 6, 3, 2, 5, 8, 1, 8, 9, 0, 3, 8, 4, 1, 6, 8, 5, 8, 4, 3, 5, 8, 6, 7, 1, 6, 1, 9, 8, 4, 3, 9, 3, 1, 7, 8, 8, 3, 1, 7, 8, 6, 5, 4, 6, 0, 9, 3, 0, 0, 0, 2, 6, 7, 5, 1, 0, 0, 0, 9, 3, 8, 0, 4, 5, 9, 4, 2, 3, 2, 7, 2, 0, 2, 6, 2, 2, 8, 8, 8, 5, 1, 2, 2, 6, 2, 0, 2, 2, 1, 4, 3, 4, 1, 9, 7, 0, 5, 6, 5, 1, 8, 4, 5, 2, 9, 0, 6, 6, 9, 2, 1, 0, 4, 8, 4, 5, 7, 9, 2, 2, 2, 1, 1, 4, 4, 7, 8, 6, 8, 6, 5, 5, 8, 1, 8, 2, 9, 1, 9, 7, 2, 4, 4, 4, 4, 9, 3, 5, 5, 9, 5, 5, 2, 7, 0, 0, 1, 3, 5, 3, 0, 0, 0, 3, 1, 4, 0, 2, 6, 9, 7, 6, 9, 6, 6, 2, 3, 2, 2, 4, 1, 9, 2, 7, 2, 5, 9, 4, 6, 2, 7, 6, 8, 9, 1, 8, 8, 0, 2, 4, 9, 8, 1, 7, 1, 9, 9, 2, 1, 5, 5, 2, 7, 6, 3, 0, 5, 0, 6, 6, 3, 0, 0, 3, 6, 8, 8, 0, 8, 6, 4, 5, 8, 1, 5, 0, 6, 6, 9, 5, 1, 6, 4, 3, 0, 7, 2, 5, 5, 8, 7, 5, 6, 9, 0, 1, 9, 2, 9, 1, 2, 4, 8, 7, 6, 2, 8, 0, 4, 1, 8, 2, 1, 3, 4, 1, 7, 7, 2, 9, 3, 8, 6, 3, 2, 2, 6, 3, 5, 7, 1, 1, 1, 7, 7, 8, 2, 9, 7, 3, 1, 5, 6, 4, 4, 4, 1, 9, 0, 8, 4, 4, 4, 6, 2, 3, 8, 6, 7, 4, 8, 5, 9, 0, 0, 0, 8, 6, 5, 2, 3, 0, 9, 8, 5, 9, 8, 6, 7, 6, 1, 4, 0, 1, 6, 1, 4, 4, 6, 1, 1, 4, 4, 5, 7, 5, 4, 2, 5, 1, 0, 6, 7, 1, 1, 4, 4, 0, 5, 6, 0, 8, 2, 7, 4, 9, 9, 0, 2, 2, 3, 3, 0, 3, 1, 0, 1, 1, 2, 8, 8, 6, 8, 6, 2, 0, 2, 9, 7, 3, 3, 8, 5, 0, 6, 6, 9, 8, 3, 2, 7, 3, 5, 7, 7, 5, 8, 1, 1, 6, 0, 5, 7, 5, 9, 5, 0, 4, 3, 7, 2, 3, 5, 4, 5, 1, 1, 9, 4, 8, 3, 7, 5, 0, 4, 4, 7, 8, 4, 8, 1, 1, 0, 5, 6, 7, 9, 5, 6, 8, 0, 6, 0, 2, 1, 7, 9, 0, 3, 2, 8, 7, 2, 1, 3, 9, 9, 0, 7, 6, 1, 3, 4, 2, 3, 6, 4, 1, 1, 7, 4, 4, 5, 3, 2, 8, 9, 6, 6, 5, 4, 0, 6, 7, 3, 5, 2, 8, 1, 9, 0, 5, 3, 3, 9, 2, 9, 1, 7, 4, 5, 0, 5, 1, 9, 1, 1, 9, 9, 4, 6, 6, 1, 4, 5, 4, 8, 7, 6, 1, 1, 0, 4, 6, 2, 9, 9, 5, 3, 6, 4, 8, 3, 8, 2, 2, 1, 5, 8, 7, 5, 2, 8, 0, 7, 2, 5, 5, 6, 4, 8, 7, 3, 8, 2, 1, 3, 9, 1, 0, 4, 0, 6, 5, 5, 0, 0, 6, 7, 7, 1, 8, 7, 5, 6, 6, 8, 1, 2, 9, 8, 0, 5, 9, 1, 4, 7, 4, 6, 9, 3, 0, 0, 7, 8, 0, 8, 8, 0, 8, 8, 1, 1, 6, 0, 9, 0, 9, 5, 3, 0, 1, 7, 1, 1, 4, 4, 0, 4, 1, 7, 1, 5, 5, 4, 6, 6, 8, 3, 3, 1, 1, 8, 0, 9, 8, 2, 7, 2, 9, 8, 9, 5, 4, 8, 2, 8, 3, 2, 6, 3, 9, 1, 1, 2, 5, 9, 1, 7, 2, 7, 9, 1, 2, 9, 7, 5, 5, 5, 7, 4, 3, 5, 2, 7, 8, 0, 6, 1, 4, 8, 2, 3, 1, 8, 2, 4, 7, 4, 7, 3, 3, 2, 9, 2, 7, 6, 1, 9, 9, 2, 3, 2, 5, 8, 1, 6, 3, 0, 9, 1, 2, 6, 3, 5, 8, 4, 2, 6, 1, 6, 1, 0, 4, 9, 0, 1, 4, 1, 2, 1, 6, 0, 7, 6, 1, 0, 0, 1, 8, 3, 0, 6, 7, 0, 3, 2, 0, 1, 7, 8, 4, 4, 6, 1, 6, 2, 0, 0, 3, 9, 9, 8, 7, 5, 8, 0, 1, 0, 0, 0, 5, 6, 2, 7, 5, 3, 8, 8, 1, 9, 2, 3, 4, 0, 5, 3, 8, 3, 6, 8, 9, 3, 4, 8, 9, 4, 3, 2, 9, 2, 3, 7, 3, 7, 7, 7, 0, 4, 9, 5, 2, 3, 6, 6, 7, 9, 3, 3, 7, 1, 4, 9, 0, 9, 9, 8, 0, 0, 2, 9, 2, 3, 9, 2, 4, 9, 2, 1, 9, 7, 6, 9, 1, 9, 6, 4, 7, 7, 7, 2, 7, 6, 2, 9, 6, 6, 7, 3, 9, 8, 3, 0, 9, 2, 8, 0, 3, 1, 9, 5, 2, 1, 9, 4, 4, 1, 0, 9, 1, 9, 7, 4, 5, 4, 3, 8, 5, 7, 0, 1, 4, 1, 8, 1, 6, 6, 9, 4, 8, 8, 1, 2, 2, 7, 8, 0, 2, 0, 4, 4, 3, 8, 1, 7, 6, 5, 4, 5, 0, 2, 2, 1, 5, 7, 2, 4, 6, 4, 4, 9, 2, 2, 7, 6, 1, 7, 1, 2, 3, 9, 7, 5, 1, 7, 4, 2, 2, 5, 7, 3, 5, 4, 6, 2, 8, 7, 2, 8, 9, 9, 2, 9, 2, 4, 4, 1, 6, 0, 6, 8, 6, 5, 6, 9, 0, 1, 2, 2, 5, 0, 9, 4, 1, 9, 4, 3, 6, 5, 6, 5, 7, 0, 3, 0, 0, 2, 7, 0, 7, 8, 7, 2, 9, 5, 8, 0, 7, 2, 7, 6, 2, 0, 9, 7, 3, 5, 0, 3, 9, 0, 4, 6, 9, 1, 9, 1, 0, 9, 8, 8, 9, 8, 3, 9, 9, 7, 8, 2, 5, 8, 2, 5, 5, 3, 1, 1, 9, 2, 7, 9, 3, 7, 6, 1, 2, 2, 9, 1, 4, 5, 5, 4, 4, 8, 9, 7, 1, 2, 0, 7, 6, 7, 6, 7, 1, 5, 2, 9, 2, 9, 6, 6, 6, 2, 1, 4, 5, 7, 4, 8, 6, 0, 5, 1, 5, 7, 4, 6, 2, 3, 5, 2, 5, 9, 1, 9, 3, 8, 0, 1, 6, 5, 9, 7, 7, 0, 9, 6, 3, 0, 9, 3, 1, 2, 8, 1, 8, 5, 9, 9, 8, 7, 1, 4, 9, 3, 5, 7, 1, 4, 4, 7, 4, 3, 3, 1, 9, 1, 3, 7, 3, 1, 4, 2, 2, 5, 6, 5, 6, 1, 8, 9, 4, 7, 1, 1, 8, 9, 6, 4, 6, 6, 0, 6, 2, 3, 3, 4, 3, 5, 6, 8, 2, 4, 3, 2, 0, 1, 4, 9, 3, 4, 2, 3, 0, 8, 5, 8, 1, 7, 5, 0, 9, 7, 7, 7, 1, 0, 4, 0, 4, 1, 6, 2, 4, 4, 6, 0, 7, 2, 2, 3, 9, 1, 1, 2, 2, 9, 3, 8, 0, 5, 2, 6, 2, 1, 1, 8, 7, 8, 2, 3, 8, 7, 1, 6, 3, 7, 0, 5, 0, 6, 3, 4, 2, 2, 1, 7, 8, 4, 8, 9, 8, 8, 0, 2, 3, 4, 1, 3, 6, 3, 8, 7, 9, 2, 6, 3, 6, 9, 2, 2, 5, 8, 8, 7, 2, 3, 6, 9, 1, 9, 6, 4, 5, 6, 6, 0, 7, 3, 9, 4, 1, 6, 9, 1, 6, 9, 3, 5, 2, 2, 7, 9, 7, 2, 9, 0, 8, 8, 2, 1, 9, 1, 2, 5, 0, 9, 0, 5, 6, 8, 9, 5, 8, 5, 6, 9, 4, 1, 6, 4, 4, 6, 5, 7, 3, 8, 0, 4, 5, 1, 6, 4, 7, 1, 2, 3, 2, 3, 5, 2, 5, 3, 2, 1, 5, 8, 0, 4, 9, 3, 4, 6, 2, 8, 9, 9, 5, 8, 0, 3, 0, 0, 6, 6, 2, 6, 2, 0, 7, 1, 2, 8, 2, 9, 1, 6, 4, 3, 9, 0, 9, 5, 4, 3, 1, 0, 2, 5, 6, 2, 4, 4, 3, 4, 4, 7, 6, 6, 8, 4, 2, 3, 3, 8, 4, 1, 8, 2, 5, 5, 2, 4, 0, 0, 4, 1, 5, 7, 7, 8, 3, 6, 2, 6, 5, 1, 7, 3, 1, 7, 7, 4, 8, 7, 3, 3, 3, 1, 6, 1, 5, 5, 9, 3, 0, 0, 2, 0, 8, 0, 0, 2, 5, 5, 8, 5, 4, 7, 5, 4, 1, 5, 3, 7, 7, 7, 3, 1, 4, 3, 8, 4, 0, 7, 0, 0, 0, 9, 8, 1, 5, 8, 9, 6, 8, 7, 4, 1, 4, 4, 0, 2, 0, 4, 5, 5, 8, 6, 8, 9, 6, 6, 5, 1, 5, 7, 3, 5, 2, 2, 2, 3, 8, 6, 4, 8, 0, 1, 2, 7, 5, 5, 0, 4, 6, 6, 8, 4, 4, 6, 5, 5, 5, 9, 4, 6, 1, 8, 0, 2, 7, 5, 1, 3, 3, 2, 8, 1, 3, 6, 3, 4, 6, 4, 6, 3, 0, 0, 5, 5, 0, 7, 9, 1, 3, 1, 4, 8, 7, 5, 8, 0, 0, 0, 0, 6, 9, 7, 8, 4, 9, 6, 7, 4, 0, 7, 6, 8, 1, 4, 1, 3, 0, 8, 7, 8, 1, 3, 4, 1, 5, 2, 3, 0, 7, 1, 0, 3, 8, 5, 0, 3, 1, 5, 4, 5, 3, 8, 6, 6, 6, 1, 4, 7, 3, 7, 8, 6, 0, 5, 6, 6, 9, 5, 5, 2, 2, 6, 1, 5, 6, 0, 3, 2, 6, 6, 1, 5, 9, 5, 4, 6, 1, 1, 7, 2, 0, 5, 8, 1, 0, 4, 8, 6, 1, 9, 5, 1, 7, 6, 6, 7, 6, 7, 3, 8, 1, 1, 6, 4, 8, 1, 4, 4, 1, 4, 1, 1, 7, 9, 6, 3, 8, 6, 5, 6, 2, 5, 9, 4, 3, 1, 6, 6, 3, 0, 7, 4, 9, 6, 1, 1, 5, 5, 4, 1, 6, 9, 2, 7, 7, 5, 1, 9, 3, 9, 2, 9, 4, 9, 8, 2, 7, 1, 8, 6, 9, 5, 3, 6, 8, 8, 8, 9, 2, 8, 3, 4, 0, 8, 4, 6, 5, 0, 6, 7, 8, 9, 7, 4, 2, 7, 2, 8, 0, 0, 4, 2, 9, 0, 1, 7, 9, 7, 1, 7, 0, 7, 0, 3, 1, 2, 8, 1, 4, 4, 0, 7, 0, 9, 8, 1, 8, 8, 1, 2, 5, 5, 1, 0, 8, 8, 0, 3, 7, 0, 5, 3, 7, 7, 9, 5, 5, 2, 5, 2, 2, 7, 2, 7, 5, 6, 7, 6, 2, 4, 0, 1, 8, 0, 6, 9, 9, 6, 6, 2, 4, 4, 0, 1, 7, 9, 8, 2, 7, 3, 1, 4, 5, 2, 2, 7, 4, 1, 7, 9, 8, 9, 6, 8, 7, 8, 7, 0, 4, 4, 9, 4, 5, 0, 3, 6, 9, 4, 1, 0, 1, 2, 3, 1, 6, 0, 1, 2, 4, 3, 3, 2, 0, 6, 9, 2, 1, 3, 2, 2, 8, 0, 6, 1, 1, 2, 9, 2, 8, 3, 1, 9, 5, 5, 1, 8, 5, 0, 3, 7, 7, 5, 4, 5, 8, 3, 5, 7, 8, 0, 2, 1, 4, 0, 9, 1, 7, 9, 1, 6, 7, 1, 3, 5, 9, 2, 4, 0, 3, 5, 1, 4, 2, 1, 4, 0, 1, 1, 7, 3, 7, 1, 3, 3, 0, 4, 9, 4, 6, 8, 2, 9, 5, 1, 9, 5, 0, 4, 2, 3, 4, 8, 6, 7, 2, 5, 5, 8, 0, 1, 4, 7, 3, 6, 6, 5, 1, 9, 3, 0, 3, 8, 9, 7, 1, 3, 0, 5, 7, 4, 0, 4, 9, 9, 8, 2, 8, 3, 1, 5, 8, 3, 7, 5, 0, 3, 5, 4, 4, 2, 5, 9, 6, 6, 0, 2, 4, 1, 9, 8, 5, 0, 3, 8, 3, 0, 1, 1, 2, 4, 6, 1, 1, 0, 7, 2, 8, 8, 7, 2, 1, 4, 1, 8, 6, 7, 7, 6, 3, 2, 4, 1, 4, 5, 8, 3, 6, 4, 8, 4, 6, 6, 1, 7, 5, 5, 1, 3, 2, 2, 9, 0, 0, 2, 9, 1, 3, 3, 3, 3, 9, 3, 4, 1, 2, 6, 8, 1, 9, 5, 4, 7, 9, 0, 7, 2, 9, 9, 1, 4, 0, 6, 7, 8, 7, 9, 7, 2, 4, 4, 4, 6, 3, 1, 9, 3, 6, 6, 3, 2, 8, 2, 8, 2, 4, 0, 6, 0, 7, 5, 5, 0, 1, 6, 5, 2, 3, 0, 3, 0, 0, 4, 4, 5, 0, 5, 3, 0, 2, 3, 1, 2, 4, 3, 0, 2, 0, 7, 9, 3, 3, 9, 6, 5, 9, 8, 1, 8, 0, 6, 5, 1, 4, 5, 1, 7, 5, 7, 6, 2, 1, 1, 0, 5, 0, 4, 1, 9, 5, 3, 4, 5, 3, 8, 8, 3, 7, 8, 2, 3, 9, 8, 3, 0, 6, 7, 6, 2, 8, 6, 4, 1, 5, 7, 2, 1, 2, 3, 9, 4, 1, 9, 2, 8, 4, 6, 7, 8, 6, 9, 8, 4, 3, 1, 2, 0, 2, 9, 8, 1, 5, 0, 8, 5, 2, 7, 5, 8, 1, 5, 1, 1, 0, 5, 4, 2, 0, 0, 9, 0, 2, 7, 7, 5, 2, 5, 4, 6, 3, 9, 5, 4, 0, 5, 6, 3, 2, 3, 1, 6, 2, 4, 4, 4, 0, 5, 1, 8, 0, 3, 4, 5, 0, 2, 2, 0, 1, 1, 6, 1, 4, 3, 1, 5, 9, 9, 2, 5, 0, 0, 2, 4, 7, 8, 2, 8, 4, 4, 4, 4, 8, 0, 5, 8, 5, 4, 7, 4, 4, 9, 2, 9, 8, 3, 0, 9, 9, 7, 6, 2, 4, 2, 6, 3, 2, 7, 5, 1, 0, 2, 9, 9, 0, 4, 0, 7, 0, 5, 4, 4, 1, 1, 2, 6, 8, 1, 2, 8, 3, 3, 2, 9, 7, 1, 4, 4, 6, 9, 0, 2, 4, 4, 5, 7, 8, 9, 4, 2, 4, 1, 7, 8, 2, 8, 2, 1, 2, 9, 9, 7, 0, 1, 2, 0, 9, 4, 2, 1, 4, 5, 0, 8, 6, 1, 9, 5, 1, 6, 2, 1, 8, 0, 5, 1, 9, 9, 6, 6, 5, 1, 1, 7, 9, 4, 2, 7, 3, 4, 6, 0, 6, 3, 0, 6, 3, 0, 1, 3, 2, 6, 3, 2, 0, 5, 9, 1, 3, 9, 0, 2, 0, 5, 8, 9, 6, 6, 5, 2, 4, 7, 2, 0, 7, 9, 1, 3, 9, 9, 8, 6, 4, 7, 7, 6, 0, 0, 4, 8, 4, 9, 8, 3, 5, 1, 7, 7, 1, 4, 1, 6, 3, 9, 7, 6, 6, 1, 9, 4, 0, 0, 4, 4, 8, 3, 1, 7, 5, 7, 3, 7, 4, 1, 0, 3, 2, 4, 3, 2, 2, 6, 0, 9, 9, 2, 3, 1, 8, 6, 4, 2, 8, 1, 7, 3, 1, 4, 5, 0, 6, 8, 1, 7, 8, 3, 7, 6, 7, 7, 3, 4, 2, 4, 5, 7, 7, 9, 0, 9, 1, 8, 1, 8, 4, 4, 1, 9, 9, 6, 1, 7, 5, 3, 5, 8, 7, 8, 0, 0, 1, 0, 3, 6, 6, 1, 9, 4, 0, 1, 0, 2, 0, 6, 7, 7, 5, 3, 1, 8, 9, 9, 0, 4, 0, 2, 5, 0, 6, 5, 6, 8, 3, 4, 1, 8, 4, 6, 8, 7, 1, 8, 6, 8, 1, 2, 3, 3, 2, 3, 3, 6, 8, 2, 7, 6, 8, 8, 0, 9, 2, 7, 7, 5, 3, 1, 2, 3, 1, 4, 3, 6, 4, 8, 3, 1, 3, 6, 9, 6, 9, 0, 3, 9, 0, 7, 7, 3, 0, 0, 9, 3, 5, 7, 9, 8, 6, 0, 7, 7, 2, 8, 7, 9, 1, 2, 3, 6, 0, 7, 8, 1, 0, 3, 6, 9, 9, 5, 0, 5, 0, 1, 1, 8, 2, 5, 9, 5, 4, 0, 5, 5, 1, 2, 7, 6, 5, 3, 0, 5, 6, 9, 0, 7, 8, 1, 7, 1, 8, 5, 2, 2, 9, 7, 3, 2, 1, 2, 5, 4, 9, 2, 1, 3, 1, 8, 5, 6, 2, 7, 3, 9, 9, 4, 3, 6, 3, 1, 1, 7, 5, 3, 5, 2, 4, 9, 7, 9, 3, 9, 1, 1, 1, 8, 1, 6, 2, 6, 6, 5, 5, 2, 9, 7, 0, 3, 5, 7, 8, 7, 8, 8, 9, 3, 7, 1, 8, 5, 4, 7, 5, 8, 0, 5, 9, 7, 0, 7, 7, 4, 4, 5, 8, 9, 2, 4, 7, 5, 1, 4, 4, 9, 6, 4, 2, 0, 2, 6, 2, 2, 8, 4, 1, 6, 1, 2, 2, 1, 3, 1, 2, 4, 6, 4, 3, 5, 5, 5, 1, 0, 1, 1, 7, 1, 7, 2, 6, 9, 5, 5, 2, 5, 2, 8, 9, 3, 2, 8, 9, 7, 3, 5, 6, 8, 9, 8, 3, 7, 0, 4, 5, 1, 0, 1, 6, 4, 2, 1, 9, 7, 0, 9, 3, 1, 6, 3, 6, 0, 8, 2, 6, 5, 7, 9, 0, 2, 0, 8, 4, 0, 9, 4, 6, 0, 7, 5, 0, 1, 9, 6, 1, 1, 2, 7, 0, 3, 3, 8, 9, 4, 8, 4, 8, 4, 9, 9, 8, 6, 9, 8, 3, 0, 9, 6, 7, 8, 3, 5, 8, 1, 2, 7, 8, 7, 1, 6, 8, 3, 1, 6, 8, 7, 6, 9, 1, 5, 9, 0, 7, 4, 3, 3, 3, 4, 8, 9, 3, 0, 5, 2, 0, 6, 1, 6, 7, 9, 0, 4, 5, 4, 3, 1, 9, 4, 8, 7, 2, 8, 2, 6, 7, 9, 7, 0, 4, 6, 3, 7, 5, 4, 4, 2, 2, 9, 6, 7, 0, 5, 0, 0, 3, 3, 5, 9, 7, 6, 2, 2, 4, 9, 0, 5, 3, 1, 8, 5, 9, 9, 7, 1, 4, 3, 6, 7, 8, 1, 6, 4, 1, 4, 9, 7, 1, 3, 0, 8, 7, 8, 7, 1, 6, 9, 4, 8, 3, 7, 6, 9, 3, 0, 8, 4, 1, 6, 8, 1, 9, 4, 3, 8, 4, 0, 9, 4, 4, 9, 3, 2, 2, 8, 0, 4, 3, 7, 4, 4, 6, 5, 3, 0, 5, 3, 1, 4, 6, 3, 5, 9, 3, 5, 1, 3, 8, 0, 9, 2, 3, 7, 9, 2, 4, 3, 1, 0, 7, 7, 5, 6, 6, 4, 8, 8, 2, 0, 7, 7, 7, 0, 8, 5, 8, 3, 3, 0, 9, 5, 7, 2, 0, 1, 0, 3, 9, 2, 4, 4, 1, 4, 3, 2, 9, 1, 1, 9, 0, 2, 7, 9, 7, 8, 6, 7, 7, 7, 6, 7, 9, 4, 7, 1, 1, 8, 1, 1, 1, 1, 6, 3, 1, 1, 5, 6, 1, 3, 8, 1, 0, 9, 3, 9, 7, 5, 0, 5, 9, 6, 3, 0, 7, 2, 2, 4, 2, 0, 6, 7, 7, 0, 4, 7, 3, 5, 8, 7, 4, 0, 7, 4, 2, 4, 2, 9, 2, 6, 0, 4, 4, 1, 8, 0, 9, 9, 6, 1, 6, 6, 7, 7, 1, 3, 8, 0, 9, 4, 4, 9, 0, 0, 7, 1, 1, 0, 2, 5, 2, 0, 9, 2, 3, 6, 2, 0, 5, 7, 2, 9, 4, 1, 5, 1, 4, 1, 6, 4, 2, 1, 5, 9, 6, 0, 4, 4, 1, 3, 3, 3, 0, 4, 1, 5, 6, 1, 2, 0, 7, 8, 6, 4, 8, 2, 8, 4, 4, 8, 2, 1, 1, 9, 5, 1, 4, 0, 2, 7, 1, 4, 0, 9, 4, 4, 4, 5, 1, 7, 4, 6, 4, 5, 8, 7, 1, 4, 7, 9, 7, 8, 0, 8, 6, 9, 8, 3, 1, 2, 8, 1, 1, 9, 5, 8, 8, 6, 0, 7, 6, 4, 6, 3, 2, 6, 0, 9, 1, 6, 5, 2, 7, 3, 4, 3, 1, 0, 6, 8, 7, 6, 4, 0, 5, 0, 9, 7, 5, 3, 6, 4, 4, 9, 7, 7, 4, 2, 2, 1, 1, 5, 3, 5, 4, 7, 7, 3, 4, 8, 7, 7, 1, 1, 9, 4, 4, 4, 3, 0, 3, 7, 2, 1, 6, 4, 0, 6, 2, 9, 0, 6, 3, 6, 6, 6, 5, 1, 9, 9, 3, 6, 3, 0, 0, 7, 5, 0, 3, 2, 5, 7, 9, 6, 4, 8, 4, 4, 8, 9, 8, 8, 9, 1, 5, 7, 1, 6, 7, 0, 2, 8, 2, 4, 5, 5, 2, 6, 1, 1, 4, 0, 9, 4, 3, 7, 9, 3, 0, 2, 9, 6, 3, 3, 3, 2, 3, 4, 6, 7, 9, 3, 6, 7, 8, 3, 9, 1, 2, 4, 5, 9, 9, 4, 1, 4, 7, 6, 8, 2, 8, 0, 6, 2, 9, 6, 7, 1, 2, 7, 8, 6, 0, 8, 5, 1, 7, 7, 3, 5, 3, 7, 4, 7, 0, 4, 1, 9, 2, 5, 2, 1, 6, 6, 0, 9, 6, 6, 0, 2, 1, 7, 9, 5, 8, 2, 7, 2, 3, 0, 2, 1, 9, 9, 9, 1, 3, 3, 6, 9, 3, 3, 7, 4, 1, 8, 1, 7, 5, 4, 2, 8, 0, 6, 4, 6, 4, 7, 4, 6, 7, 8, 0, 2, 3, 7, 8, 7, 2, 3, 4, 4, 4, 6, 8, 6, 6, 1, 2, 8, 1, 7, 6, 7, 1, 8, 7, 6, 2, 9, 7, 5, 8, 4, 6, 8, 0, 1, 7, 3, 2, 0, 8, 8, 3, 5, 4, 1, 8, 6, 4, 1, 0, 1, 1, 0, 2, 4, 5, 6, 4, 3, 8, 6, 2, 6, 9, 8, 4, 6, 5, 6, 2, 5, 7, 4, 9, 1, 3, 8, 2, 8, 4, 9, 5, 8, 8, 4, 2, 6, 1, 5, 5, 3, 6, 7, 0, 3, 4, 6, 6, 5, 6, 1, 3, 7, 7, 2, 7, 3, 3, 3, 9, 1, 2, 1, 5, 1, 1, 6, 0, 6, 9, 6, 9, 6, 6, 5, 1, 0, 0, 7, 6, 9, 5, 1, 7, 6, 9, 7, 4, 8, 2, 3, 6, 8, 6, 8, 2, 1, 0, 8, 9, 2, 4, 4, 0, 0, 9, 6, 8, 0, 3, 9, 3, 9, 9, 9, 7, 3, 7, 8, 8, 2, 3, 8, 2, 8, 2, 7, 2, 1, 2, 7, 1, 4, 0, 5, 3, 4, 5, 3, 3, 8, 6, 9, 9, 0, 2, 5, 7, 4, 6, 8, 6, 2, 2, 3, 7, 8, 8, 4, 9, 7, 0, 3, 8, 7, 4, 8, 2, 8, 7, 7, 5, 7, 8, 0, 7, 5, 1, 5, 9, 9, 0, 4, 9, 9, 4, 7, 9, 0, 1, 4, 3, 5, 3, 0, 9, 4, 4, 8, 6, 1, 2, 1, 1, 9, 2, 7, 7, 0, 1, 5, 1, 6, 9, 8, 3, 4, 0, 3, 1, 0, 5, 3, 9, 8, 1, 7, 8, 5, 6, 8, 1, 1, 7, 1, 4, 8, 0, 8, 5, 6, 0, 7, 7, 1, 6, 8, 0, 6, 2, 1, 0, 5, 4, 5, 1, 2, 1, 1, 2, 7, 3, 3, 6, 5, 2, 8, 5, 9, 8, 4, 3, 5, 3, 4, 4, 6, 6, 3, 5, 7, 6, 8, 1, 2, 7, 9, 0, 3, 4, 9, 6, 8, 6, 9, 3, 8, 2, 8, 4, 1, 1, 9, 3, 8, 1, 2, 3, 3, 9, 4, 7, 2, 4, 0, 1, 4, 3, 6, 2, 4, 1, 5, 9, 7, 1, 7, 6, 6, 1, 6, 7, 4, 8, 2, 1, 9, 9, 6, 2, 5, 5, 3, 9, 0, 6, 2, 5, 6, 0, 3, 4, 3, 6, 7, 6, 0, 3, 5, 5, 8, 9, 0, 6, 9, 5, 6, 0, 1, 7, 2, 7, 5, 6, 4, 3, 4, 4, 6, 2, 2, 4, 7, 7, 3, 2, 8, 7, 4, 9, 8, 4, 2, 1, 3, 9, 4, 0, 1, 2, 9, 7, 7, 9, 3, 4, 5, 5, 1, 5, 5, 6, 1, 2, 8, 8, 4, 6, 9, 9, 6, 1, 0, 5, 4, 0, 3, 1, 1, 5, 5, 3, 1, 2, 4, 6, 9, 2, 4, 1, 7, 9, 8, 5, 1, 1, 4, 3, 6, 2, 2, 1, 6, 7, 7, 1, 7, 3, 0, 1, 1, 5, 3, 1, 1, 3, 2, 7, 1, 2, 1, 8, 8, 0, 7, 5, 5, 4, 0, 8, 7, 7, 2, 4, 5, 8, 2, 0, 7, 4, 1, 1, 8, 1, 5, 4, 2, 1, 0, 2, 4, 7, 0, 2, 8, 0, 2, 1, 9, 7, 3, 3, 4, 4, 1, 1, 4, 2, 3, 1, 0, 9, 8, 5, 9, 8, 6, 7, 8, 1, 6, 3, 7, 6, 1, 7, 3, 3, 5, 7, 7, 6, 0, 8, 1, 7, 3, 3, 3, 2, 1, 3, 9, 4, 3, 1, 9, 7, 7, 2, 3, 4, 8, 0, 9, 4, 1, 1, 7, 2, 6, 6, 4, 1, 0, 4, 2, 1, 3, 7, 4, 0, 2, 8, 5, 8, 9, 4, 2, 5, 6, 8, 2, 9, 7, 0, 1, 7, 3, 5, 6, 9, 7, 5, 3, 1, 7, 0, 8, 1, 4, 1, 1, 1, 8, 7, 4, 7, 9, 6, 9, 6, 2, 4, 4, 2, 1, 8, 7, 5, 4, 6, 2, 1, 6, 7, 1, 5, 0, 0, 5, 8, 9, 7, 2, 0, 5, 9, 2, 2, 4, 2, 4, 3, 0, 1, 8, 5, 1, 3, 2, 1, 3, 2, 4, 0, 4, 1, 8, 3, 7, 9, 5, 8, 8, 6, 4, 3, 7, 4, 9, 6, 8, 8, 6, 6, 5, 7, 9, 4, 4, 2, 3, 6, 6, 0, 0, 6, 6, 9, 1, 4, 4, 7, 3, 7, 8, 2, 7, 8, 4, 9, 6, 4, 0, 3, 9, 2, 0, 0, 7, 8, 8, 3, 5, 8, 6, 3, 7, 5, 0, 2, 7, 8, 6, 1, 5, 5, 4, 4, 3, 4, 5, 3, 2, 8, 2, 1, 5, 7, 1, 9, 4, 9, 3, 1, 7, 3, 3, 6, 8, 9, 5, 2, 2, 8, 8, 8, 7, 2, 9, 7, 4, 1, 7, 8, 2, 0, 5, 1, 3, 6, 9, 6, 4, 9, 6, 7, 8, 3, 1, 6, 7, 9, 4, 9, 6, 8, 9, 8, 1, 4, 8, 9, 3, 1, 8, 0, 5, 2, 7, 1, 0, 5, 2, 4, 0, 3, 8, 9, 6, 6, 2, 8, 6, 7, 0, 0, 3, 3, 6, 5, 1, 1, 7, 9, 3, 1, 5, 8, 3, 2, 6, 8, 3, 8, 7, 4, 2, 9, 7, 3, 9, 8, 2, 3, 5, 1, 0, 9, 9, 2, 3, 7, 7, 9, 7, 8, 6, 0, 5, 4, 3, 7, 4, 1, 3, 4, 8, 7, 0, 0, 5, 6, 4, 5, 1, 4, 9, 2, 2, 7, 9, 2, 9, 8, 2, 1, 8, 2, 3, 5, 5, 3, 2, 0, 9, 8, 6, 1, 2, 0, 1, 1, 5, 6, 8, 8, 3, 3, 9, 0, 0, 3, 2, 4, 8, 9, 8, 4, 1, 9, 0, 9, 9, 2, 9, 4, 4, 7, 9, 9, 1, 2, 0, 5, 3, 9, 6, 7, 2, 5, 4, 4, 0, 1, 0, 9, 4, 0, 1, 9, 6, 0, 2, 1, 4, 5, 7, 8, 7, 7, 9, 2, 8, 7, 5, 6, 4, 9, 8, 7, 0, 7, 1, 6, 8, 6, 3, 2, 6, 8, 5, 5, 5, 2, 8, 3, 6, 3, 6, 9, 0, 5, 2, 0, 5, 8, 7, 4, 4, 7, 0, 2, 5, 4, 0, 8, 1, 0, 6, 2, 5, 0, 9, 0, 8, 5, 4, 6, 5, 3, 8, 7, 0, 9, 1, 4, 1, 5, 2, 2, 4, 2, 9, 8, 7, 1, 8, 3, 4, 7, 1, 9, 0, 9, 8, 7, 9, 4, 1, 9, 7, 2, 0, 8, 2, 4, 3, 5, 5, 4, 2, 5, 5, 5, 7, 1, 6, 3, 2, 8, 0, 9, 4, 0, 1, 6, 8, 5, 6, 2, 3, 4, 4, 2, 3, 6, 2, 1, 6, 8, 5, 9, 1, 7, 9, 0, 7, 9, 4, 2, 6, 0, 6, 6, 1, 7, 2, 8, 0, 6, 0, 1, 9, 9, 3, 7, 0, 7, 4, 6, 2, 1, 2, 1, 7, 6, 9, 0, 9, 1, 4, 8, 7, 3, 8, 6, 9, 3, 8, 3, 7, 9, 6, 0, 1, 7, 1, 1, 4, 1, 6, 6, 3, 1, 8, 1, 9, 6, 2, 1, 0, 1, 2, 7, 9, 0, 5, 1, 3, 2, 6, 1, 4, 9, 4, 9, 5, 2, 6, 6, 3, 4, 3, 4, 7, 0, 7, 0, 8, 2, 0, 0, 7, 7, 1, 0, 5, 6, 2, 3, 7, 1, 7, 6, 8, 2, 2, 0, 1, 5, 8, 2, 6, 0, 0, 5, 4, 0, 9, 6, 6, 4, 2, 7, 1, 2, 9, 5, 8, 7, 4, 4, 6, 8, 9, 8, 3, 3, 7, 3, 2, 0, 4, 9, 0, 3, 7, 6, 2, 0, 0, 7, 2, 1, 7, 1, 8, 8, 2, 9, 5, 7, 8, 8, 7, 5, 1, 9, 6, 3, 2, 0, 6, 8, 7, 0, 3, 9, 9, 0, 9, 5, 7, 6, 2, 2, 5, 3, 8, 5, 7, 1, 1, 5, 4, 6, 0, 2, 7, 2, 0, 7, 5, 1, 1, 7, 9, 0, 8, 9, 0, 8, 1, 7, 4, 2, 7, 1, 9, 2, 3, 7, 9, 4, 2, 7, 3, 7, 2, 5, 9, 0, 2, 6, 0, 1, 8, 8, 7, 0, 2, 9, 7, 0, 1, 9, 6, 7, 2, 3, 7, 6, 9, 9, 0, 3, 6, 4, 4, 2, 3, 5, 7, 6, 3, 8, 7, 0, 2, 7, 7, 7, 0, 0, 1, 9, 0, 6, 9, 7, 8, 1, 3, 1, 1, 2, 3, 9, 0, 0, 5, 2, 2, 3, 8, 3, 2, 9, 1, 2, 5, 1, 1, 5, 2, 8, 8, 5, 1, 8, 5, 3, 6, 7, 9, 1, 8, 8, 2, 1, 8, 8, 0, 9, 0, 2, 3, 5, 6, 0, 0, 0, 8, 0, 6, 3, 3, 7, 2, 5, 6, 2, 8, 5, 8, 0, 2, 7, 4, 0, 1, 3, 1, 8, 0, 8, 9, 5, 3, 0, 3, 7, 0, 6, 8, 3, 2, 6, 7, 7, 3, 1, 8, 7, 6, 3, 2, 6, 4, 9, 5, 8, 2, 7, 3, 2, 4, 8, 4, 4, 4, 1, 1, 6, 8, 8, 5, 1, 7, 3, 5, 0, 1, 3, 4, 5, 6, 2, 7, 9, 9, 9, 6, 7, 0, 1, 6, 8, 4, 3, 5, 4, 1, 6, 4, 5, 1, 2, 6, 9, 2, 4, 7, 0, 2, 1, 8, 1, 7, 7, 5, 3, 2, 8, 7, 5, 1, 4, 9, 9, 1, 7, 9, 7, 0, 6, 0, 2, 8, 2, 9, 4, 3, 0, 3, 8, 9, 4, 3, 5, 4, 2, 9, 1, 8, 1, 8, 0, 4, 8, 0, 9, 1, 0, 5, 9, 7, 7, 5, 8, 4, 7, 9, 7, 9, 6, 9, 5, 8, 4, 0, 0, 5, 9, 6, 6, 1, 6, 0, 2, 1, 8, 5, 7, 4, 9, 1, 4, 6, 2, 8, 7, 5, 5, 6, 1, 1, 3, 1, 7, 0, 3, 3, 5, 8, 7, 2, 3, 3, 7, 3, 9, 9, 8, 6, 6, 0, 5, 5, 4, 3, 0, 6, 1, 1, 3, 2, 6, 1, 9, 3, 7, 3, 8, 0, 0, 0, 1, 5, 2, 8, 7, 1, 0, 4, 3, 2, 3, 9, 7, 4, 4, 9, 2, 9, 9, 3, 9, 2, 1, 0, 6, 4, 1, 9, 4, 0, 9, 5, 0, 8, 8, 9, 4, 3, 1, 5, 5, 0, 6, 6, 6, 5, 6, 4, 4, 0, 4, 8, 5, 9, 4, 6, 4, 5, 8, 5, 7, 4, 1, 1, 2, 8, 3, 1, 0, 3, 5, 3, 7, 7, 1, 7, 9, 7, 3, 5, 9, 4, 2, 3, 2, 2, 2, 6, 5, 0, 7, 7, 3, 9, 8, 5, 0, 5, 9, 0, 6, 3, 3, 5, 7, 2, 6, 1, 7, 1, 8, 8, 1, 2, 0, 3, 5, 0, 1, 8, 3, 3, 3, 9, 8, 7, 1, 1, 3, 5, 1, 7, 4, 1, 5, 9, 9, 0, 7, 7, 6, 4, 1, 6, 7, 7, 8, 2, 1, 9, 4, 4, 9, 5, 3, 4, 9, 4, 7, 3, 9, 7, 1, 6, 5, 7, 8, 0, 1, 9, 6, 2, 6, 1, 0, 2, 4, 4, 6, 1, 1, 2, 8, 1, 6, 4, 7, 7, 1, 6, 8, 2, 9, 2, 7, 8, 6, 6, 4, 2, 5, 5, 2, 5, 7, 6, 7, 9, 9, 2, 0, 8, 9, 4, 5, 3, 8, 2, 3, 0, 4, 5, 1, 7, 9, 6, 2, 5, 9, 1, 5, 9, 7, 8, 0, 4, 5, 0, 6, 0, 6, 5, 1, 2, 6, 0, 2, 2, 9, 8, 1, 6, 2, 1, 9, 4, 8, 4, 7, 9, 9, 7, 1, 6, 7, 9, 9, 2, 4, 4, 8, 5, 3, 8, 6, 3, 6, 7, 2, 4, 6, 5, 4, 1, 9, 1, 6, 5, 2, 8, 5, 8, 9, 6, 0, 6, 9, 2, 2, 7, 6, 4, 2, 7, 7, 3, 5, 6, 6, 5, 9, 4, 5, 4, 0, 5, 5, 1, 8, 1, 2, 1, 1, 2, 3, 6, 8, 2, 1, 2, 5, 4, 2, 1, 2, 8, 6, 8, 8, 6, 0, 9, 7, 6, 2, 4, 3, 2, 9, 7, 6, 4, 6, 8, 1, 8, 8, 7, 1, 9, 3, 2, 9, 8, 8, 0, 5, 7, 3, 1, 8, 3, 3, 7, 0, 3, 7, 1, 1, 8, 3, 0, 4, 9, 6, 1, 8, 9, 0, 6, 7, 6, 9, 0, 2, 3, 5, 1, 9, 7, 6, 6, 3, 0, 2, 3, 2, 6, 5, 9, 7, 1, 7, 1, 5, 5, 1, 6, 1, 4, 2, 9, 7, 8, 4, 7, 5, 1, 4, 5, 2, 5, 1, 9, 0, 7, 1, 7, 3, 0, 6, 0, 6, 8, 5, 4, 1, 1, 1, 0, 7, 3, 3, 7, 9, 6, 7, 3, 1, 6, 5, 8, 7, 7, 4, 9, 1, 3, 4, 9, 1, 4, 1, 8, 2, 3, 6, 7, 1, 3, 4, 1, 0, 0, 8, 9, 6, 5, 0, 5, 5, 4, 0, 6, 4, 4, 0, 2, 5, 9, 1, 9, 7, 3, 2, 3, 3, 7, 4, 8, 8, 7, 5, 8, 8, 6, 0, 1, 6, 3, 9, 5, 0, 6, 7, 3, 8, 5, 5, 9, 8, 8, 5, 5, 1, 3, 7, 5, 2, 9, 5, 4, 6, 7, 3, 2, 0, 9, 5, 0, 2, 4, 0, 1, 1, 0, 8, 5, 3, 6, 9, 6, 1, 1, 7, 3, 0, 6, 7, 5, 0, 1, 1, 1, 5, 4, 5, 2, 4, 2, 8, 9, 1, 3, 5, 1, 7, 6, 5, 1, 1, 9, 4, 0, 7, 2, 5, 9, 2, 9, 2, 1, 5, 7, 0, 4, 3, 9, 8, 7, 0, 4, 9, 8, 2, 2, 7, 0, 1, 7, 4, 5, 7, 0, 3, 4, 0, 6, 4, 3, 9, 3, 7, 4, 9, 9, 7, 9, 1, 3, 6, 5, 8, 1, 0, 8, 9, 0, 1, 0, 8, 7, 5, 4, 4, 1, 3, 2, 7, 1, 2, 0, 5, 0, 6, 8, 7, 1, 3, 3, 1, 3, 8, 0, 5, 8, 1, 1, 8, 9, 1, 1, 7, 2, 2, 3, 4, 0, 1, 5, 6, 3, 3, 3, 9, 7, 1, 0, 5, 8, 7, 3, 9, 1, 9, 2, 3, 8, 9, 6, 5, 2, 2, 6, 2, 9, 2, 2, 5, 2, 9, 5, 1, 9, 8, 8, 5, 7, 1, 8, 4, 1, 4, 3, 1, 1, 8, 8, 4, 2, 0, 1, 0, 7, 2, 7, 8, 8, 1, 7, 1, 8, 4, 0, 1, 6, 5, 0, 2, 9, 1, 5, 9, 7, 5, 3, 9, 7, 2, 2, 2, 6, 1, 1, 3, 9, 0, 0, 7, 6, 5, 6, 4, 2, 8, 5, 3, 6, 6, 1, 1, 2, 6, 1, 6, 7, 2, 0, 1, 8, 9, 1, 7, 8, 7, 3, 7, 0, 0, 1, 5, 5, 8, 4, 4, 4, 4, 9, 9, 2, 0, 3, 1, 7, 1, 5, 4, 7, 2, 4, 3, 3, 5, 3, 8, 0, 8, 9, 9, 1, 9, 0, 8, 6, 6, 5, 9, 0, 2, 1, 4, 9, 8, 5, 7, 1, 8, 5, 1, 0, 4, 2, 4, 7, 3, 1, 9, 6, 0, 9, 9, 1, 2, 4, 1, 6, 9, 6, 1, 6, 4, 3, 9, 9, 0, 2, 7, 6, 6, 6, 0, 7, 4, 8, 4, 3, 4, 0, 0, 4, 7, 1, 5, 3, 0, 1, 6, 6, 7, 1, 2, 0, 9, 2, 4, 1, 5, 4, 7, 1, 4, 1, 7, 2, 1, 5, 2, 7, 1, 3, 2, 1, 1, 8, 4, 9, 5, 4, 0, 4, 6, 2, 0, 9, 6, 4, 4, 5, 3, 2, 5, 9, 1, 7, 5, 0, 0, 8, 3, 0, 0, 0, 3, 1, 3, 9, 5, 3, 3, 7, 2, 9, 0, 8, 2, 8, 0, 7, 1, 7, 6, 3, 0, 6, 4, 3, 7, 6, 7, 4, 2, 0, 9, 2, 2, 6, 2, 8, 6, 4, 5, 2, 3, 6, 9, 8, 5, 5, 2, 4, 2, 1, 9, 3, 8, 6, 9, 2, 6, 1, 4, 6, 5, 1, 1, 7, 3, 8, 3, 8, 8, 1, 9, 8, 1, 6, 8, 4, 2, 2, 8, 3, 3, 4, 5, 2, 7, 0, 3, 9, 5, 4, 7, 4, 8, 0, 2, 9, 3, 1, 8, 4, 8, 0, 3, 7, 0, 4, 5, 3, 8, 0, 5, 1, 3, 6, 9, 6, 5, 4, 7, 1, 5, 6, 5, 2, 1, 0, 6, 2, 2, 9, 9, 1, 6, 3, 3, 3, 7, 2, 9, 8, 5, 0, 1, 6, 6, 0, 1, 1, 8, 7, 9, 4, 9, 9, 0, 8, 8, 6, 7, 1, 4, 3, 6, 8, 8, 1, 1, 6, 9, 8, 1, 1, 1, 6, 1, 6, 9, 3, 3, 0, 5, 7, 7, 5, 7, 5, 5, 6, 0, 0, 1, 3, 4, 1, 8, 8, 7, 7, 2, 8, 6, 4, 9, 4, 8, 0, 6, 6, 9, 5, 1, 0, 6, 1, 6, 7, 1, 3, 2, 4, 0, 7, 9, 3, 4, 4, 3, 2, 5, 0, 4, 5, 5, 6, 8, 5, 6, 4, 4, 8, 6, 0, 9, 4, 1, 7, 3, 1, 7, 9, 9, 9, 2, 8, 0, 5, 1, 4, 3, 2, 4, 8, 1, 5, 8, 1, 4, 4, 1, 7, 7, 5, 6, 3, 2, 8, 3, 9, 1, 9, 4, 5, 1, 3, 9, 9, 4, 3, 2, 8, 1, 8, 6, 8, 1, 9, 0, 4, 0, 9, 0, 5, 1, 5, 0, 8, 0, 9, 3, 8, 1, 8, 7, 1, 4, 6, 6, 4, 0, 8, 6, 3, 2, 9, 2, 2, 5, 1, 4, 3, 3, 6, 9, 1, 0, 7, 2, 5, 4, 7, 5, 1, 9, 9, 3, 4, 3, 3, 8, 8, 7, 0, 8, 3, 7, 2, 1, 8, 6, 1, 2, 7, 9, 1, 0, 6, 5, 0, 2, 3, 9, 1, 7, 0, 8, 6, 7, 4, 9, 5, 7, 2, 9, 2, 3, 8, 2, 1, 7, 5, 1, 4, 5, 1, 8, 1, 7, 4, 4, 1, 3, 7, 0, 5, 2, 9, 1, 6, 5, 1, 1, 5, 1, 8, 4, 2, 5, 5, 8, 7, 6, 4, 0, 7, 9, 8, 6, 0, 8, 2, 4, 9, 2, 6, 4, 2, 2, 8, 8, 3, 9, 9, 1, 4, 0, 2, 1, 0, 0, 0, 9, 2, 3, 8, 3, 1, 9, 3, 0, 2, 8, 6, 0, 8, 7, 4, 5, 6, 2, 8, 4, 3, 0, 0, 0, 7, 7, 8, 4, 8, 6, 4, 2, 1, 2, 0, 6, 7, 4, 3, 5, 2, 0, 0, 4, 4, 9, 8, 5, 1, 4, 1, 2, 1, 5, 4, 9, 9, 5, 1, 8, 1, 5, 7, 4, 5, 6, 7, 6, 3, 8, 3, 4, 2, 3, 6, 3, 6, 8, 3, 4, 2, 4, 0, 1, 9, 1, 7, 7, 2, 7, 2, 4, 1, 0, 4, 6, 2, 5, 6, 0, 3, 1, 4, 1, 2, 1, 5, 9, 7, 4, 3, 0, 3, 7, 0, 2, 8, 6, 1, 8, 4, 0, 9, 0, 4, 1, 5, 3, 9, 4, 6, 5, 0, 5, 0, 1, 4, 8, 1, 0, 5, 8, 9, 6, 5, 4, 5, 5, 8, 3, 1, 9, 9, 2, 0, 3, 9, 3, 4, 3, 0, 6, 6, 5, 9, 3, 9, 2, 5, 9, 6, 3, 6, 9, 8, 2, 6, 8, 4, 1, 1, 3, 5, 8, 0, 4, 5, 4, 0, 2, 0, 6, 2, 1, 2, 3, 1, 1, 0, 5, 4, 4, 0, 6, 7, 1, 7, 2, 3, 6, 4, 8, 1, 8, 3, 7, 0, 2, 9, 5, 1, 3, 8, 6, 9, 7, 8, 0, 2, 9, 9, 9, 1, 0, 1, 5, 5, 4, 2, 4, 5, 3, 8, 6, 7, 9, 8, 2, 5, 1, 1, 2, 5, 0, 6, 9, 8, 8, 7, 1, 8, 9, 9, 2, 1, 3, 9, 2, 3, 4, 6, 1, 0, 9, 4, 1, 2, 3, 7, 9, 7, 6, 7, 6, 3, 4, 9, 6, 6, 9, 0, 4, 7, 7, 8, 9, 3, 0, 3, 2, 2, 4, 3, 0, 7, 9, 6, 1, 0, 8, 3, 3, 5, 2, 1, 2, 2, 2, 7, 1, 8, 3, 5, 5, 7, 6, 2, 2, 0, 1, 7, 5, 3, 7, 0, 1, 1, 9, 4, 8, 1, 1, 4, 3, 7, 2, 7, 3, 4, 7, 1, 0, 5, 6, 9, 7, 9, 0, 5, 9, 3, 4, 4, 5, 9, 9, 9, 4, 5, 2, 7, 3, 0, 3, 3, 8, 1, 4, 8, 1, 6, 0, 1, 6, 8, 0, 7, 7, 3, 6, 1, 0, 6, 3, 9, 3, 4, 7, 5, 6, 4, 2, 2, 2, 5, 3, 9, 8, 0, 0, 6, 1, 6, 4, 4, 0, 4, 0, 5, 5, 1, 7, 1, 4, 1, 8, 4, 9, 8, 0, 3, 5, 7, 4, 4, 6, 1, 8, 6, 8, 3, 8, 1, 6, 1, 9, 9, 2, 7, 7, 2, 7, 2, 2, 0, 6, 9, 0, 1, 5, 6, 2, 6, 7, 5, 5, 7, 6, 9, 7, 9, 4, 1, 3, 2, 6, 1, 5, 9, 9, 7, 8, 7, 0, 5, 4, 5, 7, 6, 5, 6, 0, 4, 7, 5, 1, 0, 1, 1, 9, 4, 8, 3, 5, 1, 7, 4, 4, 2, 9, 9, 5, 1, 7, 5, 9, 6, 2, 1, 4, 1, 5, 3, 9, 7, 7, 4, 3, 2, 6, 9, 1, 3, 5, 7, 0, 3, 4, 3, 5, 9, 1, 6, 5, 7, 2, 0, 0, 5, 2, 2, 8, 4, 4, 4, 4, 2, 4, 5, 9, 3, 9, 6, 7, 4, 0, 3, 4, 8, 7, 6, 1, 8, 7, 6, 0, 3, 0, 3, 5, 3, 4, 2, 8, 8, 0, 2, 8, 3, 9, 2, 9, 7, 8, 2, 6, 1, 2, 4, 1, 3, 4, 3, 2, 0, 8, 8, 4, 6, 8, 0, 7, 0, 5, 1, 2, 2, 0, 7, 6, 4, 1, 8, 7, 8, 2, 4, 0, 0, 2, 3, 5, 0, 5, 7, 4, 1, 7, 7, 9, 9, 1, 5, 0, 2, 0, 3, 3, 6, 4, 9, 4, 8, 6, 5, 2, 9, 0, 8, 1, 9, 8, 2, 5, 9, 7, 4, 8, 3, 4, 3, 2, 6, 4, 1, 3, 0, 2, 1, 2, 7, 2, 2, 6, 6, 0, 1, 4, 6, 1, 0, 2, 4, 0, 6, 1, 1, 9, 5, 6, 7, 6, 7, 5, 0, 3, 8, 9, 2, 6, 2, 9, 7, 9, 3, 2, 7, 4, 1, 4, 8, 7, 8, 4, 5, 8, 5, 6, 0, 8, 9, 3, 2, 6, 4, 6, 6, 5, 1, 8, 6, 8, 2, 7, 1, 1, 3, 6, 0, 4, 5, 0, 3, 9, 9, 6, 3, 7, 4, 3, 4, 1, 7, 2, 5, 6, 4, 6, 6, 5, 9, 4, 1, 8, 2, 3, 6, 0, 7, 7, 7, 3, 5, 0, 1, 4, 6, 0, 6, 8, 5, 5, 1, 9, 2, 5, 3, 3, 3, 7, 1, 0, 2, 2, 3, 2, 9, 3, 1, 8, 0, 5, 3, 8, 5, 0, 1, 7, 8, 1, 0, 1, 2, 6, 8, 2, 7, 4, 7, 7, 0, 5, 9, 9, 6, 1, 6, 7, 7, 3, 5, 3, 9, 0, 8, 2, 9, 4, 9, 2, 6, 1, 7, 4, 9, 0, 9, 7, 1, 9, 2, 7, 4, 6, 3, 3, 9, 7, 8, 1, 1, 0, 2, 9, 2, 5, 5, 5, 6, 5, 0, 9, 5, 5, 0, 0, 1, 7, 0, 1, 6, 7, 6, 2, 2, 9, 0, 0, 5, 3, 4, 6, 4, 2, 0, 7, 1, 2, 6, 2, 2, 6, 7, 5, 0, 2, 8, 4, 0, 8, 2, 6, 5, 9, 7, 8, 9, 5, 3, 9, 1, 1, 2, 5, 9, 4, 2, 5, 0, 1, 4, 0, 3, 6, 6, 0, 7, 8, 9, 7, 5, 3, 8, 9, 9, 1, 1, 6, 3, 3, 7, 0, 1, 1, 7, 8, 5, 7, 6, 5, 5, 9, 8, 0, 5, 1, 5, 6, 0, 4, 8, 2, 6, 7, 9, 5, 9, 6, 9, 7, 1, 8, 8, 4, 7, 2, 3, 7, 9, 0, 0, 1, 9, 5, 2, 8, 9, 6, 4, 5, 7, 8, 5, 5, 6, 0, 6, 8, 4, 2, 2, 0, 8, 8, 7, 7, 3, 7, 2, 7, 1, 4, 6, 8, 4, 9, 5, 3, 1, 8, 6, 4, 5, 1, 6, 6, 4, 3, 3, 0, 8, 0, 3, 1, 6, 2, 6, 1, 6, 7, 6, 0, 6, 4, 8, 4, 6, 7, 4, 8, 8, 7, 4, 3, 1, 0, 8, 4, 0, 1, 8, 9, 6, 0, 6, 9, 9, 1, 9, 4, 2, 0, 9, 9, 1, 2, 4, 6, 3, 8, 1, 7, 5, 7, 2, 5, 8, 0, 0, 6, 3, 9, 3, 5, 4, 0, 3, 4, 3, 6, 7, 0, 0, 5, 8, 4, 6, 2, 2, 2, 8, 4, 6, 1, 6, 4, 4, 6, 6, 4, 0, 0, 4, 6, 4, 9, 9, 3, 5, 3, 1, 2, 1, 5, 1, 8, 4, 5, 3, 1, 9, 8, 2, 0, 2, 9, 2, 8, 3, 7, 6, 9, 6, 1, 3, 0, 1, 3, 7, 7, 9, 6, 0, 4, 5, 5, 6, 8, 3, 8, 3, 5, 7, 6, 3, 7, 7, 3, 4, 8, 1, 2, 8, 8, 8, 1, 5, 6, 5, 2, 5, 5, 1, 6, 6, 1, 4, 3, 0, 0, 3, 7, 2, 9, 0, 3, 2, 9, 3, 0, 6, 3, 2, 9, 6, 1, 8, 5, 7, 0, 1, 4, 1, 0, 8, 2, 9, 8, 0, 1, 4, 8, 7, 6, 3, 8, 4, 5, 0, 6, 6, 0, 5, 9, 0, 7, 4, 8, 8, 5, 9, 9, 9, 9, 1, 1, 1, 2, 0, 7, 5, 0, 2, 0, 8, 7, 1, 9, 8, 5, 2, 6, 1, 6, 9, 2, 3, 9, 8, 8, 9, 0, 2, 9, 4, 8, 5, 1, 0, 9, 0, 1, 7, 9, 4, 0, 1, 3, 9, 8, 7, 4, 5, 0, 1, 5, 8, 8, 1, 6, 9, 7, 0, 1, 7, 5, 5, 4, 6, 1, 8, 4, 9, 3, 9, 6, 9, 0, 0, 1, 9, 9, 3, 3, 2, 1, 1, 2, 9, 3, 1, 8, 5, 2, 3, 2, 5, 4, 8, 0, 5, 3, 6, 9, 2, 5, 8, 5, 6, 6, 0, 8, 9, 8, 0, 4, 1, 0, 1, 3, 1, 8, 6, 3, 1, 8, 0, 3, 8, 6, 9, 3, 1, 6, 1, 1, 6, 4, 3, 8, 6, 9, 4, 2, 8, 6, 7, 2, 7, 7, 6, 8, 3, 2, 0, 2, 0, 7, 5, 0, 9, 9, 6, 4, 5, 6, 1, 2, 0, 3, 9, 7, 6, 0, 3, 4, 1, 7, 7, 7, 1, 0, 0, 6, 0, 6, 5, 9, 7, 8, 2, 5, 1, 8, 0, 3, 8, 8, 9, 1, 2, 6, 6, 6, 9, 5, 3, 8, 6, 1, 3, 8, 6, 4, 3, 4, 9, 6, 0, 1, 0, 9, 2, 2, 1, 7, 5, 4, 1, 6, 0, 3, 8, 9, 9, 7, 8, 2, 5, 8, 5, 5, 2, 1, 8, 9, 1, 6, 9, 3, 9, 9, 1, 8, 7, 4, 1, 2, 2, 5, 6, 5, 8, 7, 3, 6, 1, 2, 6, 8, 1, 8, 6, 7, 4, 1, 9, 3, 4, 0, 9, 1, 1, 0, 1, 8, 1, 3, 9, 0, 2, 8, 5, 9, 0, 8, 8, 7, 7, 1, 9, 9, 0, 3, 4, 9, 6, 3, 0, 2, 4, 4, 7, 1, 4, 1, 9, 3, 8, 2, 0, 4, 7, 3, 2, 6, 7, 1, 5, 1, 1, 2, 4, 0, 0, 4, 8, 8, 5, 2, 5, 8, 5, 9, 0, 3, 2, 4, 8, 2, 0, 2, 4, 5, 1, 6, 8, 9, 1, 0, 3, 2, 6, 1, 1, 6, 8, 2, 9, 0, 0, 0, 8, 2, 4, 3, 2, 8, 2, 6, 7, 4, 6, 4, 3, 2, 0, 9, 8, 6, 4, 3, 0, 3, 0, 3, 0, 2, 9, 2, 1, 8, 4, 7, 9, 2, 7, 3, 1, 3, 7, 0, 3, 7, 2, 2, 2, 0, 7, 9, 1, 2, 0, 5, 6, 2, 3, 6, 7, 4, 9, 4, 5, 8, 9, 3, 7, 4, 2, 9, 4, 8, 6, 7, 0, 3, 8, 7, 1, 3, 1, 6, 5, 0, 6, 0, 1, 9, 6, 4, 0, 8, 8, 7, 4, 0, 9, 9, 6, 8, 0, 2, 4, 8, 4, 4, 1, 7, 1, 1, 9, 2, 2, 7, 6, 8, 0, 2, 0, 6, 0, 6, 9, 0, 3, 7, 7, 7, 9, 5, 0, 3, 8, 9, 8, 0, 1, 4, 6, 7, 9, 7, 7, 9, 7, 6, 2, 8, 2, 1, 4, 9, 7, 5, 8, 1, 2, 1, 1, 7, 1, 9, 3, 0, 1, 9, 9, 6, 0, 1, 8, 5, 0, 7, 4, 6, 6, 2, 9, 2, 1, 3, 5, 1, 9, 3, 8, 9, 3, 4, 1, 1, 8, 9, 9, 7, 5, 4, 1, 6, 0, 8, 2, 6, 0, 9, 0, 6, 8, 7, 2, 0, 3, 4, 7, 8, 4, 6, 4, 0, 5, 8, 2, 3, 3, 5, 1, 2, 1, 3, 8, 7, 2, 8, 2, 1, 0, 4, 4, 4, 2, 3, 6, 1, 4, 4, 1, 1, 6, 5, 7, 1, 5, 4, 1, 5, 9, 4, 3, 3, 3, 4, 0, 7, 4, 1, 3, 8, 1, 1, 6, 5, 7, 3, 9, 5, 4, 5, 6, 4, 3, 5, 7, 5, 9, 3, 8, 0, 8, 9, 6, 8, 5, 7, 9, 0, 9, 7, 2, 9, 1, 3, 8, 1, 4, 7, 3, 8, 1, 5, 7, 5, 0, 2, 7, 3, 1, 0, 1, 3, 2, 2, 2, 4, 0, 0, 4, 9, 5, 9, 1, 7, 0, 1, 4, 5, 8, 3, 0, 4, 0, 9, 6, 9, 0, 2, 0, 7, 3, 5, 6, 5, 2, 9, 1, 6, 1, 5, 1, 9, 1, 9, 5, 8, 9, 9, 6, 3, 8, 7, 9, 5, 3, 9, 3, 7, 1, 8, 7, 9, 3, 3, 9, 9, 0, 2, 3, 9, 4, 7, 6, 4, 3, 5, 3, 9, 7, 4, 4, 1, 5, 1, 0, 3, 9, 9, 1, 6, 5, 6, 4, 8, 3, 3, 3, 7, 9, 7, 5, 1, 2, 2, 0, 9, 9, 1, 5, 5, 7, 9, 4, 2, 1, 2, 8, 4, 0, 2, 8, 3, 2, 8, 8, 3, 4, 4, 1, 8, 1, 2, 0, 4, 4, 6, 9, 6, 1, 9, 0, 3, 5, 5, 5, 2, 8, 5, 8, 1, 0, 8, 9, 4, 4, 0, 8, 8, 2, 3, 9, 2, 7, 3, 8, 7, 6, 8, 9, 9, 0, 5, 9, 2, 3, 1, 9, 2, 9, 2, 0, 6, 9, 3, 7, 9, 7, 5, 2, 5, 8, 2, 1, 1, 2, 1, 4, 7, 4, 8, 7, 4, 9, 4, 0, 3, 9, 0, 2, 6, 1, 0, 8, 5, 5, 2, 2, 2, 1, 3, 5, 8, 3, 3, 6, 7, 3, 6, 4, 3, 8, 6, 2, 7, 9, 8, 2, 7, 3, 9, 7, 8, 1, 9, 8, 3, 2, 4, 2, 2, 6, 2, 8, 0, 1, 7, 8, 4, 6, 6, 9, 3, 4, 1, 0, 4, 3, 8, 2, 5, 0, 6, 1, 1, 9, 2, 7, 1, 5, 7, 3, 9, 9, 1, 3, 3, 7, 7, 2, 1, 8, 3, 9, 3, 9, 4, 2, 1, 4, 6, 7, 4, 6, 2, 6, 4, 1, 9, 7, 1, 6, 6, 3, 8, 4, 5, 0, 7, 3, 9, 8, 4, 6, 9, 0, 2, 9, 8, 1, 7, 2, 5, 3, 3, 7, 9, 3, 9, 5, 9, 9, 2, 8, 8, 6, 1, 1, 8, 0, 2, 9, 6, 8, 8, 1, 1, 8, 1, 8, 0, 6, 0, 3, 4, 3, 3, 6, 9, 3, 2, 0, 8, 3, 0, 1, 9, 6, 0, 8, 9, 1, 5, 7, 1, 3, 5, 5, 8, 0, 6, 2, 9, 6, 8, 2, 0, 7, 1, 2, 3, 1, 2, 4, 3, 8, 7, 3, 5, 0, 9, 4, 7, 2, 2, 9, 5, 9, 6, 8, 2, 2, 2, 1, 1, 2, 2, 8, 8, 5, 3, 9, 9, 0, 3, 1, 5, 3, 3, 0, 7, 8, 4, 5, 6, 0, 7, 7, 7, 6, 1, 5, 1, 2, 1, 4, 0, 4, 7, 0, 8, 7, 9, 8, 9, 6, 3, 1, 8, 8, 1, 5, 1, 0, 6, 6, 2, 5, 6, 1, 7, 1, 7, 0, 3, 7, 7, 9, 8, 0, 5, 8, 0, 1, 1, 1, 7, 7, 3, 3, 4, 4, 6, 9, 6, 5, 5, 1, 3, 5, 6, 7, 2, 1, 7, 5, 7, 4, 6, 7, 8, 1, 6, 3, 1, 5, 5, 9, 9, 9, 4, 6, 6, 1, 7, 8, 4, 4, 1, 3, 2, 9, 6, 8, 5, 9, 0, 2, 2, 7, 1, 3, 0, 6, 2, 6, 7, 9, 9, 3, 3, 9, 2, 1, 6, 5, 4, 0, 2, 4, 6, 2, 8, 6, 7, 3, 1, 4, 9, 5, 9, 4, 1, 5, 8, 1, 3, 5, 2, 7, 5, 2, 7, 1, 3, 4, 6, 8, 4, 7, 0, 4, 6, 4, 0, 8, 5, 9, 0, 3, 3, 3, 6, 8, 9, 0, 5, 9, 7, 6, 7, 2, 7, 7, 7, 5, 4, 5, 9, 6, 0, 2, 1, 5, 7, 9, 9, 0, 2, 0, 0, 4, 3, 6, 0, 2, 3, 2, 9, 1, 9, 2, 5, 4, 0, 9, 2, 4, 3, 1, 0, 2, 7, 6, 2, 3, 3, 7, 3, 3, 4, 0, 8, 4, 8, 7, 1, 1, 3, 5, 7, 3, 3, 3, 5, 7, 1, 7, 7, 5, 1, 5, 2, 5, 9, 8, 1, 8, 6, 7, 7, 2, 8, 3, 1, 7, 5, 4, 2, 6, 7, 3, 5, 4, 0, 7, 2, 4, 8, 2, 5, 1, 9, 8, 5, 1, 6, 3, 4, 9, 2, 6, 8, 4, 7, 1, 4, 4, 7, 6, 9, 4, 4, 2, 6, 3, 2, 7, 7, 2, 7, 1, 1, 7, 4, 0, 6, 2, 3, 9, 9, 9, 2, 7, 1, 6, 4, 1, 6, 7, 4, 6, 8, 7, 5, 4, 9, 2, 1, 2, 6, 6, 2, 3, 9, 3, 3, 4, 4, 8, 5, 7, 4, 5, 6, 8, 1, 3, 5, 6, 6, 2, 8, 2, 6, 8, 5, 3, 0, 0, 9, 8, 0, 1, 2, 9, 5, 3, 0, 9, 2, 7, 6, 1, 9, 7, 5, 8, 8, 0, 6, 3, 5, 3, 7, 0, 0, 4, 1, 6, 3, 1, 1, 5, 8, 4, 0, 3, 3, 1, 2, 8, 2, 7, 8, 9, 9, 7, 9, 1, 8, 8, 4, 4, 8, 7, 8, 5, 5, 2, 4, 2, 0, 3, 6, 8, 2, 4, 6, 2, 1, 1, 0, 7, 1, 5, 9, 3, 0, 5, 6, 7, 6, 1, 5, 2, 1, 3, 3, 8, 0, 8, 2, 4, 2, 5, 0, 8, 5, 9, 1, 3, 9, 5, 8, 0, 3, 6, 9, 0, 4, 9, 9, 1, 6, 2, 8, 1, 1, 4, 3, 8, 0, 2, 4, 6, 8, 5, 0, 5, 5, 6, 8, 4, 1, 2, 0, 3, 9, 6, 7, 8, 8, 9, 7, 8, 9, 6, 1, 3, 3, 4, 8, 3, 0, 1, 9, 1, 3, 0, 8, 6, 5, 4, 2, 7, 8, 3, 1, 9, 7, 8, 2, 1, 5, 0, 4, 0, 3, 5, 2, 9, 0, 1, 9, 2, 5, 2, 0, 4, 8, 3, 9, 0, 0, 6, 6, 7, 2, 7, 3, 3, 7, 9, 8, 3, 8, 8, 4, 6, 1, 8, 7, 2, 9, 6, 6, 4, 3, 8, 1, 4, 2, 4, 7, 5, 4, 9, 9, 2, 4, 5, 9, 4, 7, 1, 6, 6, 6, 2, 8, 4, 1, 5, 3, 3, 8, 3, 1, 2, 5, 3, 3, 6, 1, 7, 9, 7, 5, 0, 2, 5, 7, 8, 4, 7, 3, 7, 6, 6, 8, 3, 1, 4, 2, 2, 4, 9, 5, 1, 6, 6, 6, 7, 3, 8, 9, 0, 3, 4, 5, 0, 1, 6, 2, 1, 0, 9, 3, 8, 5, 5, 8, 8, 7, 0, 5, 7, 9, 5, 5, 6, 2, 2, 5, 2, 8, 5, 2, 9, 4, 3, 3, 8, 4, 4, 6, 6, 0, 4, 1, 5, 5, 1, 3, 9, 6, 2, 4, 5, 8, 1, 2, 7, 3, 6, 4, 2, 2, 4, 0, 1, 6, 6, 1, 7, 7, 2, 6, 5, 7, 4, 2, 8, 4, 9, 9, 3, 6, 1, 8, 1, 3, 9, 9, 3, 4, 2, 9, 9, 8, 3, 3, 4, 6, 9, 2, 6, 3, 3, 4, 4, 1, 1, 9, 5, 5, 1, 4, 1, 0, 0, 2, 7, 1, 1, 3, 8, 5, 2, 2, 6, 7, 8, 2, 9, 9, 6, 8, 2, 3, 6, 6, 2, 9, 0, 3, 6, 9, 5, 7, 1, 3, 7, 8, 2, 9, 7, 7, 9, 9, 5, 6, 0, 9, 1, 5, 3, 1, 8, 0, 7, 8, 0, 5, 9, 2, 8, 6, 2, 0, 6, 7, 7, 0, 5, 8, 1, 7, 1, 1, 3, 1, 7, 5, 5, 8, 3, 2, 3, 2, 9, 4, 6, 3, 9, 1, 5, 7, 8, 4, 8, 3, 0, 3, 4, 8, 0, 2, 8, 7, 4, 6, 3, 4, 9, 8, 6, 1, 7, 5, 9, 4, 6, 9, 2, 1, 7, 5, 7, 6, 4, 3, 6, 6, 5, 6, 5, 1, 5, 2, 6, 5, 0, 4, 1, 4, 2, 7, 8, 9, 8, 8, 0, 6, 2, 4, 9, 9, 9, 3, 3, 5, 9, 1, 0, 2, 7, 4, 1, 1, 8, 2, 7, 7, 2, 5, 0, 6, 8, 1, 5, 8, 4, 4, 8, 5, 3, 2, 1, 5, 7, 4, 4, 9, 2, 5, 8, 5, 3, 7, 7, 3, 3, 5, 7, 0, 7, 9, 4, 7, 6, 1, 9, 1, 9, 9, 7, 2, 2, 4, 7, 8, 0, 9, 4, 6, 7, 3, 5, 7, 7, 5, 9, 9, 0, 7, 8, 0, 6, 5, 5, 6, 8, 5, 4, 8, 5, 2, 8, 6, 8, 6, 7, 7, 9, 4, 4, 4, 1, 0, 6, 4, 6, 9, 5, 1, 6, 1, 7, 3, 7, 2, 6, 2, 4, 9, 8, 3, 3, 9, 6, 0, 9, 9, 1, 9, 2, 2, 6, 0, 3, 3, 6, 6, 1, 6, 1, 2, 8, 0, 0, 4, 3, 3, 7, 9, 3, 3, 5, 9, 1, 1, 8, 5, 8, 6, 2, 0, 6, 8, 0, 0, 2, 6, 5, 1, 1, 1, 8, 2, 4, 2, 8, 7, 9, 2, 9, 5, 2, 8, 2, 6, 5, 5, 8, 5, 8, 0, 0, 3, 2, 7, 7, 7, 8, 2, 1, 8, 1, 4, 4, 2, 7, 6, 8, 4, 7, 2, 7, 7, 5, 5, 8, 5, 5, 9, 3, 9, 7, 6, 0, 4, 5, 3, 6, 2, 4, 8, 3, 4, 5, 0, 9, 9, 0, 3, 5, 1, 1, 1, 9, 4, 8, 0, 8, 8, 2, 5, 2, 5, 8, 7, 0, 0, 2, 8, 1, 0, 4, 3, 4, 2, 5, 0, 7, 3, 6, 7, 7, 5, 3, 3, 2, 1, 6, 2, 4, 5, 6, 0, 6, 2, 1, 4, 7, 4, 0, 3, 1, 3, 5, 3, 7, 4, 0, 2, 4, 0, 2, 4, 2, 4, 3, 3, 3, 7, 6, 2, 6, 0, 1, 7, 4, 6, 4, 3, 1, 8, 2, 7, 4, 2, 5, 6, 0, 3, 0, 3, 5, 1, 5, 2, 8, 4, 3, 8, 8, 1, 5, 8, 4, 1, 5, 0, 4, 4, 1, 8, 7, 7, 4, 8, 3, 6, 3, 4, 2, 2, 8, 3, 1, 7, 3, 1, 4, 5, 4, 0, 8, 2, 8, 8, 3, 2, 8, 3, 9, 6, 3, 3, 3, 7, 1, 9, 6, 6, 7, 5, 9, 0, 2, 1, 4, 2, 4, 5, 1, 8, 6, 8, 7, 6, 2, 6, 9, 8, 9, 7, 4, 1, 4, 6, 2, 4, 3, 8, 8, 9, 7, 6, 3, 9, 6, 6, 3, 8, 0, 9, 6, 4, 2, 5, 4, 3, 5, 2, 0, 5, 8, 3, 9, 5, 5, 0, 0, 4, 3, 1, 9, 1, 1, 1, 4, 8, 6, 4, 4, 3, 0, 8, 5, 1, 4, 2, 4, 0, 1, 0, 3, 9, 0, 8, 8, 7, 0, 8, 8, 8, 6, 8, 5, 6, 6, 5, 9, 4, 6, 4, 2, 1, 5, 5, 2, 7, 0, 1, 0, 0, 9, 3, 2, 1, 6, 5, 7, 7, 5, 5, 2, 8, 3, 3, 2, 5, 8, 3, 3, 9, 9, 6, 4, 6, 2, 0, 4, 3, 6, 7, 5, 3, 2, 7, 7, 5, 6, 2, 3, 3, 6, 4, 6, 1, 3, 1, 7, 8, 2, 6, 6, 4, 4, 8, 6, 7, 5, 8, 5, 2, 8, 9, 8, 0, 9, 2, 9, 3, 2, 4, 0, 6, 6, 2, 4, 7, 8, 1, 3, 8, 1, 2, 7, 1, 8, 7, 9, 9, 4, 9, 4, 3, 7, 1, 2, 6, 8, 5, 1, 2, 1, 1, 0, 1, 6, 5, 2, 6, 2, 2, 3, 6, 9, 7, 4, 9, 0, 1, 1, 1, 1, 3, 5, 1, 1, 2, 3, 1, 2, 6, 1, 4, 0, 8, 0, 2, 1, 4, 4, 5, 7, 0, 8, 7, 8, 1, 3, 7, 2, 2, 2, 4, 2, 9, 2, 9, 2, 8, 2, 2, 5, 9, 4, 3, 7, 1, 0, 4, 4, 0, 9, 2, 0, 0, 5, 0, 1, 6, 0, 2, 7, 5, 0, 7, 4, 9, 9, 3, 6, 2, 4, 1, 3, 2, 3, 0, 0, 6, 5, 8, 7, 0, 6, 2, 0, 9, 9, 1, 5, 8, 5, 8, 9, 0, 7, 1, 5, 0, 1, 5, 0, 6, 4, 7, 7, 4, 9, 3, 8, 8, 9, 6, 7, 0, 0, 3, 3, 8, 7, 7, 4, 2, 1, 5, 7, 1, 7, 8, 2, 8, 0, 8, 3, 1, 0, 1, 9, 5, 6, 6, 6, 6, 1, 0, 8, 3, 7, 0, 5, 9, 6, 0, 2, 2, 5, 6, 1, 7, 5, 1, 7, 8, 1, 0, 4, 4, 3, 0, 2, 1, 3, 8, 3, 8, 7, 2, 8, 2, 9, 0, 2, 4, 5, 6, 7, 3, 8, 5, 2, 3, 3, 8, 1, 4, 4, 8, 0, 3, 9, 6, 1, 1, 6, 6, 4, 4, 5, 3, 1, 4, 2, 5, 9, 6, 8, 8, 5, 9, 5, 3, 0, 9, 2, 6, 3, 9, 3, 9, 6, 8, 9, 8, 3, 7, 2, 7, 7, 7, 4, 6, 7, 4, 6, 1, 8, 7, 9, 5, 8, 1, 2, 9, 3, 1, 8, 5, 1, 4, 1, 1, 8, 5, 8, 2, 2, 9, 2, 7, 5, 3, 6, 8, 8, 9, 6, 6, 1, 9, 9, 0, 0, 2, 3, 4, 7, 5, 5, 6, 9, 9, 2, 3, 9, 7, 3, 5, 6, 0, 0, 0, 7, 8, 6, 3, 6, 6, 6, 0, 7, 7, 3, 8, 1, 9, 6, 7, 9, 4, 7, 0, 1, 6, 4, 2, 4, 8, 5, 3, 8, 5, 8, 2, 8, 3, 2, 4, 7, 4, 2, 6, 8, 7, 5, 2, 0, 3, 4, 5, 2, 8, 9, 1, 4, 8, 8, 8, 1, 5, 2, 6, 7, 7, 4, 6, 5, 4, 6, 0, 0, 7, 9, 5, 8, 3, 6, 3, 8, 8, 3, 6, 1, 7, 9, 9, 1, 8, 8, 1, 4, 1, 9, 5, 9, 1, 9, 8, 2, 6, 4, 8, 1, 1, 7, 9, 8, 1, 6, 8, 9, 6, 1, 1, 2, 1, 8, 7, 0, 7, 9, 4, 4, 2, 6, 3, 1, 9, 3, 6, 5, 5, 5, 7, 6, 5, 0, 7, 8, 3, 5, 4, 3, 4, 3, 7, 5, 6, 2, 6, 0, 2, 9, 1, 1, 1, 2, 2, 3, 9, 8, 8, 9, 6, 9, 5, 5, 5, 2, 0, 1, 7, 4, 7, 5, 3, 0, 3, 5, 1, 9, 5, 6, 9, 6, 5, 1, 4, 8, 2, 8, 4, 6, 6, 8, 3, 3, 4, 2, 2, 8, 0, 1, 8, 0, 7, 1, 9, 3, 7, 1, 0, 4, 3, 6, 7, 8, 3, 2, 7, 7, 6, 5, 4, 7, 6, 9, 1, 6, 1, 1, 2, 4, 6, 1, 3, 1, 8, 1, 9, 4, 3, 4, 3, 5, 4, 3, 7, 9, 9, 8, 0, 8, 2, 5, 8, 9, 0, 7, 1, 7, 4, 3, 6, 8, 5, 3, 4, 2, 7, 4, 0, 8, 9, 3, 7, 7, 5, 0, 2, 5, 2, 2, 8, 2, 0, 5, 4, 8, 3, 2, 4, 3, 0, 1, 2, 1, 1, 3, 1, 2, 4, 8, 3, 6, 2, 4, 9, 3, 7, 3, 6, 1, 5, 2, 5, 8, 5, 6, 8, 2, 2, 2, 1, 5, 6, 3, 9, 1, 7, 8, 0, 6, 7, 4, 6, 0, 3, 8, 6, 1, 6, 4, 7, 6, 7, 3, 4, 3, 7, 4, 4, 6, 6, 9, 3, 7, 9, 3, 8, 3, 5, 4, 5, 4, 0, 0, 9, 7, 7, 5, 7, 4, 5, 4, 7, 9, 7, 1, 8, 9, 9, 5, 7, 1, 2, 0, 6, 9, 6, 5, 9, 0, 4, 8, 0, 5, 9, 3, 3, 8, 7, 0, 7, 2, 5, 4, 3, 5, 7, 0, 3, 4, 8, 1, 0, 0, 9, 9, 6, 4, 4, 5, 1, 0, 0, 9, 9, 7, 4, 7, 2, 1, 8, 4, 4, 4, 5, 6, 6, 2, 1, 1, 4, 2, 1, 8, 7, 1, 7, 8, 3, 3, 3, 0, 0, 5, 1, 2, 9, 4, 0, 0, 8, 7, 3, 6, 1, 9, 7, 2, 8, 7, 8, 2, 4, 1, 5, 2, 8, 8, 9, 8, 3, 8, 8, 3, 3, 6, 8, 3, 2, 5, 1, 4, 9, 6, 4, 8, 4, 3, 1, 8, 1, 3, 4, 5, 6, 3, 1, 9, 0, 6, 5, 1, 4, 7, 5, 0, 0, 6, 1, 0, 7, 7, 3, 8, 7, 4, 7, 7, 0, 0, 8, 1, 3, 7, 2, 1, 4, 7, 7, 1, 6, 8, 2, 9, 0, 0, 3, 1, 7, 6, 6, 3, 6, 1, 4, 8, 9, 7, 9, 3, 6, 2, 8, 8, 8, 2, 8, 9, 3, 8, 3, 7, 0, 0, 4, 0, 7, 7, 4, 8, 8, 2, 8, 3, 3, 1, 8, 5, 8, 1, 5, 1, 9, 3, 3, 1, 4, 7, 1, 4, 7, 3, 5, 1, 6, 4, 5, 3, 8, 2, 8, 8, 0, 5, 6, 0, 6, 0, 0, 3, 6, 2, 2, 6, 8, 1, 7, 9, 5, 3, 4, 6, 2, 7, 6, 8, 1, 2, 4, 2, 2, 3, 5, 6, 7, 5, 9, 4, 4, 6, 2, 7, 8, 5, 1, 7, 1, 6, 2, 1, 1, 2, 2, 8, 4, 0, 7, 9, 2, 7, 6, 7, 5, 2, 2, 3, 5, 2, 4, 6, 9, 4, 9, 8, 0, 9, 3, 4, 3, 4, 1, 4, 7, 5, 9, 6, 9, 9, 9, 9, 4, 1, 4, 8, 5, 5, 2, 6, 0, 2, 9, 2, 0, 8, 9, 8, 9, 9, 6, 3, 8, 2, 1, 9, 6, 0, 0, 2, 8, 4, 4, 6, 7, 5, 2, 6, 5, 0, 5, 1, 8, 9, 9, 3, 0, 6, 8, 3, 4, 5, 3, 2, 4, 6, 7, 4, 2, 2, 8, 9, 4, 0, 6, 0, 2, 1, 8, 4, 8, 7, 2, 3, 2, 1, 9, 6, 0, 3, 8, 3, 3, 9, 2, 0, 7, 7, 2, 0, 8, 6, 1, 1, 1, 6, 1, 2, 4, 8, 2, 0, 1, 8, 3, 5, 0, 2, 1, 8, 8, 1, 9, 7, 8, 9, 7, 9, 9, 4, 3, 5, 3, 7, 0, 0, 7, 4, 7, 0, 4, 0, 5, 0, 0, 5, 7, 6, 3, 2, 4, 8, 2, 3, 7, 2, 8, 1, 4, 1, 4, 9, 0, 7, 6, 8, 2, 1, 9, 1, 7, 0, 5, 5, 3, 6, 2, 6, 5, 0, 6, 4, 0, 1, 6, 1, 2, 6, 4, 6, 4, 9, 2, 9, 5, 9, 8, 5, 6, 0, 0, 1, 4, 9, 1, 3, 4, 8, 6, 4, 5, 1, 9, 8, 9, 6, 4, 1, 8, 2, 3, 7, 2, 3, 3, 3, 1, 6, 3, 1, 4, 2, 2, 1, 6, 7, 9, 2, 0, 0, 7, 4, 5, 4, 4, 5, 8, 6, 1, 8, 1, 8, 4, 6, 4, 1, 2, 9, 9, 6, 6, 9, 7, 6, 4, 6, 3, 9, 5, 0, 0, 6, 2, 1, 7, 6, 4, 8, 3, 4, 1, 4, 6, 1, 9, 1, 8, 0, 6, 3, 1, 2, 0, 2, 8, 6, 2, 4, 4, 7, 7, 8, 8, 3, 7, 6, 3, 5, 5, 5, 2, 7, 4, 6, 7, 3, 3, 7, 1, 3, 8, 0, 8, 0, 0, 6, 8, 3, 8, 9, 2, 1, 6, 3, 6, 9, 3, 1, 9, 7, 4, 8, 7, 9, 4, 8, 0, 3, 8, 7, 1, 3, 0, 8, 4, 4, 2, 4, 9, 5, 4, 9, 9, 3, 9, 7, 6, 6, 4, 5, 2, 8, 7, 2, 4, 4, 5, 7, 8, 5, 7, 6, 7, 4, 3, 0, 4, 7, 5, 8, 5, 1, 0, 0, 4, 7, 7, 0, 7, 2, 8, 8, 0, 1, 9, 5, 9, 8, 5, 4, 7, 4, 9, 8, 7, 1, 3, 6, 4, 0, 3, 7, 7, 2, 0, 2, 4, 7, 2, 2, 1, 4, 4, 6, 8, 6, 3, 0, 3, 8, 4, 6, 7, 6, 2, 1, 8, 4, 5, 2, 1, 2, 5, 7, 4, 0, 9, 9, 1, 7, 2, 1, 3, 5, 1, 8, 4, 5, 5, 3, 6, 8, 9, 5, 6, 6, 1, 7, 5, 4, 3, 8, 6, 9, 2, 1, 1, 4, 9, 5, 8, 5, 0, 6, 0, 0, 4, 2, 3, 6, 7, 4, 1, 1, 4, 1, 6, 0, 8, 6, 1, 5, 2, 2, 5, 7, 4, 6, 9, 6, 1, 9, 0, 8, 9, 4, 4, 8, 1, 3, 3, 4, 8, 9, 5, 4, 5, 6, 4, 9, 4, 7, 0, 1, 2, 0, 1, 8, 0, 6, 6, 1, 7, 3, 7, 9, 0, 9, 6, 9, 7, 3, 0, 2, 1, 7, 7, 0, 2, 1, 1, 6, 6, 7, 0, 2, 1, 8, 5, 5, 4, 8, 6, 1, 4, 0, 2, 4, 0, 1, 8, 4, 1, 0, 8, 2, 7, 4, 3, 3, 3, 1, 0, 0, 0, 6, 0, 4, 7, 9, 3, 7, 9, 9, 5, 7, 1, 3, 0, 3, 1, 7, 2, 7, 3, 9, 3, 7, 1, 4, 9, 3, 1, 5, 3, 8, 4, 1, 0, 9, 7, 3, 2, 3, 7, 7, 1, 7, 9, 5, 4, 7, 2, 2, 5, 6, 4, 0, 4, 8, 1, 5, 9, 9, 0, 1, 2, 2, 5, 8, 3, 4, 0, 0, 4, 2, 3, 1, 0, 8, 4, 9, 4, 0, 9, 2, 8, 5, 0, 4, 9, 1, 0, 2, 1, 7, 3, 1, 6, 4, 7, 8, 7, 8, 5, 2, 4, 7, 7, 2, 2, 8, 4, 1, 7, 5, 3, 8, 1, 6, 5, 1, 4, 8, 1, 2, 6, 1, 8, 2, 5, 9, 2, 2, 4, 0, 2, 0, 2, 9, 4, 4, 4, 7, 7, 5, 8, 9, 1, 5, 0, 6, 5, 1, 0, 0, 4, 4, 9, 2, 5, 6, 2, 9, 1, 9, 1, 8, 3, 0, 6, 4, 9, 3, 1, 4, 5, 1, 2, 2, 1, 2, 0, 5, 0, 7, 8, 8, 8, 7, 2, 2, 6, 4, 8, 7, 0, 0, 4, 9, 5, 1, 5, 3, 2, 4, 2, 2, 9, 5, 8, 2, 0, 0, 9, 5, 3, 1, 5, 0, 8, 3, 2, 2, 2, 4, 6, 3, 2, 6, 6, 0, 7, 5, 2, 0, 2, 9, 4, 5, 0, 0, 9, 4, 9, 4, 7, 9, 5, 9, 2, 1, 6, 1, 5, 7, 4, 1, 1, 5, 9, 3, 4, 9, 0, 9, 0, 4, 9, 3, 2, 3, 0, 4, 7, 5, 1, 5, 6, 1, 7, 0, 3, 6, 1, 4, 0, 3, 5, 3, 1, 2, 9, 5, 8, 1, 9, 7, 0, 6, 3, 1, 8, 8, 7, 2, 1, 5, 5, 0, 3, 6, 0, 1, 3, 4, 4, 9, 7, 0, 4, 4, 1, 2, 0, 3, 1, 6, 8, 1, 4, 0, 7, 2, 8, 8, 8, 8, 1, 9, 4, 0, 6, 0, 5, 5, 7, 3, 8, 3, 7, 1, 6, 8, 9, 5, 5, 0, 4, 7, 7, 8, 4, 0, 6, 3, 5, 2, 6, 0, 0, 9, 7, 9, 2, 4, 5, 0, 6, 4, 1, 2, 9, 8, 9, 7, 8, 8, 9, 1, 7, 7, 6, 7, 3, 3, 7, 0, 3, 8, 8, 6, 2, 5, 7, 4, 7, 3, 4, 1, 2, 8, 1, 4, 8, 2, 2, 5, 7, 8, 2, 6, 7, 4, 0, 3, 2, 1, 4, 3, 5, 9, 0, 7, 1, 1, 3, 9, 8, 9, 1, 7, 9, 5, 3, 0, 6, 6, 6, 2, 2, 9, 5, 2, 4, 6, 5, 3, 9, 8, 5, 1, 7, 5, 6, 8, 5, 9, 6, 8, 3, 0, 5, 8, 2, 8, 9, 2, 9, 6, 0, 5, 3, 6, 3, 8, 2, 0, 9, 9, 0, 3, 2, 4, 7, 8, 2, 7, 5, 5, 2, 6, 0, 9, 7, 6, 2, 1, 8, 4, 4, 7, 7, 8, 9, 6, 5, 8, 9, 7, 9, 4, 0, 3, 2, 6, 3, 1, 4, 9, 5, 4, 4, 1, 9, 2, 0, 6, 8, 1, 9, 7, 4, 7, 9, 5, 3, 8, 0, 2, 3, 4, 4, 2, 4, 8, 0, 5, 8, 1, 2, 5, 3, 1, 6, 1, 6, 1, 6, 4, 3, 9, 4, 6, 3, 1, 1, 6, 9, 3, 7, 2, 3, 5, 3, 5, 6, 0, 6, 1, 7, 2, 8, 0, 8, 3, 1, 3, 9, 2, 7, 0, 8, 0, 0, 3, 0, 6, 5, 1, 3, 6, 2, 9, 7, 5, 6, 4, 3, 6, 2, 1, 7, 3, 5, 9, 4, 3, 6, 8, 1, 1, 3, 8, 3, 4, 2, 2, 1, 1, 4, 2, 8, 1, 8, 9, 0, 8, 1, 8, 1, 9, 9, 0, 0, 4, 7, 1, 0, 8, 1, 3, 9, 9, 7, 1, 2, 9, 9, 6, 1, 8, 8, 6, 7, 9, 3, 8, 2, 5, 3, 1, 9, 0, 0, 7, 3, 5, 8, 5, 6, 3, 2, 2, 4, 4, 9, 5, 8, 8, 5, 1, 9, 6, 7, 0, 4, 4, 5, 2, 9, 2, 1, 0, 9, 7, 7, 7, 6, 0, 1, 9, 4, 0, 8, 4, 1, 3, 9, 3, 1, 0, 3, 6, 5, 7, 6, 6, 8, 1, 8, 1, 7, 3, 3, 6, 1, 2, 5, 0, 1, 2, 9, 1, 4, 1, 9, 2, 1, 7, 5, 7, 6, 3, 4, 4, 8, 7, 8, 0, 2, 1, 6, 5, 4, 0, 0, 9, 1, 7, 1, 1, 4, 8, 7, 9, 2, 9, 1, 6, 4, 1, 2, 2, 1, 1, 7, 3, 9, 4, 7, 9, 9, 0, 0, 4, 1, 1, 3, 8, 5, 0, 1, 4, 6, 6, 7, 8, 9, 7, 5, 2, 6, 1, 1, 3, 6, 8, 0, 2, 5, 7, 8, 5, 0, 7, 4, 4, 3, 1, 2, 9, 1, 3, 7, 6, 9, 1, 9, 3, 7, 1, 7, 1, 9, 3, 6, 0, 1, 5, 6, 6, 2, 3, 9, 7, 6, 6, 9, 7, 6, 6, 2, 4, 5, 8, 1, 2, 3, 7, 9, 5, 9, 4, 1, 0, 3, 1, 2, 7, 9, 0, 2, 4, 1, 8, 5, 4, 2, 0, 0, 2, 7, 0, 8, 0, 4, 6, 3, 4, 0, 6, 7, 1, 7, 2, 3, 1, 6, 3, 5, 9, 9, 1, 6, 1, 1, 4, 0, 9, 2, 7, 7, 9, 2, 8, 3, 0, 6, 6, 1, 6, 9, 9, 8, 7, 5, 5, 7, 5, 0, 9, 4, 1, 8, 8, 1, 1, 4, 7, 8, 6, 8, 2, 9, 8, 1, 5, 3, 2, 7, 5, 1, 0, 1, 0, 3, 3, 1, 5, 8, 8, 9, 3, 1, 3, 8, 6, 5, 1, 6, 9, 3, 8, 7, 9, 0, 8, 8, 4, 9, 5, 4, 8, 9, 8, 4, 4, 9, 1, 0, 9, 6, 7, 0, 6, 1, 3, 0, 6, 8, 2, 0, 1, 5, 6, 4, 8, 2, 5, 3, 3, 8, 1, 3, 3, 2, 0, 5, 2, 5, 1, 1, 8, 3, 9, 3, 4, 7, 3, 4, 7, 6, 7, 9, 7, 7, 1, 3, 9, 2, 8, 6, 7, 7, 1, 5, 4, 4, 0, 9, 7, 1, 6, 3, 0, 2, 7, 2, 7, 1, 3, 9, 4, 2, 8, 6, 8, 5, 5, 0, 5, 2, 1, 7, 3, 9, 8, 0, 9, 2, 9, 9, 6, 6, 3, 2, 6, 9, 5, 5, 4, 1, 1, 4, 6, 0, 7, 5, 8, 0, 0, 3, 9, 8, 1, 0, 9, 2, 6, 2, 0, 2, 8, 4, 0, 7, 9, 7, 5, 1, 1, 5, 7, 7, 7, 3, 4, 1, 0, 6, 9, 9, 6, 9, 1, 5, 4, 5, 8, 9, 9, 1, 1, 7, 9, 1, 7, 7, 6, 5, 8, 2, 2, 1, 3, 0, 8, 5, 2, 7, 1, 4, 0, 8, 5, 8, 5, 1, 3, 4, 5, 5, 2, 1, 3, 5, 2, 2, 9, 4, 4, 9, 5, 9, 1, 3, 2, 9, 6, 2, 2, 0, 7, 5, 7, 3, 2, 9, 4, 2, 2, 9, 2, 2, 8, 1, 0, 0, 9, 0, 6, 2, 4, 1, 0, 4, 3, 1, 1, 4, 9, 9, 8, 2, 9, 5, 0, 2, 3, 0, 7, 2, 2, 2, 0, 1, 1, 1, 7, 6, 1, 7, 7, 8, 0, 5, 0, 9, 1, 6, 2, 3, 4, 9, 9, 2, 6, 5, 0, 5, 3, 7, 3, 3, 4, 4, 7, 8, 1, 9, 3, 4, 5, 2, 7, 4, 3, 5, 7, 4, 1, 8, 4, 3, 7, 6, 2, 3, 0, 7, 1, 4, 3, 9, 9, 1, 7, 5, 6, 8, 4, 1, 1, 5, 2, 2, 2, 8, 4, 0, 7, 6, 4, 3, 2, 3, 1, 7, 6, 7, 6, 8, 9, 0, 2, 3, 6, 9, 6, 9, 4, 6, 9, 5, 9, 7, 1, 5, 9, 3, 2, 7, 8, 7, 8, 1, 6, 1, 8, 9, 7, 7, 1, 6, 0, 5, 8, 5, 9, 1, 4, 9, 2, 1, 7, 6, 6, 2, 4, 2, 3, 5, 6, 2, 9, 0, 2, 8, 3, 7, 8, 2, 0, 7, 2, 7, 2, 9, 1, 2, 0, 2, 9, 3, 0, 6, 2, 8, 0, 3, 7, 4, 1, 4, 0, 3, 1, 4, 5, 7, 9, 3, 1, 4, 5, 0, 4, 7, 2, 2, 1, 9, 5, 7, 2, 6, 2, 6, 7, 7, 8, 0, 5, 2, 7, 0, 2, 0, 2, 0, 2, 4, 2, 5, 9, 2, 8, 2, 7, 5, 1, 4, 2, 5, 6, 1, 9, 8, 8, 9, 4, 5, 5, 0, 8, 6, 0, 6, 5, 0, 0, 6, 9, 5, 4, 4, 2, 2, 2, 2, 1, 7, 7, 8, 0, 0, 1, 6, 5, 4, 2, 0, 2, 5, 7, 8, 5, 2, 4, 4, 9, 4, 4, 6, 6, 4, 0, 3, 9, 1, 3, 2, 4, 0, 0, 1, 1, 7, 6, 2, 5, 1, 2, 7, 5, 1, 8, 0, 1, 5, 7, 8, 5, 9, 1, 2, 7, 7, 0, 0, 1, 7, 3, 0, 3, 1, 4, 1, 3, 8, 3, 7, 3, 9, 1, 7, 7, 1, 2, 6, 5, 8, 0, 3, 2, 0, 6, 5, 4, 6, 7, 0, 3, 4, 6, 3, 5, 2, 7, 7, 5, 5, 4, 9, 0, 3, 1, 5, 3, 1, 2, 0, 2, 4, 8, 9, 4, 2, 9, 2, 5, 9, 5, 3, 4, 2, 6, 6, 5, 2, 9, 9, 7, 7, 7, 7, 4, 4, 8, 8, 7, 6, 1, 4, 4, 9, 0, 9, 6, 7, 0, 9, 4, 1, 9, 6, 7, 5, 7, 6, 0, 6, 9, 9, 9, 4, 2, 5, 5, 3, 0, 3, 6, 1, 8, 4, 6, 2, 7, 2, 7, 9, 9, 3, 4, 7, 1, 7, 6, 6, 1, 5, 0, 1, 3, 0, 1, 3, 2, 6, 5, 3, 4, 3, 9, 9, 3, 3, 0, 7, 5, 9, 6, 6, 4, 6, 9, 7, 3, 6, 1, 6, 8, 6, 7, 7, 1, 6, 0, 4, 2, 8, 5, 8, 9, 1, 9, 2, 3, 3, 7, 4, 1, 5, 7, 1, 8, 8, 5, 6, 7, 6, 0, 7, 6, 3, 1, 0, 7, 9, 5, 7, 8, 1, 0, 9, 9, 9, 0, 0, 7, 7, 4, 4, 7, 1, 5, 7, 1, 3, 3, 0, 0, 9, 1, 7, 0, 2, 0, 1, 5, 0, 3, 7, 9, 2, 4, 4, 9, 8, 2, 0, 4, 3, 6, 1, 9, 4, 8, 9, 6, 8, 9, 4, 9, 8, 8, 9, 2, 3, 8, 6, 5, 4, 5, 0, 1, 9, 0, 5, 8, 1, 1, 5, 4, 8, 2, 5, 9, 5, 1, 1, 8, 8, 0, 8, 4, 1, 9, 3, 2, 0, 2, 4, 4, 0, 6, 0, 1, 9, 9, 9, 4, 1, 4, 9, 1, 6, 5, 1, 3, 3, 1, 7, 4, 6, 3, 9, 5, 7, 7, 5, 4, 8, 5, 5, 2, 4, 8, 8, 3, 1, 1, 3, 2, 9, 0, 4, 9, 4, 9, 0, 5, 3, 1, 4, 2, 0, 4, 1, 0, 7, 1, 9, 4, 8, 1, 4, 7, 8, 8, 1, 5, 4, 3, 0, 5, 9, 5, 9, 5, 0, 9, 5, 1, 7, 8, 8, 7, 2, 1, 9, 9, 6, 3, 8, 8, 7, 9, 7, 6, 3, 3, 5, 3, 2, 0, 1, 8, 1, 1, 9, 1, 3, 0, 6, 2, 0, 0, 6, 9, 0, 1, 7, 3, 2, 6, 9, 7, 7, 7, 2, 2, 8, 1, 0, 9, 0, 2, 0, 7, 3, 7, 4, 5, 7, 5, 1, 1, 6, 5, 4, 7, 2, 6, 1, 0, 8, 2, 9, 8, 4, 5, 2, 6, 2, 1, 1, 3, 1, 1, 6, 3, 8, 3, 6, 7, 6, 0, 9, 5, 2, 9, 6, 0, 5, 8, 0, 1, 0, 8, 7, 2, 9, 6, 9, 0, 2, 4, 1, 2, 0, 1, 4, 7, 6, 6, 9, 1, 7, 0, 7, 1, 1, 8, 8, 5, 2, 9, 1, 3, 0, 0, 7, 5, 9, 0, 3, 2, 6, 7, 5, 3, 2, 1, 9, 4, 6, 5, 9, 1, 8, 8, 8, 1, 8, 8, 3, 4, 3, 5, 6, 2, 1, 8, 6, 4, 6, 3, 6, 8, 1, 5, 0, 5, 0, 0, 9, 8, 1, 9, 0, 8, 8, 4, 2, 8, 4, 3, 1, 4, 2, 3, 4, 5, 0, 0, 3, 0, 6, 6, 1, 9, 1, 4, 9, 8, 2, 0, 4, 1, 5, 6, 4, 9, 4, 1, 0, 4, 1, 7, 0, 7, 3, 6, 7, 9, 6, 2, 6, 8, 5, 0, 8, 3, 1, 0, 2, 2, 5, 5, 1, 3, 1, 9, 1, 6, 9, 9, 9, 3, 2, 0, 7, 3, 1, 6, 2, 3, 0, 5, 1, 6, 7, 9, 3, 9, 5, 5, 5, 4, 3, 9, 4, 0, 3, 7, 8, 5, 3, 1, 5, 0, 7, 9, 0, 4, 0, 0, 4, 8, 5, 1, 0, 9, 0, 0, 7, 4, 5, 8, 6, 9, 4, 7, 7, 1, 6, 8, 3, 4, 7, 6, 3, 0, 1, 9, 6, 5, 3, 9, 2, 3, 0, 1, 2, 8, 9, 8, 3, 9, 3, 3, 8, 9, 2, 7, 9, 2, 9, 7, 5, 2, 4, 8, 5, 7, 4, 5, 9, 4, 7, 5, 6, 0, 3, 6, 5, 0, 4, 8, 3, 9, 2, 7, 0, 7, 7, 2, 9, 3, 2, 0, 6, 2, 4, 0, 1, 4, 0, 6, 7, 0, 0, 5, 5, 2, 1, 3, 7, 1, 2, 6, 3, 8, 7, 0, 2, 9, 5, 4, 4, 8, 2, 8, 0, 0, 7, 7, 3, 3, 5, 8, 2, 7, 8, 9, 5, 1, 1, 3, 6, 1, 2, 7, 5, 4, 2, 1, 3, 7, 3, 7, 5, 6, 9, 7, 4, 9, 0, 8, 8, 6, 7, 1, 5, 7, 4, 9, 0, 9, 9, 6, 1, 7, 2, 4, 3, 3, 9, 7, 3, 6, 0, 0, 1, 3, 0, 5, 2, 8, 9, 7, 5, 2, 5, 8, 0, 9, 7, 6, 7, 6, 2, 3, 3, 7, 7, 3, 2, 0, 3, 4, 6, 8, 2, 3, 1, 1, 6, 9, 2, 1, 8, 1, 8, 3, 0, 6, 3, 2, 4, 3, 9, 2, 0, 9, 5, 9, 5, 2, 7, 5, 8, 0, 3, 1, 9, 1, 0, 1, 9, 5, 9, 2, 2, 2, 1, 5, 9, 2, 2, 6, 8, 3, 9, 1, 9, 1, 0, 3, 2, 9, 7, 4, 4, 2, 2, 6, 1, 1, 9, 1, 5, 2, 8, 3, 0, 5, 6, 8, 3, 6, 2, 7, 9, 0, 8, 5, 7, 4, 6, 9, 8, 3, 7, 5, 2, 7, 6, 6, 7, 7, 8, 6, 2, 3, 8, 9, 8, 6, 7, 3, 5, 2, 8, 8, 8, 0, 6, 6, 2, 0, 0, 1, 0, 6, 3, 4, 2, 0, 6, 2, 0, 9, 8, 1, 6, 7, 5, 1, 9, 1, 8, 9, 0, 8, 1, 2, 4, 8, 5, 1, 5, 3, 6, 1, 4, 2, 6, 7, 5, 5, 4, 2, 7, 5, 5, 2, 4, 3, 1, 9, 5, 6, 1, 7, 1, 3, 4, 6, 7, 9, 7, 1, 3, 0, 1, 8, 5, 2, 1, 1, 9, 4, 9, 3, 4, 1, 5, 3, 0, 1, 0, 6, 7, 3, 7, 5, 0, 7, 7, 7, 7, 1, 4, 4, 6, 9, 9, 5, 7, 1, 8, 8, 9, 4, 1, 6, 7, 3, 4, 4, 8, 3, 2, 7, 4, 9, 1, 9, 0, 4, 8, 6, 3, 5, 3, 7, 1, 5, 7, 9, 7, 0, 3, 1, 7, 2, 7, 0, 1, 5, 2, 6, 7, 5, 7, 9, 6, 7, 2, 8, 2, 9, 6, 6, 7, 9, 7, 8, 2, 4, 9, 5, 4, 4, 9, 6, 7, 1, 8, 6, 0, 3, 2, 7, 5, 9, 5, 2, 3, 5, 5, 7, 9, 7, 9, 2, 2, 8, 5, 2, 9, 5, 0, 1, 1, 8, 0, 8, 5, 6, 3, 0, 8, 4, 9, 6, 4, 1, 0, 9, 3, 3, 4, 2, 8, 1, 1, 6, 5, 1, 2, 7, 8, 6, 2, 8, 7, 8, 9, 7, 7, 0, 2, 3, 0, 8, 9, 8, 4, 4, 3, 9, 7, 7, 9, 3, 3, 3, 3, 8, 0, 6, 2, 7, 7, 2, 5, 2, 7, 8, 0, 3, 3, 4, 4, 3, 2, 5, 2, 0, 9, 7, 2, 6, 1, 0, 4, 5, 3, 2, 7, 4, 4, 4, 6, 4, 7, 9, 2, 1, 8, 8, 3, 5, 2, 9, 1, 2, 7, 1, 4, 4, 6, 5, 7, 2, 6, 4, 9, 1, 6, 9, 0, 9, 8, 1, 1, 0, 0, 9, 6, 1, 1, 4, 0, 7, 3, 2, 1, 0, 3, 2, 3, 9, 7, 4, 0, 7, 5, 5, 4, 1, 4, 8, 7, 0, 0, 3, 1, 0, 6, 1, 1, 7, 7, 6, 8, 0, 5, 5, 9, 2, 2, 5, 9, 8, 5, 2, 9, 8, 6, 7, 1, 0, 7, 8, 5, 1, 9, 1, 3, 1, 8, 2, 5, 3, 4, 7, 3, 4, 6, 7, 0, 5, 6, 8, 3, 3, 4, 6, 3, 1, 3, 7, 1, 8, 1, 1, 9, 4, 1, 3, 6, 1, 2, 1, 5, 2, 7, 2, 6, 1, 8, 9, 4, 4, 1, 6, 6, 7, 4, 0, 2, 3, 3, 1, 7, 6, 0, 7, 8, 7, 8, 2, 3, 2, 6, 7, 2, 9, 8, 7, 6, 1, 6, 0, 3, 5, 4, 4, 9, 4, 7, 1, 5, 9, 9, 2, 6, 9, 1, 1, 9, 9, 4, 2, 7, 9, 2, 7, 2, 7, 8, 8, 6, 3, 6, 7, 6, 2, 1, 9, 8, 1, 2, 0, 8, 5, 9, 5, 9, 5, 1, 5, 1, 7, 3, 8, 4, 8, 5, 6, 9, 7, 7, 3, 1, 1, 8, 9, 1, 0, 3, 8, 4, 0, 0, 7, 4, 5, 3, 7, 9, 2, 1, 2, 2, 3, 4, 4, 7, 1, 7, 3, 3, 7, 7, 2, 9, 2, 4, 2, 0, 9, 5, 8, 2, 1, 3, 9, 5, 2, 0, 2, 4, 0, 9, 6, 5, 9, 1, 1, 9, 5, 0, 4, 5, 9, 5, 2, 0, 8, 6, 1, 9, 8, 2, 9, 5, 8, 0, 6, 0, 9, 9, 9, 7, 3, 4, 7, 8, 1, 4, 6, 7, 7, 0, 3, 1, 8, 4, 3, 2, 9, 6, 6, 7, 6, 4, 9, 4, 9, 8, 1, 3, 7, 7, 1, 8, 6, 9, 0, 7, 0, 3, 4, 0, 2, 0, 2, 7, 2, 8, 0, 9, 1, 4, 2, 0, 5, 1, 0, 6, 3, 5, 7, 9, 6, 6, 5, 1, 0, 3, 6, 4, 4, 4, 7, 9, 5, 3, 7, 7, 8, 4, 0, 4, 9, 6, 3, 9, 6, 6, 0, 9, 9, 4, 1, 9, 2, 8, 4, 5, 1, 3, 8, 1, 5, 6, 2, 2, 3, 6, 9, 4, 1, 2, 1, 6, 6, 5, 3, 0, 1, 7, 1, 4, 1, 9, 0, 7, 4, 8, 1, 4, 7, 7, 7, 3, 2, 5, 7, 6, 0, 3, 4, 7, 7, 9, 4, 2, 5, 0, 6, 7, 6, 0, 7, 4, 9, 0, 2, 9, 3, 2, 4, 8, 2, 1, 0, 7, 3, 3, 8, 1, 4, 0, 2, 7, 8, 6, 8, 1, 3, 1, 9, 1, 3, 9, 2, 6, 6, 1, 1, 7, 9, 6, 4, 6, 4, 0, 4, 6, 0, 5, 2, 7, 1, 3, 7, 3, 2, 4, 2, 6, 8, 8, 3, 4, 5, 3, 1, 6, 4, 5, 0, 6, 5, 1, 7, 8, 5, 1, 1, 8, 4, 8, 1, 9, 6, 9, 1, 5, 2, 4, 3, 8, 0, 8, 1, 9, 6, 9, 7, 9, 8, 2, 3, 2, 5, 5, 9, 1, 4, 8, 9, 4, 7, 9, 6, 3, 9, 7, 8, 2, 8, 1, 7, 1, 0, 4, 8, 8, 1, 4, 7, 0, 8, 4, 0, 5, 8, 6, 2, 7, 7, 5, 5, 6, 1, 6, 8, 0, 0, 3, 6, 1, 6, 0, 7, 2, 9, 1, 6, 9, 7, 5, 4, 3, 8, 4, 2, 2, 8, 6, 2, 8, 8, 1, 5, 4, 9, 1, 0, 2, 2, 0, 6, 1, 3, 4, 9, 0, 8, 0, 8, 7, 4, 4, 7, 9, 1, 7, 9, 8, 8, 7, 9, 8, 1, 2, 7, 4, 5, 3, 0, 5, 7, 4, 3, 1, 3, 0, 9, 8, 9, 6, 9, 1, 0, 6, 0, 1, 1, 0, 3, 4, 2, 2, 1, 9, 1, 1, 6, 4, 2, 1, 0, 7, 9, 1, 1, 4, 8, 4, 3, 7, 1, 7, 9, 9, 0, 1, 9, 1, 6, 0, 1, 4, 7, 8, 0, 2, 9, 3, 8, 1, 1, 2, 6, 7, 7, 0, 4, 5, 2, 1, 3, 1, 2, 1, 3, 9, 0, 8, 1, 4, 0, 8, 6, 0, 8, 2, 0, 0, 5, 4, 4, 6, 1, 1, 4, 5, 5, 9, 8, 7, 6, 8, 5, 2, 0, 3, 8, 8, 2, 0, 2, 4, 7, 2, 4, 2, 7, 8, 3, 7, 2, 8, 0, 5, 8, 7, 9, 7, 0, 9, 4, 2, 0, 7, 6, 3, 5, 1, 7, 7, 8, 2, 4, 6, 2, 2, 9, 3, 2, 9, 1, 5, 9, 8, 5, 9, 7, 6, 1, 7, 6, 3, 0, 4, 3, 8, 4, 7, 3, 6, 1, 3, 0, 5, 1, 6, 3, 9, 0, 1, 2, 0, 6, 7, 2, 0, 1, 2, 2, 2, 7, 6, 4, 0, 3, 7, 4, 2, 1, 1, 2, 9, 0, 0, 7, 3, 3, 2, 1, 7, 9, 0, 5, 1, 2, 6, 7, 4, 2, 2, 6, 1, 1, 4, 4, 1, 4, 3, 4, 8, 1, 7, 5, 7, 0, 8, 6, 1, 3, 0, 7, 3, 9, 1, 1, 7, 6, 9, 4, 3, 6, 0, 6, 2, 9, 2, 6, 1, 9, 1, 7, 0, 7, 3, 5, 3, 0, 7, 9, 8, 2, 6, 3, 9, 1, 4, 1, 2, 6, 6, 4, 1, 7, 1, 4, 8, 0, 9, 8, 9, 7, 4, 1, 5, 0, 2, 1, 8, 7, 3, 2, 6, 4, 8, 3, 1, 6, 9, 8, 2, 7, 0, 1, 9, 3, 7, 7, 7, 9, 9, 5, 2, 3, 6, 6, 0, 2, 9, 3, 7, 2, 1, 3, 8, 6, 7, 2, 0, 1, 8, 2, 3, 1, 9, 3, 6, 8, 8, 1, 1, 3, 1, 7, 9, 4, 1, 8, 1, 6, 6, 4, 1, 2, 6, 9, 3, 3, 1, 0, 5, 2, 8, 3, 5, 2, 4, 8, 6, 1, 1, 5, 5, 8, 7, 4, 7, 2, 0, 9, 7, 8, 1, 7, 9, 2, 1, 2, 1, 6, 4, 3, 1, 6, 9, 2, 2, 0, 1, 1, 0, 4, 6, 4, 8, 0, 9, 1, 4, 0, 2, 8, 5, 7, 2, 7, 3, 1, 8, 5, 2, 4, 8, 0, 4, 1, 6, 4, 8, 2, 6, 2, 4, 7, 9, 4, 7, 6, 8, 0, 2, 4, 8, 3, 1, 0, 8, 9, 5, 4, 0, 3, 8, 3, 4, 4, 6, 8, 6, 4, 0, 2, 6, 9, 8, 0, 3, 4, 3, 0, 8, 9, 1, 7, 1, 3, 0, 8, 4, 7, 0, 2, 6, 1, 3, 6, 0, 4, 6, 6, 7, 6, 4, 0, 9, 9, 0, 2, 8, 9, 3, 6, 1, 6, 2, 3, 7, 5, 8, 8, 3, 3, 0, 9, 6, 2, 7, 0, 9, 9, 1, 2, 6, 6, 1, 4, 8, 8, 9, 8, 9, 7, 1, 9, 2, 7, 9, 8, 8, 0, 1, 0, 0, 2, 4, 4, 9, 1, 0, 1, 6, 2, 5, 6, 8, 7, 6, 8, 0, 4, 7, 6, 7, 1, 5, 4, 7, 2, 7, 7, 4, 2, 3, 4, 4, 8, 0, 6, 6, 9, 4, 6, 2, 4, 0, 8, 1, 6, 9, 6, 5, 6, 2, 7, 6, 9, 6, 7, 3, 6, 2, 3, 7, 7, 8, 4, 4, 6, 1, 6, 0, 1, 8, 3, 1, 1, 7, 9, 3, 6, 8, 5, 2, 9, 1, 4, 1, 4, 5, 9, 6, 6, 5, 1, 3, 1, 1, 4, 2, 1, 5, 5, 0, 7, 3, 9, 2, 8, 0, 4, 8, 6, 7, 4, 6, 0, 7, 2, 8, 4, 3, 8, 1, 3, 9, 1, 0, 9, 5, 8, 0, 7, 1, 4, 7, 8, 7, 8, 3, 5, 0, 4, 4, 5, 3, 4, 9, 7, 1, 3, 5, 2, 5, 7, 0, 1, 2, 7, 9, 5, 8, 1, 1, 1, 0, 1, 6, 5, 1, 7, 5, 1, 5, 7, 5, 0, 9, 5, 7, 4, 2, 7, 3, 1, 8, 6, 3, 6, 5, 1, 6, 9, 7, 6, 2, 3, 1, 7, 9, 9, 5, 2, 2, 4, 0, 7, 6, 6, 1, 1, 1, 8, 7, 1, 7, 2, 7, 9, 2, 2, 4, 0, 0, 1, 2, 4, 9, 2, 7, 4, 2, 9, 8, 2, 4, 3, 4, 8, 8, 3, 4, 3, 3, 7, 6, 8, 5, 2, 9, 9, 1, 1, 3, 3, 0, 6, 4, 3, 8, 5, 0, 3, 9, 1, 1, 6, 4, 2, 9, 2, 3, 6, 4, 1, 9, 0, 3, 8, 5, 1, 5, 4, 3, 8, 1, 5, 0, 8, 3, 2, 9, 0, 9, 0, 9, 0, 0, 5, 4, 3, 1, 7, 7, 4, 0, 2, 6, 2, 4, 0, 1, 3, 0, 7, 8, 9, 9, 7, 1, 5, 2, 4, 8, 7, 1, 1, 6, 2, 3, 2, 8, 8, 9, 5, 9, 4, 4, 6, 2, 9, 7, 9, 5, 0, 6, 3, 0, 1, 5, 4, 8, 9, 9, 9, 4, 5, 3, 7, 3, 9, 7, 5, 0, 4, 4, 2, 9, 0, 8, 2, 7, 2, 2, 1, 7, 6, 3, 6, 9, 7, 2, 3, 4, 6, 6, 4, 5, 8, 1, 4, 4, 1, 3, 0, 6, 7, 6, 1, 1, 2, 6, 9, 8, 6, 9, 1, 0, 7, 5, 1, 9, 3, 1, 3, 8, 0, 8, 7, 2, 6, 2, 7, 8, 0, 1, 2, 4, 8, 2, 7, 0, 0, 3, 4, 7, 2, 9, 3, 8, 5, 3, 7, 9, 3, 3, 2, 5, 0, 1, 3, 5, 2, 8, 9, 4, 9, 2, 4, 1, 4, 1, 4, 6, 0, 8, 4, 9, 1, 6, 4, 9, 0, 1, 4, 7, 9, 3, 9, 9, 4, 4, 5, 6, 0, 0, 7, 7, 0, 6, 8, 1, 9, 8, 1, 4, 7, 4, 2, 9, 1, 5, 4, 7, 6, 9, 4, 2, 3, 9, 7, 1, 0, 5, 5, 1, 3, 7, 4, 1, 5, 8, 5, 6, 5, 0, 0, 8, 2, 9, 0, 5, 4, 6, 7, 4, 6, 9, 6, 4, 7, 8, 8, 0, 5, 2, 4, 6, 0, 6, 6, 5, 0, 5, 1, 5, 7, 7, 3, 7, 0, 3, 0, 3, 5, 3, 8, 7, 6, 0, 9, 3, 5, 0, 2, 7, 6, 6, 4, 7, 8, 7, 1, 1, 2, 9, 6, 1, 0, 2, 2, 8, 1, 3, 5, 2, 5, 9, 8, 8, 6, 6, 1, 0, 1, 6, 9, 5, 2, 7, 2, 3, 4, 1, 0, 9, 4, 0, 7, 2, 1, 0, 9, 5, 6, 8, 0, 3, 5, 7, 5, 5, 8, 7, 2, 3, 6, 1, 1, 9, 5, 3, 1, 3, 3, 6, 8, 3, 5, 0, 7, 1, 5, 8, 5, 6, 6, 1, 3, 2, 8, 1, 1, 9, 8, 5, 9, 5, 5, 1, 7, 1, 1, 6, 5, 7, 2, 3, 3, 5, 7, 3, 9, 2, 3, 5, 1, 6, 8, 7, 7, 0, 3, 6, 7, 1, 9, 6, 3, 7, 0, 6, 9, 4, 2, 1, 1, 2, 9, 8, 3, 2, 0, 2, 3, 7, 6, 9, 6, 6, 6, 4, 6, 1, 0, 2, 3, 0, 4, 7, 6, 8, 8, 7, 2, 6, 3, 2, 2, 4, 7, 0, 0, 1, 0, 0, 0, 3, 8, 1, 8, 0, 1, 9, 3, 0, 9, 5, 5, 5, 5, 1, 3, 8, 7, 3, 2, 0, 6, 6, 6, 7, 4, 1, 7, 5, 2, 1, 4, 7, 2, 4, 0, 6, 4, 4, 5, 1, 5, 8, 8, 7, 7, 9, 1, 5, 4, 6, 7, 2, 7, 1, 5, 9, 9, 7, 8, 2, 1, 8, 6, 6, 1, 4, 1, 0, 0, 2, 1, 2, 8, 9, 3, 2, 9, 5, 7, 0, 8, 0, 0, 0, 7, 3, 5, 4, 1, 4, 0, 2, 0, 0, 2, 2, 8, 3, 5, 6, 8, 7, 2, 4, 3, 9, 6, 4, 9, 5, 6, 1, 2, 3, 1, 1, 2, 2, 3, 2, 7, 0, 6, 9, 0, 1, 0, 8, 8, 6, 4, 2, 0, 9, 9, 6, 1, 6, 7, 9, 0, 1, 3, 1, 2, 7, 8, 9, 2, 9, 1, 0, 7, 6, 5, 0, 5, 3, 5, 5, 8, 7, 3, 3, 2, 3, 3, 6, 6, 3, 1, 1, 4, 6, 8, 5, 3, 9, 5, 4, 1, 6, 7, 0, 2, 0, 8, 1, 7, 5, 2, 8, 3, 3, 1, 1, 3, 2, 0, 8, 1, 6, 8, 7, 0, 3, 0, 4, 2, 4, 8, 1, 8, 2, 3, 6, 5, 8, 3, 7, 0, 1, 9, 8, 0, 8, 0, 5, 6, 1, 4, 8, 7, 1, 3, 4, 0, 2, 6, 3, 0, 3, 8, 4, 5, 8, 1, 2, 0, 4, 9, 3, 3, 3, 7, 3, 5, 3, 1, 6, 0, 5, 9, 5, 1, 5, 5, 6, 9, 7, 0, 1, 1, 6, 8, 5, 9, 0, 6, 5, 0, 8, 2, 1, 3, 0, 5, 6, 5, 6, 1, 8, 0, 0, 5, 9, 7, 4, 5, 2, 2, 9, 4, 8, 8, 3, 4, 7, 4, 8, 5, 3, 7, 9, 1, 6, 7, 2, 0, 1, 2, 2, 3, 5, 6, 1, 7, 7, 9, 3, 4, 2, 8, 0, 6, 8, 9, 8, 7, 8, 7, 8, 7, 1, 0, 9, 6, 3, 7, 5, 7, 2, 5, 5, 6, 6, 4, 8, 5, 7, 6, 6, 2, 6, 4, 1, 4, 5, 6, 2, 1, 6, 6, 1, 5, 8, 0, 2, 4, 6, 4, 6, 3, 1, 1, 6, 6, 9, 3, 9, 2, 6, 5, 9, 5, 7, 5, 3, 9, 6, 6, 8, 6, 5, 9, 6, 0, 6, 2, 4, 6, 2, 2, 3, 4, 6, 0, 7, 5, 3, 0, 5, 1, 3, 1, 8, 8, 9, 8, 6, 1, 1, 2, 3, 8, 8, 7, 1, 4, 1, 0, 0, 5, 5, 7, 9, 9, 2, 1, 6, 4, 4, 9, 1, 3, 8, 4, 0, 4, 5, 0, 4, 1, 6, 8, 4, 1, 5, 9, 1, 7, 5, 8, 2, 3, 5, 9, 8, 9, 2, 4, 6, 1, 9, 9, 0, 1, 4, 1, 7, 1, 5, 1, 1, 4, 5, 6, 7, 3, 5, 2, 0, 1, 7, 1, 6, 8, 6, 7, 7, 3, 8, 8, 7, 7, 1, 3, 2, 0, 5, 0, 4, 7, 9, 6, 4, 7, 8, 9, 4, 1, 7, 1, 4, 0, 5, 3, 6, 6, 0, 6, 8, 1, 1, 9, 8, 2, 0, 3, 7, 0, 7, 6, 1, 6, 6, 1, 2, 1, 0, 1, 3, 0, 5, 8, 2, 7, 6, 2, 1, 4, 0, 8, 1, 3, 1, 6, 1, 9, 6, 2, 8, 0, 2, 0, 0, 6, 3, 4, 8, 4, 0, 0, 1, 4, 0, 2, 8, 4, 0, 5, 6, 6, 8, 7, 2, 4, 4, 7, 2, 1, 5, 2, 6, 6, 3, 8, 8, 1, 8, 1, 5, 5, 0, 1, 9, 9, 9, 5, 3, 9, 9, 9, 8, 2, 3, 4, 8, 5, 4, 0, 7, 2, 1, 4, 4, 7, 2, 9, 7, 4, 5, 5, 4, 0, 2, 2, 6, 5, 5, 3, 7, 6, 1, 2, 8, 2, 0, 8, 9, 9, 6, 5, 4, 9, 6, 5, 1, 6, 2, 7, 9, 7, 6, 4, 1, 6, 3, 9, 2, 6, 1, 8, 8, 4, 0, 6, 9, 5, 9, 5, 6, 3, 3, 2, 0, 4, 2, 9, 4, 1, 3, 4, 7, 4, 5, 9, 4, 7, 7, 8, 6, 4, 9, 0, 0, 0, 7, 7, 0, 7, 0, 6, 0, 0, 0, 1, 5, 4, 6, 8, 6, 5, 4, 9, 1, 3, 1, 0, 2, 6, 5, 4, 2, 1, 9, 6, 7, 7, 8, 3, 8, 4, 4, 9, 3, 0, 7, 1, 1, 0, 5, 6, 8, 1, 0, 3, 2, 1, 2, 9, 9, 5, 1, 7, 5, 7, 7, 2, 7, 6, 6, 5, 3, 8, 1, 1, 1, 3, 4, 6, 6, 1, 5, 7, 4, 6, 8, 1, 7, 1, 5, 9, 0, 6, 3, 1, 2, 8, 3, 9, 8, 3, 9, 7, 2, 8, 4, 3, 9, 1, 1, 3, 1, 7, 5, 0, 2, 4, 5, 8, 4, 2, 8, 2, 5, 2, 3, 5, 7, 6, 8, 8, 5, 8, 1, 9, 9, 8, 7, 1, 9, 7, 8, 6, 6, 2, 1, 7, 3, 1, 5, 1, 6, 2, 0, 2, 0, 0, 2, 3, 4, 9, 0, 8, 6, 5, 8, 5, 0, 2, 7, 4, 4, 2, 1, 3, 4, 4, 5, 3, 8, 0, 1, 2, 0, 1, 8, 7, 0, 4, 3, 2, 8, 2, 3, 0, 3, 9, 3, 0, 3, 4, 9, 8, 7, 8, 4, 7, 9, 7, 6, 9, 6, 4, 7, 6, 1, 1, 6, 2, 7, 9, 5, 3, 1, 9, 0, 2, 9, 9, 7, 6, 7, 3, 7, 1, 4, 7, 7, 6, 1, 0, 5, 0, 7, 5, 4, 0, 8, 9, 2, 0, 0, 9, 0, 8, 0, 6, 2, 4, 7, 5, 3, 8, 0, 1, 4, 7, 4, 4, 5, 6, 9, 4, 9, 6, 3, 4, 9, 1, 1, 9, 1, 5, 4, 1, 8, 5, 2, 6, 3, 4, 6, 0, 6, 4, 4, 3, 3, 4, 4, 2, 8, 4, 0, 6, 8, 2, 7, 9, 6, 5, 4, 9, 3, 2, 5, 1, 3, 0, 9, 3, 0, 6, 2, 1, 6, 6, 2, 6, 5, 8, 7, 2, 4, 1, 9, 9, 7, 0, 6, 8, 3, 9, 0, 4, 4, 3, 8, 0, 0, 6, 7, 1, 1, 4, 9, 9, 8, 4, 8, 1, 0, 2, 5, 7, 4, 7, 6, 2, 7, 8, 2, 1, 3, 6, 8, 9, 6, 4, 5, 1, 2, 3, 1, 7, 6, 7, 9, 5, 3, 2, 9, 4, 3, 2, 8, 8, 0, 2, 7, 4, 6, 3, 3, 2, 3, 3, 0, 9, 4, 8, 5, 6, 6, 3, 8, 7, 1, 4, 0, 8, 5, 1, 0, 7, 1, 4, 2, 5, 4, 3, 6, 2, 3, 6, 5, 3, 2, 1, 3, 1, 9, 9, 4, 6, 9, 8, 0, 9, 2, 0, 3, 5, 9, 5, 9, 0, 2, 9, 4, 9, 3, 4, 8, 9, 3, 4, 0, 5, 1, 9, 1, 5, 2, 1, 2, 3, 9, 6, 2, 4, 6, 6, 0, 9, 1, 3, 7, 7, 4, 6, 8, 2, 1, 8, 3, 1, 2, 6, 2, 1, 0, 0, 6, 2, 5, 4, 6, 2, 8, 9, 8, 8, 7, 0, 6, 2, 9, 1, 1, 1, 6, 4, 2, 7, 8, 0, 5, 2, 0, 6, 2, 3, 8, 4, 0, 7, 1, 9, 6, 4, 0, 2, 3, 8, 7, 8, 6, 7, 1, 0, 3, 0, 9, 2, 0, 2, 8, 0, 5, 0, 3, 6, 1, 4, 9, 1, 5, 2, 3, 0, 7, 2, 9, 2, 6, 7, 9, 4, 3, 7, 3, 0, 4, 9, 6, 9, 9, 4, 5, 3, 3, 4, 1, 8, 8, 1, 4, 8, 7, 4, 3, 5, 4, 8, 6, 4, 3, 4, 8, 5, 6, 1, 1, 5, 3, 8, 7, 9, 3, 0, 0, 5, 3, 9, 8, 9, 3, 2, 7, 1, 0, 7, 1, 1, 7, 7, 0, 0, 5, 1, 8, 7, 7, 4, 2, 4, 7, 5, 0, 8, 9, 7, 9, 5, 0, 7, 0, 7, 7, 8, 3, 3, 4, 5, 1, 6, 9, 7, 1, 2, 2, 9, 6, 6, 1, 4, 2, 0, 5, 8, 1, 6, 5, 6, 5, 7, 7, 2, 7, 6, 9, 5, 3, 1, 1, 6, 4, 3, 6, 1, 4, 8, 4, 1, 6, 1, 9, 7, 7, 7, 1, 7, 9, 3, 7, 4, 6, 7, 7, 3, 7, 6, 2, 8, 8, 9, 3, 3, 4, 3, 6, 1, 9, 0, 7, 3, 5, 1, 5, 9, 0, 4, 2, 8, 6, 6, 3, 9, 0, 8, 4, 9, 9, 7, 8, 1, 8, 0, 9, 7, 1, 9, 2, 5, 1, 3, 0, 2, 7, 6, 2, 3, 9, 7, 2, 7, 0, 7, 7, 6, 0, 6, 8, 4, 7, 5, 3, 2, 3, 2, 2, 3, 4, 4, 4, 7, 4, 0, 7, 9, 6, 2, 3, 2, 5, 3, 9, 8, 6, 7, 5, 0, 6, 7, 8, 0, 2, 7, 9, 2, 5, 5, 3, 4, 5, 7, 1, 3, 5, 3, 8, 0, 0, 2, 4, 1, 7, 8, 8, 3, 1, 5, 2, 6, 8, 3, 3, 8, 0, 5, 8, 1, 5, 4, 3, 6, 6, 8, 0, 5, 4, 0, 6, 0, 5, 9, 3, 3, 0, 1, 1, 2, 2, 2, 8, 9, 0, 8, 0, 9, 8, 2, 9, 4, 3, 2, 9, 2, 9, 4, 1, 7, 2, 1, 3, 3, 7, 1, 1, 7, 7, 9, 9, 3, 5, 8, 3, 5, 1, 4, 6, 9, 4, 0, 3, 6, 3, 6, 6, 2, 9, 9, 9, 7, 8, 6, 6, 0, 9, 1, 3, 1, 4, 6, 2, 0, 2, 2, 2, 8, 3, 2, 0, 1, 0, 1, 7, 6, 9, 4, 9, 9, 4, 7, 8, 9, 7, 9, 6, 3, 9, 5, 0, 8, 7, 0, 6, 8, 1, 5, 7, 5, 4, 7, 8, 8, 3, 3, 2, 3, 6, 3, 8, 5, 5, 2, 5, 2, 4, 2, 9, 3, 9, 9, 2, 6, 9, 6, 0, 0, 9, 0, 8, 2, 1, 7, 6, 2, 0, 1, 6, 2, 3, 8, 9, 2, 2, 5, 8, 2, 0, 7, 7, 1, 1, 0, 8, 6, 7, 4, 4, 7, 1, 2, 0, 3, 4, 2, 7, 7, 1, 3, 4, 1, 3, 6, 3, 6, 6, 9, 5, 2, 4, 5, 1, 3, 6, 4, 6, 2, 0, 2, 7, 1, 9, 8, 2, 4, 6, 6, 3, 6, 8, 2, 8, 6, 1, 8, 7, 3, 6, 6, 5, 7, 0, 2, 1, 3, 4, 9, 2, 3, 9, 2, 7, 1, 3, 2, 0, 3, 3, 9, 0, 4, 0, 6, 9, 5, 3, 7, 4, 5, 0, 1, 5, 0, 4, 2, 3, 4, 0, 1, 0, 5, 8, 4, 0, 3, 5, 8, 6, 9, 4, 4, 7, 4, 3, 5, 0, 9, 2, 3, 6, 9, 8, 2, 5, 8, 7, 0, 2, 2, 5, 6, 7, 2, 2, 5, 1, 8, 5, 7, 2, 2, 8, 3, 7, 7, 5, 6, 4, 4, 1, 5, 8, 9, 0, 8, 8, 2, 3, 6, 2, 9, 8, 0, 2, 0, 5, 4, 8, 7, 4, 6, 6, 2, 9, 2, 2, 6, 2, 4, 0, 7, 6, 2, 1, 2, 6, 4, 4, 5, 2, 6, 7, 9, 6, 2, 4, 9, 8, 2, 4, 9, 6, 7, 8, 1, 0, 9, 8, 6, 4, 3, 8, 4, 7, 6, 1, 9, 1, 4, 3, 0, 4, 8, 0, 9, 0, 0, 3, 2, 7, 1, 4, 2, 8, 4, 7, 8, 4, 3, 1, 0, 3, 2, 4, 2, 2, 7, 9, 4, 1, 4, 2, 3, 9, 8, 2, 9, 1, 6, 6, 9, 6, 1, 4, 0, 9, 9, 3, 9, 6, 8, 9, 0, 7, 0, 0, 2, 8, 9, 1, 1, 3, 7, 0, 6, 7, 7, 0, 0, 6, 0, 3, 9, 5, 6, 6, 1, 7, 6, 3, 9, 8, 7, 8, 0, 4, 3, 8, 0, 1, 0, 7, 3, 0, 6, 2, 8, 2, 8, 4, 9, 6, 3, 4, 3, 9, 7, 1, 3, 2, 6, 2, 5, 5, 2, 9, 6, 8, 6, 7, 0, 8, 9, 4, 0, 2, 1, 5, 1, 6, 8, 1, 0, 2, 5, 2, 9, 8, 5, 3, 6, 5, 7, 2, 1, 8, 3, 8, 0, 4, 8, 0, 9, 5, 0, 2, 6, 0, 2, 6, 3, 3, 6, 2, 8, 1, 2, 6, 8, 1, 2, 9, 5, 4, 0, 0, 1, 8, 2, 0, 7, 9, 9, 2, 0, 4, 7, 0, 6, 0, 3, 1, 8, 2, 2, 6, 2, 7, 6, 0, 0, 5, 1, 6, 3, 7, 8, 1, 5, 5, 2, 0, 6, 4, 5, 4, 3, 7, 7, 1, 5, 8, 1, 8, 3, 3, 6, 8, 5, 0, 9, 8, 6, 2, 5, 1, 5, 0, 9, 8, 0, 6, 5, 8, 2, 0, 0, 4, 2, 2, 8, 3, 1, 3, 5, 8, 1, 0, 6, 8, 3, 1, 6, 0, 0, 2, 1, 8, 2, 6, 9, 6, 3, 7, 5, 3, 7, 2, 1, 9, 9, 0, 0, 3, 6, 2, 6, 9, 2, 1, 4, 3, 0, 3, 1, 8, 7, 8, 7, 1, 3, 5, 1, 1, 4, 2, 3, 4, 9, 2, 0, 1, 5, 3, 1, 4, 0, 6, 0, 7, 1, 7, 1, 2, 7, 4, 0, 9, 6, 2, 6, 3, 2, 4, 7, 5, 1, 0, 4, 3, 5, 9, 1, 4, 3, 1, 3, 5, 5, 7, 6, 9, 6, 7, 5, 6, 9, 8, 5, 1, 3, 0, 6, 7, 8, 7, 6, 7, 4, 7, 6, 3, 7, 3, 6, 1, 8, 2, 7, 8, 7, 9, 4, 1, 8, 8, 7, 3, 8, 8, 5, 0, 2, 7, 8, 9, 9, 7, 7, 2, 3, 1, 4, 8, 5, 9, 0, 4, 6, 1, 5, 3, 8, 3, 0, 1, 8, 1, 4, 6, 8, 7, 2, 8, 0, 5, 3, 4, 6, 3, 0, 2, 4, 4, 9, 1, 5, 1, 0, 2, 4, 4, 1, 2, 4, 5, 5, 9, 9, 2, 2, 9, 4, 4, 9, 6, 2, 5, 2, 2, 0, 2, 7, 9, 5, 0, 7, 0, 8, 0, 1, 7, 8, 2, 7, 4, 0, 8, 9, 4, 9, 3, 5, 0, 3, 3, 8, 0, 7, 0, 6, 7, 2, 0, 3, 6, 2, 1, 8, 6, 0, 1, 3, 8, 0, 3, 6, 3, 8, 1, 1, 2, 6, 8, 8, 9, 4, 9, 5, 7, 9, 6, 6, 4, 9, 0, 4, 0, 1, 3, 0, 0, 5, 9, 7, 2, 1, 6, 7, 2, 2, 1, 8, 8, 8, 9, 6, 2, 9, 9, 7, 4, 0, 9, 6, 8, 3, 4, 9, 7, 9, 5, 4, 7, 0, 4, 6, 4, 4, 4, 9, 7, 7, 8, 0, 0, 5, 6, 7, 2, 1, 3, 7, 8, 0, 1, 3, 8, 4, 3, 1, 2, 8, 4, 4, 5, 1, 4, 0, 3, 8, 8, 7, 1, 1, 6, 8, 2, 8, 6, 3, 4, 5, 9, 4, 2, 3, 1, 2, 0, 8, 3, 5, 8, 5, 2, 2, 3, 0, 1, 1, 4, 8, 2, 4, 6, 0, 6, 5, 8, 4, 3, 3, 3, 2, 9, 5, 7, 4, 7, 2, 5, 9, 5, 4, 7, 8, 4, 3, 2, 3, 6, 9, 2, 6, 3, 4, 4, 6, 1, 9, 5, 5, 2, 2, 9, 0, 8, 7, 8, 0, 8, 6, 2, 5, 5, 0, 5, 4, 2, 6, 0, 9, 8, 5, 9, 6, 1, 9, 3, 7, 1, 3, 7, 4, 1, 1, 7, 6, 9, 5, 8, 0, 8, 5, 3, 8, 0, 1, 4, 8, 6, 6, 9, 5, 8, 0, 7, 3, 4, 9, 2, 9, 4, 3, 1, 0, 8, 5, 3, 2, 4, 5, 2, 1, 3, 8, 8, 4, 9, 7, 9, 5, 7, 0, 7, 7, 8, 8, 8, 7, 1, 2, 0, 0, 0, 7, 6, 6, 8, 6, 1, 3, 0, 2, 6, 3, 6, 8, 0, 5, 6, 3, 0, 2, 7, 7, 0, 1, 4, 8, 5, 5, 1, 9, 5, 4, 4, 2, 0, 1, 7, 6, 6, 7, 0, 6, 4, 9, 8, 8, 9, 3, 3, 1, 0, 4, 4, 7, 0, 5, 7, 6, 7, 8, 1, 3, 4, 6, 7, 0, 4, 3, 2, 5, 3, 7, 3, 7, 1, 9, 1, 3, 4, 0, 1, 7, 4, 2, 4, 3, 5, 4, 0, 6, 2, 2, 6, 9, 3, 3, 9, 9, 8, 1, 5, 1, 7, 0, 3, 1, 9, 2, 6, 4, 8, 2, 1, 7, 0, 0, 1, 8, 7, 4, 9, 9, 7, 0, 5, 1, 5, 8, 6, 8, 5, 6, 3, 6, 1, 1, 4, 6, 4, 3, 6, 8, 8, 5, 3, 9, 7, 2, 7, 1, 5, 9, 1, 3, 9, 5, 0, 4, 6, 3, 5, 3, 3, 6, 1, 3, 2, 3, 2, 2, 6, 8, 0, 1, 2, 7, 8, 5, 6, 2, 8, 4, 6, 8, 8, 8, 2, 4, 8, 7, 1, 6, 7, 3, 7, 7, 4, 0, 1, 3, 9, 2, 0, 0, 5, 4, 7, 8, 6, 8, 7, 8, 4, 3, 3, 1, 3, 6, 5, 6, 0, 3, 5, 2, 3, 7, 7, 8, 6, 3, 6, 9, 5, 9, 2, 1, 2, 3, 5, 2, 2, 2, 1, 3, 3, 5, 8, 7, 9, 3, 4, 2, 7, 1, 7, 8, 2, 2, 3, 9, 5, 5, 7, 7, 3, 9, 0, 5, 5, 6, 6, 9, 8, 6, 5, 9, 2, 0, 7, 9, 7, 7, 1, 2, 0, 3, 2, 8, 0, 3, 3, 6, 3, 0, 5, 2, 6, 4, 7, 8, 0, 1, 8, 7, 1, 2, 9, 2, 5, 7, 6, 3, 6, 7, 0, 4, 5, 1, 9, 4, 6, 0, 5, 8, 4, 0, 4, 3, 3, 1, 5, 1, 5, 1, 2, 1, 0, 9, 6, 7, 5, 9, 9, 8, 4, 7, 7, 5, 6, 3, 9, 0, 4, 4, 0, 8, 5, 8, 1, 5, 5, 5, 7, 8, 5, 0, 7, 0, 4, 4, 4, 5, 6, 4, 2, 8, 2, 6, 8, 1, 2, 3, 8, 9, 8, 3, 9, 9, 6, 0, 1, 2, 7, 7, 3, 3, 1, 1, 9, 7, 2, 1, 8, 8, 2, 7, 8, 5, 0, 4, 3, 8, 8, 4, 3, 3, 2, 4, 0, 7, 7, 1, 9, 0, 4, 2, 2, 8, 7, 4, 3, 7, 4, 2, 3, 4, 0, 5, 3, 3, 0, 1, 2, 5, 0, 7, 5, 7, 2, 7, 8, 7, 4, 9, 1, 5, 0, 8, 2, 9, 2, 1, 0, 1, 2, 6, 9, 2, 8, 3, 5, 3, 5, 9, 1, 4, 7, 1, 8, 1, 8, 8, 9, 4, 6, 1, 9, 9, 3, 4, 1, 2, 4, 3, 5, 9, 0, 7, 2, 8, 2, 9, 9, 9, 9, 0, 7, 8, 2, 3, 3, 1, 9, 9, 8, 8, 3, 5, 1, 2, 1, 7, 2, 0, 7, 3, 8, 1, 7, 0, 6, 4, 0, 8, 1, 8, 7, 7, 4, 7, 3, 0, 9, 6, 7, 5, 9, 7, 4, 6, 2, 9, 6, 7, 1, 3, 7, 0, 3, 1, 4, 7, 5, 2, 0, 4, 4, 9, 7, 4, 9, 0, 9, 0, 2, 1, 6, 6, 3, 6, 4, 9, 2, 2, 3, 1, 1, 0, 7, 1, 2, 7, 9, 0, 4, 0, 6, 7, 1, 0, 9, 7, 5, 0, 8, 4, 8, 1, 0, 5, 0, 3, 6, 2, 0, 8, 2, 7, 6, 0, 8, 5, 5, 2, 8, 9, 4, 2, 0, 9, 3, 8, 1, 0, 6, 7, 2, 7, 0, 3, 1, 9, 2, 1, 9, 7, 3, 0, 6, 4, 2, 2, 5, 3, 7, 8, 8, 5, 7, 4, 2, 7, 4, 4, 0, 3, 8, 9, 9, 2, 8, 8, 8, 0, 3, 1, 1, 1, 0, 9, 0, 4, 1, 7, 4, 7, 6, 1, 1, 4, 3, 7, 1, 5, 6, 9, 5, 8, 9, 3, 2, 9, 1, 3, 3, 9, 6, 3, 6, 7, 9, 1, 7, 3, 2, 5, 4, 9, 7, 2, 6, 2, 8, 6, 5, 7, 7, 3, 5, 8, 0, 0, 4, 2, 2, 5, 1, 9, 5, 9, 6, 5, 0, 8, 3, 3, 7, 6, 1, 8, 3, 8, 8, 0, 8, 4, 0, 7, 8, 6, 1, 4, 6, 5, 0, 4, 9, 7, 1, 9, 6, 6, 6, 5, 4, 8, 8, 7, 2, 4, 5, 7, 5, 0, 0, 0, 8, 0, 7, 7, 0, 2, 6, 9, 3, 9, 8, 7, 2, 9, 7, 3, 9, 5, 9, 9, 0, 7, 5, 8, 4, 5, 8, 7, 8, 9, 1, 0, 2, 7, 7, 4, 7, 0, 6, 3, 9, 7, 2, 5, 0, 1, 2, 9, 1, 5, 4, 0, 6, 4, 9, 5, 3, 0, 2, 0, 1, 4, 9, 8, 0, 5, 7, 4, 4, 2, 0, 2, 4, 2, 1, 8, 3, 9, 0, 1, 0, 4, 7, 6, 5, 0, 5, 6, 1, 0, 0, 0, 7, 0, 3, 7, 7, 3, 7, 7, 8, 4, 4, 8, 3, 3, 0, 6, 4, 1, 0, 0, 2, 1, 2, 1, 1, 7, 3, 7, 6, 8, 6, 3, 4, 6, 4, 4, 3, 3, 4, 2, 3, 1, 3, 8, 5, 1, 2, 4, 0, 3, 6, 2, 2, 1, 2, 9, 0, 6, 9, 2, 4, 1, 3, 9, 7, 6, 0, 9, 5, 8, 3, 7, 2, 3, 4, 4, 8, 4, 6, 2, 1, 7, 9, 9, 8, 1, 2, 8, 3, 5, 1, 6, 9, 0, 9, 4, 7, 1, 0, 7, 0, 5, 3, 7, 5, 6, 9, 9, 4, 6, 4, 8, 9, 7, 9, 7, 1, 7, 1, 2, 6, 7, 8, 0, 8, 2, 5, 9, 7, 1, 2, 6, 0, 5, 6, 6, 1, 0, 0, 2, 4, 9, 8, 4, 6, 8, 0, 2, 8, 4, 9, 7, 4, 1, 1, 7, 4, 1, 5, 7, 6, 2, 2, 3, 0, 7, 4, 0, 7, 2, 6, 0, 3, 6, 1, 2, 3, 3, 5, 7, 0, 5, 6, 2, 3, 6, 1, 4, 4, 0, 9, 8, 9, 8, 7, 4, 8, 4, 3, 9, 7, 8, 3, 8, 3, 6, 7, 3, 0, 1, 2, 3, 8, 2, 0, 8, 0, 1, 4, 2, 2, 3, 4, 0, 7, 2, 2, 2, 9, 4, 5, 1, 0, 5, 9, 6, 1, 5, 0, 7, 6, 4, 2, 5, 3, 7, 9, 3, 9, 1, 8, 1, 6, 2, 3, 4, 8, 0, 9, 1, 9, 4, 4, 6, 2, 6, 0, 3, 7, 0, 8, 7, 8, 9, 9, 0, 7, 7, 3, 2, 6, 0, 2, 6, 3, 5, 2, 1, 1, 1, 0, 1, 0, 8, 0, 6, 6, 4, 2, 8, 1, 9, 3, 9, 7, 8, 8, 4, 6, 2, 1, 7, 6, 8, 0, 7, 7, 5, 7, 2, 4, 3, 3, 6, 7, 6, 1, 9, 2, 9, 4, 4, 1, 0, 1, 4, 5, 4, 4, 6, 8, 5, 2, 3, 5, 2, 8, 5, 5, 3, 0, 8, 3, 3, 3, 9, 0, 3, 0, 3, 0, 3, 2, 9, 7, 5, 4, 9, 2, 4, 0, 1, 0, 6, 3, 0, 2, 8, 1, 3, 5, 5, 8, 9, 2, 7, 1, 6, 4, 6, 7, 2, 0, 4, 9, 6, 1, 8, 0, 4, 9, 5, 1, 6, 1, 1, 0, 9, 5, 9, 7, 9, 1, 0, 0, 0, 1, 7, 5, 8, 9, 7, 9, 9, 4, 6, 7, 7, 3, 6, 8, 0, 2, 0, 3, 1, 6, 2, 9, 6, 1, 8, 8, 1, 2, 8, 6, 1, 4, 2, 5, 2, 6, 0, 1, 9, 7, 5, 7, 3, 1, 6, 1, 0, 7, 5, 4, 2, 7, 3, 7, 3, 6, 4, 9, 5, 5, 1, 4, 6, 3, 9, 7, 8, 1, 8, 5, 7, 0, 6, 8, 5, 2, 6, 4, 1, 5, 4, 7, 5, 8, 3, 2, 1, 9, 2, 2, 5, 6, 1, 4, 4, 1, 1, 8, 1, 4, 7, 9, 3, 6, 8, 1, 5, 3, 9, 2, 4, 2, 5, 0, 4, 2, 1, 8, 4, 5, 4, 1, 6, 5, 5, 8, 2, 2, 9, 0, 7, 3, 8, 2, 8, 8, 4, 7, 4, 6, 7, 4, 4, 1, 5, 7, 9, 2, 6, 1, 0, 7, 1, 0, 9, 3, 7, 6, 7, 7, 1, 6, 7, 4, 3, 1, 7, 0, 5, 6, 7, 6, 6, 5, 7, 3, 4, 6, 0, 0, 6, 4, 2, 1, 4, 6, 3, 0, 9, 9, 5, 4, 2, 6, 0, 2, 4, 0, 1, 1, 0, 5, 9, 1, 1, 9, 9, 2, 4, 1, 0, 8, 3, 1, 8, 7, 2, 9, 8, 8, 0, 7, 9, 7, 2, 4, 1, 6, 9, 4, 8, 3, 6, 1, 3, 2, 3, 7, 5, 4, 3, 4, 2, 0, 7, 1, 6, 8, 1, 8, 1, 3, 0, 1, 0, 4, 8, 4, 5, 5, 2, 1, 8, 3, 8, 7, 8, 4, 2, 3, 6, 4, 5, 3, 1, 8, 0, 2, 7, 3, 7, 8, 5, 7, 6, 6, 3, 8, 5, 7, 1, 9, 6, 0, 5, 0, 2, 7, 9, 7, 8, 5, 5, 2, 1, 8, 7, 1, 7, 3, 5, 0, 0, 9, 6, 7, 6, 6, 2, 4, 9, 8, 6, 8, 2, 5, 8, 9, 5, 6, 2, 7, 1, 7, 9, 5, 3, 1, 3, 8, 9, 6, 4, 9, 1, 8, 0, 8, 6, 2, 9, 9, 2, 1, 7, 6, 3, 1, 7, 7, 0, 8, 3, 4, 7, 2, 9, 5, 1, 0, 7, 6, 7, 8, 4, 5, 3, 0, 8, 2, 8, 0, 5, 0, 5, 0, 1, 9, 2, 3, 7, 3, 9, 9, 5, 8, 1, 0, 2, 9, 3, 3, 2, 6, 6, 8, 7, 7, 0, 9, 1, 7, 3, 3, 7, 5, 8, 0, 4, 9, 8, 2, 3, 9, 3, 3, 4, 2, 4, 5, 9, 1, 4, 0, 2, 7, 5, 3, 1, 6, 1, 8, 4, 8, 7, 5, 2, 5, 1, 7, 4, 8, 0, 5, 7, 4, 8, 2, 5, 9, 3, 4, 5, 6, 7, 5, 9, 8, 3, 7, 7, 3, 2, 8, 2, 2, 0, 1, 2, 0, 4, 1, 5, 0, 1, 4, 3, 1, 9, 4, 4, 5, 4, 5, 8, 0, 5, 0, 0, 9, 3, 2, 5, 9, 7, 4, 8, 7, 8, 0, 9, 6, 3, 3, 0, 7, 6, 6, 8, 8, 2, 1, 4, 9, 6, 9, 7, 5, 0, 4, 2, 9, 2, 8, 6, 6, 8, 3, 2, 0, 9, 1, 5, 3, 1, 0, 4, 9, 5, 9, 6, 3, 0, 9, 6, 7, 6, 7, 3, 0, 3, 3, 1, 8, 7, 2, 8, 7, 7, 0, 0, 6, 2, 8, 1, 0, 5, 9, 2, 5, 9, 2, 4, 0, 4, 0, 8, 4, 3, 1, 6, 4, 4, 1, 0, 9, 8, 8, 1, 1, 9, 8, 6, 4, 1, 8, 8, 1, 5, 1, 6, 3, 3, 5, 5, 4, 1, 2, 3, 6, 3, 8, 6, 1, 3, 4, 7, 9, 1, 5, 7, 3, 0, 6, 3, 4, 8, 2, 8, 6, 7, 5, 8, 8, 3, 2, 1, 6, 9, 8, 9, 0, 9, 1, 5, 9, 4, 6, 2, 2, 2, 5, 1, 9, 4, 0, 1, 1, 3, 4, 0, 6, 9, 8, 6, 7, 6, 4, 0, 6, 8, 0, 2, 5, 1, 5, 4, 4, 7, 1, 1, 0, 7, 7, 0, 9, 9, 2, 6, 5, 9, 1, 9, 6, 7, 9, 9, 2, 8, 2, 6, 0, 1, 1, 3, 1, 7, 2, 3, 9, 9, 1, 9, 3, 4, 0, 3, 3, 5, 0, 4, 8, 0, 3, 6, 0, 1, 9, 3, 1, 1, 0, 4, 5, 2, 2, 9, 6, 7, 6, 1, 9, 7, 9, 7, 3, 9, 2]\n"
          ]
        }
      ]
    },
    {
      "cell_type": "code",
      "source": [
        "answer = pd.DataFrame([np.argmax(i) for i in df_test_pred], columns=['Label'])\n",
        "answer = answer.reset_index().rename(columns={'index': \"ImageId\"})\n",
        "answer['ImageId'] = answer['ImageId'] + 1"
      ],
      "metadata": {
        "id": "YpjoMwc5zUGo"
      },
      "execution_count": 24,
      "outputs": []
    },
    {
      "cell_type": "code",
      "source": [
        "answer"
      ],
      "metadata": {
        "colab": {
          "base_uri": "https://localhost:8080/",
          "height": 423
        },
        "id": "b5jFtaoGzffK",
        "outputId": "59f5d365-8abe-4793-b427-b7cc806ce601"
      },
      "execution_count": 25,
      "outputs": [
        {
          "output_type": "execute_result",
          "data": {
            "text/plain": [
              "       ImageId  Label\n",
              "0            1      2\n",
              "1            2      0\n",
              "2            3      9\n",
              "3            4      9\n",
              "4            5      3\n",
              "...        ...    ...\n",
              "27995    27996      9\n",
              "27996    27997      7\n",
              "27997    27998      3\n",
              "27998    27999      9\n",
              "27999    28000      2\n",
              "\n",
              "[28000 rows x 2 columns]"
            ],
            "text/html": [
              "\n",
              "  <div id=\"df-399aa2c6-17f9-479a-be40-479162284198\" class=\"colab-df-container\">\n",
              "    <div>\n",
              "<style scoped>\n",
              "    .dataframe tbody tr th:only-of-type {\n",
              "        vertical-align: middle;\n",
              "    }\n",
              "\n",
              "    .dataframe tbody tr th {\n",
              "        vertical-align: top;\n",
              "    }\n",
              "\n",
              "    .dataframe thead th {\n",
              "        text-align: right;\n",
              "    }\n",
              "</style>\n",
              "<table border=\"1\" class=\"dataframe\">\n",
              "  <thead>\n",
              "    <tr style=\"text-align: right;\">\n",
              "      <th></th>\n",
              "      <th>ImageId</th>\n",
              "      <th>Label</th>\n",
              "    </tr>\n",
              "  </thead>\n",
              "  <tbody>\n",
              "    <tr>\n",
              "      <th>0</th>\n",
              "      <td>1</td>\n",
              "      <td>2</td>\n",
              "    </tr>\n",
              "    <tr>\n",
              "      <th>1</th>\n",
              "      <td>2</td>\n",
              "      <td>0</td>\n",
              "    </tr>\n",
              "    <tr>\n",
              "      <th>2</th>\n",
              "      <td>3</td>\n",
              "      <td>9</td>\n",
              "    </tr>\n",
              "    <tr>\n",
              "      <th>3</th>\n",
              "      <td>4</td>\n",
              "      <td>9</td>\n",
              "    </tr>\n",
              "    <tr>\n",
              "      <th>4</th>\n",
              "      <td>5</td>\n",
              "      <td>3</td>\n",
              "    </tr>\n",
              "    <tr>\n",
              "      <th>...</th>\n",
              "      <td>...</td>\n",
              "      <td>...</td>\n",
              "    </tr>\n",
              "    <tr>\n",
              "      <th>27995</th>\n",
              "      <td>27996</td>\n",
              "      <td>9</td>\n",
              "    </tr>\n",
              "    <tr>\n",
              "      <th>27996</th>\n",
              "      <td>27997</td>\n",
              "      <td>7</td>\n",
              "    </tr>\n",
              "    <tr>\n",
              "      <th>27997</th>\n",
              "      <td>27998</td>\n",
              "      <td>3</td>\n",
              "    </tr>\n",
              "    <tr>\n",
              "      <th>27998</th>\n",
              "      <td>27999</td>\n",
              "      <td>9</td>\n",
              "    </tr>\n",
              "    <tr>\n",
              "      <th>27999</th>\n",
              "      <td>28000</td>\n",
              "      <td>2</td>\n",
              "    </tr>\n",
              "  </tbody>\n",
              "</table>\n",
              "<p>28000 rows × 2 columns</p>\n",
              "</div>\n",
              "    <div class=\"colab-df-buttons\">\n",
              "\n",
              "  <div class=\"colab-df-container\">\n",
              "    <button class=\"colab-df-convert\" onclick=\"convertToInteractive('df-399aa2c6-17f9-479a-be40-479162284198')\"\n",
              "            title=\"Convert this dataframe to an interactive table.\"\n",
              "            style=\"display:none;\">\n",
              "\n",
              "  <svg xmlns=\"http://www.w3.org/2000/svg\" height=\"24px\" viewBox=\"0 -960 960 960\">\n",
              "    <path d=\"M120-120v-720h720v720H120Zm60-500h600v-160H180v160Zm220 220h160v-160H400v160Zm0 220h160v-160H400v160ZM180-400h160v-160H180v160Zm440 0h160v-160H620v160ZM180-180h160v-160H180v160Zm440 0h160v-160H620v160Z\"/>\n",
              "  </svg>\n",
              "    </button>\n",
              "\n",
              "  <style>\n",
              "    .colab-df-container {\n",
              "      display:flex;\n",
              "      gap: 12px;\n",
              "    }\n",
              "\n",
              "    .colab-df-convert {\n",
              "      background-color: #E8F0FE;\n",
              "      border: none;\n",
              "      border-radius: 50%;\n",
              "      cursor: pointer;\n",
              "      display: none;\n",
              "      fill: #1967D2;\n",
              "      height: 32px;\n",
              "      padding: 0 0 0 0;\n",
              "      width: 32px;\n",
              "    }\n",
              "\n",
              "    .colab-df-convert:hover {\n",
              "      background-color: #E2EBFA;\n",
              "      box-shadow: 0px 1px 2px rgba(60, 64, 67, 0.3), 0px 1px 3px 1px rgba(60, 64, 67, 0.15);\n",
              "      fill: #174EA6;\n",
              "    }\n",
              "\n",
              "    .colab-df-buttons div {\n",
              "      margin-bottom: 4px;\n",
              "    }\n",
              "\n",
              "    [theme=dark] .colab-df-convert {\n",
              "      background-color: #3B4455;\n",
              "      fill: #D2E3FC;\n",
              "    }\n",
              "\n",
              "    [theme=dark] .colab-df-convert:hover {\n",
              "      background-color: #434B5C;\n",
              "      box-shadow: 0px 1px 3px 1px rgba(0, 0, 0, 0.15);\n",
              "      filter: drop-shadow(0px 1px 2px rgba(0, 0, 0, 0.3));\n",
              "      fill: #FFFFFF;\n",
              "    }\n",
              "  </style>\n",
              "\n",
              "    <script>\n",
              "      const buttonEl =\n",
              "        document.querySelector('#df-399aa2c6-17f9-479a-be40-479162284198 button.colab-df-convert');\n",
              "      buttonEl.style.display =\n",
              "        google.colab.kernel.accessAllowed ? 'block' : 'none';\n",
              "\n",
              "      async function convertToInteractive(key) {\n",
              "        const element = document.querySelector('#df-399aa2c6-17f9-479a-be40-479162284198');\n",
              "        const dataTable =\n",
              "          await google.colab.kernel.invokeFunction('convertToInteractive',\n",
              "                                                    [key], {});\n",
              "        if (!dataTable) return;\n",
              "\n",
              "        const docLinkHtml = 'Like what you see? Visit the ' +\n",
              "          '<a target=\"_blank\" href=https://colab.research.google.com/notebooks/data_table.ipynb>data table notebook</a>'\n",
              "          + ' to learn more about interactive tables.';\n",
              "        element.innerHTML = '';\n",
              "        dataTable['output_type'] = 'display_data';\n",
              "        await google.colab.output.renderOutput(dataTable, element);\n",
              "        const docLink = document.createElement('div');\n",
              "        docLink.innerHTML = docLinkHtml;\n",
              "        element.appendChild(docLink);\n",
              "      }\n",
              "    </script>\n",
              "  </div>\n",
              "\n",
              "\n",
              "<div id=\"df-92a42983-cc24-4332-993c-0f00aa1fb1b1\">\n",
              "  <button class=\"colab-df-quickchart\" onclick=\"quickchart('df-92a42983-cc24-4332-993c-0f00aa1fb1b1')\"\n",
              "            title=\"Suggest charts\"\n",
              "            style=\"display:none;\">\n",
              "\n",
              "<svg xmlns=\"http://www.w3.org/2000/svg\" height=\"24px\"viewBox=\"0 0 24 24\"\n",
              "     width=\"24px\">\n",
              "    <g>\n",
              "        <path d=\"M19 3H5c-1.1 0-2 .9-2 2v14c0 1.1.9 2 2 2h14c1.1 0 2-.9 2-2V5c0-1.1-.9-2-2-2zM9 17H7v-7h2v7zm4 0h-2V7h2v10zm4 0h-2v-4h2v4z\"/>\n",
              "    </g>\n",
              "</svg>\n",
              "  </button>\n",
              "\n",
              "<style>\n",
              "  .colab-df-quickchart {\n",
              "      --bg-color: #E8F0FE;\n",
              "      --fill-color: #1967D2;\n",
              "      --hover-bg-color: #E2EBFA;\n",
              "      --hover-fill-color: #174EA6;\n",
              "      --disabled-fill-color: #AAA;\n",
              "      --disabled-bg-color: #DDD;\n",
              "  }\n",
              "\n",
              "  [theme=dark] .colab-df-quickchart {\n",
              "      --bg-color: #3B4455;\n",
              "      --fill-color: #D2E3FC;\n",
              "      --hover-bg-color: #434B5C;\n",
              "      --hover-fill-color: #FFFFFF;\n",
              "      --disabled-bg-color: #3B4455;\n",
              "      --disabled-fill-color: #666;\n",
              "  }\n",
              "\n",
              "  .colab-df-quickchart {\n",
              "    background-color: var(--bg-color);\n",
              "    border: none;\n",
              "    border-radius: 50%;\n",
              "    cursor: pointer;\n",
              "    display: none;\n",
              "    fill: var(--fill-color);\n",
              "    height: 32px;\n",
              "    padding: 0;\n",
              "    width: 32px;\n",
              "  }\n",
              "\n",
              "  .colab-df-quickchart:hover {\n",
              "    background-color: var(--hover-bg-color);\n",
              "    box-shadow: 0 1px 2px rgba(60, 64, 67, 0.3), 0 1px 3px 1px rgba(60, 64, 67, 0.15);\n",
              "    fill: var(--button-hover-fill-color);\n",
              "  }\n",
              "\n",
              "  .colab-df-quickchart-complete:disabled,\n",
              "  .colab-df-quickchart-complete:disabled:hover {\n",
              "    background-color: var(--disabled-bg-color);\n",
              "    fill: var(--disabled-fill-color);\n",
              "    box-shadow: none;\n",
              "  }\n",
              "\n",
              "  .colab-df-spinner {\n",
              "    border: 2px solid var(--fill-color);\n",
              "    border-color: transparent;\n",
              "    border-bottom-color: var(--fill-color);\n",
              "    animation:\n",
              "      spin 1s steps(1) infinite;\n",
              "  }\n",
              "\n",
              "  @keyframes spin {\n",
              "    0% {\n",
              "      border-color: transparent;\n",
              "      border-bottom-color: var(--fill-color);\n",
              "      border-left-color: var(--fill-color);\n",
              "    }\n",
              "    20% {\n",
              "      border-color: transparent;\n",
              "      border-left-color: var(--fill-color);\n",
              "      border-top-color: var(--fill-color);\n",
              "    }\n",
              "    30% {\n",
              "      border-color: transparent;\n",
              "      border-left-color: var(--fill-color);\n",
              "      border-top-color: var(--fill-color);\n",
              "      border-right-color: var(--fill-color);\n",
              "    }\n",
              "    40% {\n",
              "      border-color: transparent;\n",
              "      border-right-color: var(--fill-color);\n",
              "      border-top-color: var(--fill-color);\n",
              "    }\n",
              "    60% {\n",
              "      border-color: transparent;\n",
              "      border-right-color: var(--fill-color);\n",
              "    }\n",
              "    80% {\n",
              "      border-color: transparent;\n",
              "      border-right-color: var(--fill-color);\n",
              "      border-bottom-color: var(--fill-color);\n",
              "    }\n",
              "    90% {\n",
              "      border-color: transparent;\n",
              "      border-bottom-color: var(--fill-color);\n",
              "    }\n",
              "  }\n",
              "</style>\n",
              "\n",
              "  <script>\n",
              "    async function quickchart(key) {\n",
              "      const quickchartButtonEl =\n",
              "        document.querySelector('#' + key + ' button');\n",
              "      quickchartButtonEl.disabled = true;  // To prevent multiple clicks.\n",
              "      quickchartButtonEl.classList.add('colab-df-spinner');\n",
              "      try {\n",
              "        const charts = await google.colab.kernel.invokeFunction(\n",
              "            'suggestCharts', [key], {});\n",
              "      } catch (error) {\n",
              "        console.error('Error during call to suggestCharts:', error);\n",
              "      }\n",
              "      quickchartButtonEl.classList.remove('colab-df-spinner');\n",
              "      quickchartButtonEl.classList.add('colab-df-quickchart-complete');\n",
              "    }\n",
              "    (() => {\n",
              "      let quickchartButtonEl =\n",
              "        document.querySelector('#df-92a42983-cc24-4332-993c-0f00aa1fb1b1 button');\n",
              "      quickchartButtonEl.style.display =\n",
              "        google.colab.kernel.accessAllowed ? 'block' : 'none';\n",
              "    })();\n",
              "  </script>\n",
              "</div>\n",
              "    </div>\n",
              "  </div>\n"
            ]
          },
          "metadata": {},
          "execution_count": 25
        }
      ]
    },
    {
      "cell_type": "code",
      "source": [
        "answer.to_csv('submission.csv', index=False)"
      ],
      "metadata": {
        "id": "9ywcw1CUzpVg"
      },
      "execution_count": 26,
      "outputs": []
    }
  ]
}